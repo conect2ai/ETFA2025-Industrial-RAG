{
 "cells": [
  {
   "cell_type": "code",
   "execution_count": null,
   "metadata": {},
   "outputs": [],
   "source": [
    "%pip install \"unstructured[md]\" nltk langchain-text-splitters"
   ]
  },
  {
   "cell_type": "markdown",
   "metadata": {},
   "source": [
    "## **Single Document**"
   ]
  },
  {
   "cell_type": "code",
   "execution_count": null,
   "metadata": {},
   "outputs": [],
   "source": [
    "from langchain_text_splitters import RecursiveCharacterTextSplitter\n",
    "from langchain_text_splitters import MarkdownHeaderTextSplitter\n",
    "from langchain.document_loaders import TextLoader\n",
    "\n",
    "# Load\n",
    "markdown_path = \"./Processed_Files_Introduction_to_End/CANopen_Integration_7012_V10_Mar11.md\"\n",
    "loader = TextLoader(markdown_path, autodetect_encoding=True)\n",
    "doc = loader.load()\n",
    "doc[0]"
   ]
  },
  {
   "cell_type": "code",
   "execution_count": null,
   "metadata": {},
   "outputs": [],
   "source": [
    "headers_to_split_on = [\n",
    "    (\"#\", \"Header 1\"),\n",
    "    (\"###\", \"Header 3\"),\n",
    "    (\"####\", \"Header 4\"),\n",
    "]\n",
    "\n",
    "# MD splits\n",
    "markdown_splitter = MarkdownHeaderTextSplitter(\n",
    "    headers_to_split_on=headers_to_split_on, strip_headers=False\n",
    ")\n",
    "md_header_splits = markdown_splitter.split_text(doc[0].page_content)\n",
    "md_header_splits"
   ]
  },
  {
   "cell_type": "code",
   "execution_count": null,
   "metadata": {},
   "outputs": [],
   "source": [
    "# Char-level splits\n",
    "chunk_size = 1000\n",
    "chunk_overlap = 200\n",
    "text_splitter = RecursiveCharacterTextSplitter(\n",
    "    chunk_size=chunk_size, chunk_overlap=chunk_overlap\n",
    ")\n",
    "\n",
    "# Split\n",
    "splits = text_splitter.split_documents(md_header_splits)\n",
    "splits"
   ]
  },
  {
   "cell_type": "markdown",
   "metadata": {},
   "source": [
    "## **All Documents**"
   ]
  },
  {
   "cell_type": "code",
   "execution_count": 77,
   "metadata": {},
   "outputs": [],
   "source": [
    "import glob\n",
    "import os\n",
    "from langchain_core.documents import Document"
   ]
  },
  {
   "cell_type": "code",
   "execution_count": 78,
   "metadata": {},
   "outputs": [],
   "source": [
    "# 1. Path/pattern for markdown files\n",
    "folder_path = \"./Processed_Files_Introduction_to_End/*.md\"\n",
    "\n",
    "# 2. Parameters for the Header Splitter\n",
    "headers_to_split_on = [\n",
    "    (\"#\", \"Header 1\"),\n",
    "    (\"##\", \"Header 2\"),\n",
    "    (\"###\", \"Header 3\"),\n",
    "    (\"####\", \"Header 4\"),\n",
    "]\n",
    "markdown_splitter = MarkdownHeaderTextSplitter(\n",
    "    headers_to_split_on=headers_to_split_on, \n",
    "    strip_headers=False\n",
    ")\n",
    "\n",
    "# 3. Parameters for the character-level splitter\n",
    "chunk_size = 1000\n",
    "chunk_overlap = 200\n",
    "text_splitter = RecursiveCharacterTextSplitter(\n",
    "    chunk_size=chunk_size, \n",
    "    chunk_overlap=chunk_overlap\n",
    ")\n",
    "\n",
    "# Final list for all splits from all files\n",
    "all_splits = []\n",
    "\n",
    "for file_path in glob.glob(folder_path):\n",
    "    # a) Load the file as raw text (preserving Markdown)\n",
    "    loader = TextLoader(file_path, autodetect_encoding=True)\n",
    "    docs = loader.load()  # usually returns a list [Document]\n",
    "    \n",
    "    # b) For each Document, perform two splits\n",
    "    for doc in docs:\n",
    "        md_header_splits = markdown_splitter.split_text(doc.page_content)\n",
    "        splits = text_splitter.split_documents(md_header_splits)\n",
    "        \n",
    "        # c) Use the base file name as \"name_file\" (without the path and without extension)\n",
    "        filename = os.path.splitext(os.path.basename(file_path))[0]\n",
    "\n",
    "        for splitted_doc in splits:\n",
    "            splitted_doc.metadata[\"name_file\"] = filename\n",
    "            # Optionally, remove the original \"source\" if not needed:\n",
    "            # splitted_doc.metadata.pop(\"source\", None)\n",
    "\n",
    "        all_splits.extend(splits)"
   ]
  },
  {
   "cell_type": "code",
   "execution_count": null,
   "metadata": {},
   "outputs": [],
   "source": [
    "min_size = 1000  # Minimum size for the merged chunks\n",
    "merged_documents = []  # List to store merged documents\n",
    "buffer_content = \"\"\n",
    "buffer_metadata = {}\n",
    "\n",
    "for doc in all_splits:\n",
    "    text = doc.page_content.strip()  # remove extra spaces if necessary\n",
    "    # If there is no content accumulated in the buffer and the chunk is small,\n",
    "    # initialize the buffer with this chunk.\n",
    "    if not buffer_content and len(text) < min_size:\n",
    "        buffer_content = text\n",
    "        buffer_metadata = doc.metadata\n",
    "    # If there is already content in the buffer, concatenate it with the current chunk.\n",
    "    elif buffer_content:\n",
    "        buffer_content += \"\\n\" + text  # add a line break to separate the texts\n",
    "        # When the buffer reaches or exceeds the minimum size, create a Document\n",
    "        if len(buffer_content) >= min_size:\n",
    "            merged_documents.append(\n",
    "                Document(page_content=buffer_content, metadata=buffer_metadata)\n",
    "            )\n",
    "            buffer_content = \"\"\n",
    "            buffer_metadata = {}\n",
    "    # If the current chunk is already large enough and there is nothing in the buffer, add it directly.\n",
    "    elif len(text) >= min_size:\n",
    "        merged_documents.append(Document(page_content=text, metadata=doc.metadata))\n",
    "\n",
    "# If there is remaining content in the buffer, add it as well.\n",
    "if buffer_content:\n",
    "    merged_documents.append(Document(page_content=buffer_content, metadata=buffer_metadata))\n",
    "\n",
    "# Example of printing the results:\n",
    "for i, document in enumerate(merged_documents):\n",
    "    print(f\"Document {i+1}:\")\n",
    "    print(\"Metadata:\", document.metadata)\n",
    "    print(\"Content (first 200 characters):\", document.page_content[:200])\n",
    "    print(\"-\" * 50)"
   ]
  },
  {
   "cell_type": "code",
   "execution_count": null,
   "metadata": {},
   "outputs": [],
   "source": [
    "print(f\"Generated {len(all_splits)} chunks in total.\")"
   ]
  },
  {
   "cell_type": "code",
   "execution_count": null,
   "metadata": {},
   "outputs": [],
   "source": [
    "print(f\"Generated {len(merged_documents)} chunks in total.\")"
   ]
  },
  {
   "cell_type": "code",
   "execution_count": null,
   "metadata": {},
   "outputs": [],
   "source": [
    "merged_documents"
   ]
  },
  {
   "cell_type": "markdown",
   "metadata": {},
   "source": [
    "## **RAG**"
   ]
  },
  {
   "cell_type": "code",
   "execution_count": 2,
   "metadata": {},
   "outputs": [],
   "source": [
    "from langchain_ollama import OllamaEmbeddings\n",
    "from langchain.vectorstores import FAISS\n",
    "from langchain_ollama import ChatOllama\n",
    "from typing_extensions import TypedDict\n",
    "from typing import List\n",
    "from langchain.schema import Document\n",
    "from langchain.retrievers.multi_query import MultiQueryRetriever\n",
    "from langchain_core.output_parsers import BaseOutputParser\n",
    "from langchain_core.prompts import PromptTemplate\n",
    "from pydantic import BaseModel, Field\n",
    "from langgraph.graph import START, StateGraph\n",
    "from IPython.display import Image, display\n",
    "from langchain_core.output_parsers import StrOutputParser\n",
    "from pprint import pprint\n",
    "from langchain_core.prompts import ChatPromptTemplate\n",
    "from operator import itemgetter\n",
    "from langchain_core.runnables import RunnablePassthrough, RunnableLambda\n",
    "import textwrap"
   ]
  },
  {
   "cell_type": "code",
   "execution_count": 3,
   "metadata": {},
   "outputs": [],
   "source": [
    "# Example embeddings (you can use OpenAIEmbeddings or another)\n",
    "embeddings = OllamaEmbeddings(model=\"nomic-embed-text:latest\")\n",
    "\n",
    "# # Create an in-memory local vector store (FAISS)\n",
    "# vector_store = FAISS.from_documents(splits, embedding=embeddings)"
   ]
  },
  {
   "cell_type": "code",
   "execution_count": 4,
   "metadata": {},
   "outputs": [],
   "source": [
    "vector_store = FAISS.load_local(\"faiss_index\", embeddings, allow_dangerous_deserialization=True)"
   ]
  },
  {
   "cell_type": "code",
   "execution_count": 5,
   "metadata": {},
   "outputs": [],
   "source": [
    "# Example of an LLM\n",
    "llm = ChatOllama(temperature=0, model=\"gemma3:12b\")"
   ]
  },
  {
   "cell_type": "code",
   "execution_count": 6,
   "metadata": {},
   "outputs": [],
   "source": [
    "template = \"\"\"You are a helpful assistant that generates multiple sub-questions related to an input question about PROFIBUS-related documents and specifications in the context of industrial automation. \\n\n",
    "\n",
    "IMPORTANT: FOCUS **ONLY ON PROFIBUS**.  \n",
    "DO NOT INCLUDE **ANYTHING** ABOUT PROFINET.  \n",
    "DO NOT INCLUDE **ANYTHING** ABOUT CANOPEN.  \n",
    "THIS IS **ONLY** ABOUT PROFIBUS.  \n",
    "REPEAT: **PROFIBUS ONLY**.  \n",
    "IGNORE ALL OTHER PROTOCOLS.\n",
    "\n",
    "The goal is to break down the input into a set of sub-problems / sub-questions that can be answered in isolation. \\n\n",
    "Generate multiple search queries related to: {question} \\n\n",
    "Output (5 queries):\n",
    "\"\"\"\n",
    "prompt_decomposition = ChatPromptTemplate.from_template(template)"
   ]
  },
  {
   "cell_type": "code",
   "execution_count": null,
   "metadata": {},
   "outputs": [],
   "source": [
    "# Chain\n",
    "generate_queries_decomposition = ( prompt_decomposition | llm | StrOutputParser() | (lambda x: x.split(\"\\n\")))\n",
    "\n",
    "# Run\n",
    "# 1. What is a GSD file, where can you get it, and what is its function?\n",
    "question = \"What is a GSD file, where can you get it, and what is its function?\"\n",
    "\n",
    "# # 2. What is a token message and how and which devices use it?\n",
    "# question = \"What is a token message and how and which devices use it?\"\n",
    "\n",
    "# 3. Which protocol parameter describes the slave's action time after receiving a message?\n",
    "# question = \"Which protocol parameter describes the slave's action time after receiving a message?\"\n",
    "\n",
    "# 4. How to calculate DP cycle time?\n",
    "# question = \"How to calculate DP cycle time?\"\n",
    "\n",
    "# 5. Briefly explain the function of a watchdog timer in a PROFIBUS DP slave.\n",
    "# question = \"Briefly explain the function of a watchdog timer in a PROFIBUS DP slave.\"\n",
    "\n",
    "# 6. Briefly explain the meaning of “sync” and “freeze” modes. Which device(s) must support these modes?\n",
    "# question = \"Briefly explain the meaning of “sync” and “freeze” modes. Which device(s) must support these modes?\"\n",
    "\n",
    "# 7. Discuss the factors that have a significant effect on the overall cycle time of a DP network.\n",
    "# question = \"Discuss the factors that have a significant effect on the overall cycle time of a DP network.\"\n",
    "\n",
    "# 8. What are the four operating modes of a DP class 1 master? Briefly explain the interaction between the master and its assigned slaves in each mode.\n",
    "# question = \"What are the four operating modes of a DP class 1 master? Briefly explain the interaction between the master and its assigned slaves in each mode.\"\n",
    "\n",
    "# 9. The data unit of a configuration telegram contains the following 3 bytes represented in hexadecimal notation. Decode the meaning of the bytes. \\n- Byte 0:  D1 \\n- Byte 1:  23 \\n- Byte 2:  70\n",
    "# question = \"The data unit of a configuration telegram contains the following 3 bytes represented in hexadecimal notation. Decode the meaning of the bytes. \\n- Byte 0:  D1 \\n- Byte 1:  23 \\n- Byte 2:  70\"\n",
    "\n",
    "# 10. Briefly explain how a slave device, which is in cyclic data exchange, communicates the presence of a diagnostic fault to its controlling master. What does the master do about this?\n",
    "# question = \"Briefly explain how a slave device, which is in cyclic data exchange, communicates the presence of a diagnostic fault to its controlling master. What does the master do about this?\"\n",
    "\n",
    "questions = generate_queries_decomposition.invoke({\"question\":question})"
   ]
  },
  {
   "cell_type": "code",
   "execution_count": null,
   "metadata": {},
   "outputs": [],
   "source": [
    "questions"
   ]
  },
  {
   "cell_type": "code",
   "execution_count": 65,
   "metadata": {},
   "outputs": [],
   "source": [
    "# Prompt\n",
    "template = \"\"\"Here is the question you need to answer in the context of industrial automation and PROFIBUS-related documents and specifications:\n",
    "\n",
    "\\n --- \\n {question} \\n --- \\n\n",
    "\n",
    "Here is any available background question + answer pairs:\n",
    "\n",
    "\\n --- \\n {q_a_pairs} \\n --- \\n\n",
    "\n",
    "Here is additional context relevant to the question: \n",
    "\n",
    "\\n --- \\n {context} \\n --- \\n\n",
    "\n",
    "IMPORTANT: FOCUS **ONLY ON PROFIBUS**.  \n",
    "DO NOT INCLUDE **ANYTHING** ABOUT PROFINET.  \n",
    "DO NOT INCLUDE **ANYTHING** ABOUT CANOPEN.  \n",
    "THIS IS **ONLY** ABOUT PROFIBUS.  \n",
    "REPEAT: **PROFIBUS ONLY**.  \n",
    "IGNORE ALL OTHER PROTOCOLS.\n",
    "\n",
    "Use the above context and any background question + answer pairs to answer the question: \\n {question}\n",
    "\"\"\"\n",
    "\n",
    "decomposition_prompt = ChatPromptTemplate.from_template(template)"
   ]
  },
  {
   "cell_type": "code",
   "execution_count": 66,
   "metadata": {},
   "outputs": [],
   "source": [
    "def format_qa_pair(question, answer):\n",
    "    \"\"\"Format Q and A pair\"\"\"\n",
    "    \n",
    "    formatted_string = \"\"\n",
    "    formatted_string += f\"Question: {question}\\nAnswer: {answer}\\n\\n\"\n",
    "    return formatted_string.strip()"
   ]
  },
  {
   "cell_type": "code",
   "execution_count": 67,
   "metadata": {},
   "outputs": [],
   "source": [
    "q_a_pairs = \"\"\n",
    "for q in questions:\n",
    "    \n",
    "    rag_chain = (\n",
    "    {\"context\": itemgetter(\"question\") | vector_store.as_retriever(), \n",
    "     \"question\": itemgetter(\"question\"),\n",
    "     \"q_a_pairs\": itemgetter(\"q_a_pairs\")} \n",
    "    | decomposition_prompt\n",
    "    | llm\n",
    "    | StrOutputParser())\n",
    "\n",
    "    answer = rag_chain.invoke({\"question\":q,\"q_a_pairs\":q_a_pairs})\n",
    "    q_a_pair = format_qa_pair(q,answer)\n",
    "    q_a_pairs = q_a_pairs + \"\\n---\\n\"+  q_a_pair"
   ]
  },
  {
   "cell_type": "code",
   "execution_count": 68,
   "metadata": {},
   "outputs": [],
   "source": [
    "def wrap_paragraphs(text, width=80) -> str:\n",
    "    \"\"\"\n",
    "    Wrap paragraphs of text to a given width.\n",
    "    \n",
    "    Args:\n",
    "        text: The text to wrap.\n",
    "        width: The width to wrap the text to.\n",
    "\n",
    "    Returns:    \n",
    "        The wrapped text.\n",
    "    \"\"\"\n",
    "    paragraphs = text.split('\\n\\n')  # split on double newlines\n",
    "    wrapped_paragraphs = []\n",
    "    for paragraph in paragraphs:\n",
    "        wrapped_paragraphs.append(textwrap.fill(paragraph, width=width))\n",
    "    return \"\\n\\n\".join(wrapped_paragraphs)"
   ]
  },
  {
   "cell_type": "code",
   "execution_count": 69,
   "metadata": {},
   "outputs": [
    {
     "name": "stdout",
     "output_type": "stream",
     "text": [
      "The provided documentation does not detail the structure of the data bytes\n",
      "within a PROFIBUS DPV1 diagnostic telegram. It references several PROFIBUS\n",
      "guidelines, but these are described as providing installation profiles or\n",
      "specifying communication profiles (CP 3/1, CP 3/3, CP 3/4, CP 3/5, and CP 3/6)\n",
      "rather than outlining the internal structure of diagnostic telegram data.\n"
     ]
    }
   ],
   "source": [
    "wrapped_answer = wrap_paragraphs(answer, width=80)\n",
    "print(wrapped_answer)"
   ]
  },
  {
   "cell_type": "code",
   "execution_count": 70,
   "metadata": {},
   "outputs": [],
   "source": [
    "prompt_rag  = \"\"\"\"You are an AI language model assistant that understands PROFIBUS-related documents and specifications in the context of industrial automation.\n",
    "\n",
    "IMPORTANT: FOCUS **ONLY ON PROFIBUS**.  \n",
    "DO NOT INCLUDE **ANYTHING** ABOUT PROFINET.  \n",
    "DO NOT INCLUDE **ANYTHING** ABOUT CANOPEN.  \n",
    "THIS IS **ONLY** ABOUT PROFIBUS.  \n",
    "REPEAT: **PROFIBUS ONLY**.  \n",
    "IGNORE ALL OTHER PROTOCOLS.\n",
    "\n",
    "### Instructions:\n",
    "- Answer in a clear, informative, and technically accurate manner.\n",
    "- Provide a **complete and relevant explanation**, but avoid excessive detail.\n",
    "- Start with a **direct answer**, then expand with useful clarification, examples, or context if appropriate.\n",
    "- Avoid unnecessary filler or repetition.\n",
    "- Answer **in the same language as the question**.\n",
    "- You can say \"I don't know\" if you don't know the answer.\n",
    "\n",
    "### Now answer the following:\n",
    "\n",
    "Question: {question}\n",
    "\n",
    "Context: {context}\n",
    "\n",
    "Answer (in the language of the question):  \n",
    "\"\"\"\n",
    "\n",
    "prompt_rag = ChatPromptTemplate.from_template(prompt_rag)"
   ]
  },
  {
   "cell_type": "code",
   "execution_count": 72,
   "metadata": {},
   "outputs": [],
   "source": [
    "def retrieve_and_rag(question,prompt_rag,sub_question_generator_chain):\n",
    "    \"\"\"RAG on each sub-question\"\"\"\n",
    "    \n",
    "    # Use our decomposition / \n",
    "    sub_questions = sub_question_generator_chain.invoke({\"question\":question})\n",
    "    \n",
    "    # Initialize a list to hold RAG chain results\n",
    "    rag_results = []\n",
    "    \n",
    "    for sub_question in sub_questions:\n",
    "        \n",
    "        # Retrieve documents for each sub-question\n",
    "        retrieved_docs = vector_store.as_retriever().invoke(sub_question)\n",
    "        \n",
    "        # Use retrieved documents and sub-question in RAG chain\n",
    "        answer = (prompt_rag | llm | StrOutputParser()).invoke({\"context\": retrieved_docs, \n",
    "                                                                \"question\": sub_question})\n",
    "        rag_results.append(answer)\n",
    "    \n",
    "    return rag_results,sub_questions\n",
    "\n",
    "# Wrap the retrieval and RAG process in a RunnableLambda for integration into a chain\n",
    "answers, questions = retrieve_and_rag(question, prompt_rag, generate_queries_decomposition)"
   ]
  },
  {
   "cell_type": "code",
   "execution_count": null,
   "metadata": {},
   "outputs": [],
   "source": [
    "answers, questions"
   ]
  },
  {
   "cell_type": "code",
   "execution_count": 74,
   "metadata": {},
   "outputs": [],
   "source": [
    "def format_qa_pairs(questions, answers):\n",
    "    \"\"\"Format Q and A pairs\"\"\"\n",
    "    \n",
    "    formatted_string = \"\"\n",
    "    for i, (question, answer) in enumerate(zip(questions, answers), start=1):\n",
    "        formatted_string += f\"Question {i}: {question}\\nAnswer {i}: {answer}\\n\\n\"\n",
    "    return formatted_string.strip()\n",
    "\n",
    "context = format_qa_pairs(questions, answers)\n",
    "\n",
    "# Prompt\n",
    "template = \"\"\"Here is a set of Q+A pairs:\n",
    "\n",
    "DO NOT — I REPEAT, DO NOT — START YOUR ANSWER WITH ANY OF THE FOLLOWING:\n",
    "- \"Here's a synthesized answer...\"\n",
    "- \"Based on the provided Q&A pairs...\"\n",
    "- \"Here's what I found...\"\n",
    "- \"According to the context...\"\n",
    "- \"Okay, here's a synthesized answer...\"\n",
    "OR ANY OTHER SIMILAR PHRASES. \n",
    "\n",
    "{context}\n",
    "\n",
    "Use these to synthesize an answer (IN THE SAME LANGUAGE AS THE QUESTION) to the question: {question}\n",
    "\n",
    "START THE ANSWER WITH A DIRECT RESPONSE TO THE QUESTION, THEN EXPAND WITH USEFUL CLARIFICATION, EXAMPLES, OR CONTEXT IF APPROPRIATE.\n",
    "\"\"\"\n",
    "\n",
    "prompt = ChatPromptTemplate.from_template(template)\n",
    "\n",
    "final_rag_chain = (\n",
    "    prompt\n",
    "    | llm\n",
    "    | StrOutputParser()\n",
    ")\n",
    "\n",
    "final_answer = final_rag_chain.invoke({\"context\":context,\"question\":question})"
   ]
  },
  {
   "cell_type": "markdown",
   "metadata": {},
   "source": [
    "## **Queries**"
   ]
  },
  {
   "cell_type": "markdown",
   "metadata": {},
   "source": [
    "### 1 - What is a GSD file, where can you get it, and what is its function?"
   ]
  },
  {
   "cell_type": "code",
   "execution_count": 34,
   "metadata": {},
   "outputs": [
    {
     "name": "stdout",
     "output_type": "stream",
     "text": [
      "A GSD file (short for Geräte-Stücklisten Datei, or Device Description File) is a\n",
      "text file that describes a PROFIBUS device to a master controller, like a PLC or\n",
      "distributed control system. Think of it as the device's \"profile\" for the\n",
      "PROFIBUS network.\n",
      "\n",
      "You can typically obtain GSD files from the device manufacturer. They are\n",
      "usually available for download from the manufacturer's website or included in\n",
      "the device's documentation. The PROFIBUS website\n",
      "([http://www.profibus.com](http://www.profibus.com)) can also be a helpful\n",
      "resource, although it primarily directs you to manufacturer resources.\n",
      "\n",
      "The function of a GSD file is crucial for proper communication between a\n",
      "PROFIBUS master and slave device. It contains vital information that the master\n",
      "needs to configure and communicate with the device correctly. This information\n",
      "includes:\n",
      "\n",
      "*   **Device Identification:** Manufacturer, device name, and product code. *\n",
      "**Module Information:** Details about the modules within the device. *   **Data\n",
      "Types:** Definitions of the data types used by the device. *   **Input/Output\n",
      "Addressing:** How inputs and outputs are addressed within the device. *\n",
      "**Parameterization:** Default parameter settings for the device. *\n",
      "**Capabilities:** Supported functionalities and features.\n",
      "\n",
      "Without a GSD file, the PROFIBUS master wouldn't know how to configure or\n",
      "communicate with the slave device, leading to potential communication errors or\n",
      "device malfunction.\n",
      "\n",
      "\n",
      "\n",
      "\n"
     ]
    }
   ],
   "source": [
    "wrapped_answer = wrap_paragraphs(final_answer, width=80)\n",
    "print(wrapped_answer)"
   ]
  },
  {
   "cell_type": "markdown",
   "metadata": {},
   "source": [
    "### 2 - What is a token message and how and which devices use it?"
   ]
  },
  {
   "cell_type": "code",
   "execution_count": 22,
   "metadata": {},
   "outputs": [
    {
     "name": "stdout",
     "output_type": "stream",
     "text": [
      "A token message in PROFIBUS refers to a special frame used to manage\n",
      "communication on the bus, ensuring only one device transmits at a time. It's a\n",
      "core element of the older, peer-to-peer PROFIBUS network topology (often\n",
      "referred to as PROFIBUS DP in its original form), but its usage and significance\n",
      "have diminished with the prevalence of master-slave architectures. Let's break\n",
      "down what it is, how it's used, and which devices historically employed it.\n",
      "\n",
      "**What is a Token Message?**\n",
      "\n",
      "The token itself isn't the data being transmitted; it's a control signal. Think\n",
      "of it like a \"permission slip\" to talk on the bus.  It contains information like\n",
      "the destination address, source address, message type, and length.  The device\n",
      "holding the token is the only one allowed to transmit data. Once the\n",
      "transmission is complete, the token is released, allowing another device to\n",
      "request it.\n",
      "\n",
      "**How Token Messages are Used (Historically):**\n",
      "\n",
      "In the original PROFIBUS DP network, devices would request the token from a\n",
      "central point (or circulate it in a ring topology). The device receiving the\n",
      "token could then transmit its data. This prevented data collisions and ensured\n",
      "orderly communication.  The token passing mechanism ensured that all devices had\n",
      "a chance to communicate.\n",
      "\n",
      "**Which Devices Used Token Messages?**\n",
      "\n",
      "*   **PROFIBUS DP (Original Peer-to-Peer Topology):**  In the original PROFIBUS\n",
      "DP implementation, *all* devices on the network – both masters and slaves –\n",
      "could potentially request and hold the token. This included:     *   **Field\n",
      "Devices (I/O Modules, Sensors, Actuators):** These devices would use the token\n",
      "to transmit process data, status information, and diagnostic messages.     *\n",
      "**Distributed Control Units (DCS) or Programmable Logic Controllers (PLCs):**\n",
      "These devices acted as masters and could use the token to communicate with other\n",
      "devices on the network, manage the bus, and initiate diagnostics.     *\n",
      "**Engineering Workstations:**  These workstations could use the token to access\n",
      "and configure devices on the network.\n",
      "\n",
      "**Important Shift: Modern PROFIBUS and Master-Slave Architectures**\n",
      "\n",
      "It's crucial to understand that the token-passing mechanism is less prevalent in\n",
      "modern PROFIBUS implementations.  The shift towards a master-slave architecture\n",
      "has significantly reduced the direct involvement of slave devices in token\n",
      "management.  Now, a central master (typically a PLC or DCS) controls the\n",
      "communication, and slave devices respond to requests from the master.  While the\n",
      "underlying principles of preventing collisions still apply, the explicit token-\n",
      "passing process is largely handled by the master.\n",
      "\n",
      "**Where to Find More Detailed Information:**\n",
      "\n",
      "*   **PROFIBUS Specification:** The official PROFIBUS specification document\n",
      "(available from the PROFIBUS Nutzerorganisation - PNO) contains the detailed\n",
      "technical description of the token-passing mechanism. *   **PROFIBUS User\n",
      "Manuals:** User manuals for specific PROFIBUS devices (masters and slaves) often\n",
      "describe the token handling behavior of those devices.\n",
      "\n",
      "\n",
      "\n",
      "The provided documents primarily serve as a reference for available PROFIBUS\n",
      "documentation, not a detailed explanation of the token handling process itself.\n"
     ]
    }
   ],
   "source": [
    "wrapped_answer = wrap_paragraphs(final_answer, width=80)\n",
    "print(wrapped_answer)"
   ]
  },
  {
   "cell_type": "markdown",
   "metadata": {},
   "source": [
    "### 3 - Which protocol parameter describes the slave's action time after receiving a message?"
   ]
  },
  {
   "cell_type": "code",
   "execution_count": 58,
   "metadata": {},
   "outputs": [
    {
     "name": "stdout",
     "output_type": "stream",
     "text": [
      "The protocol parameter that best describes the slave's action time after\n",
      "receiving a message in PROFIBUS is its **reaction time**.\n",
      "\n",
      "While the provided documentation doesn't explicitly define a specific \"reaction\n",
      "time parameter,\" this term encapsulates the time a slave device takes to process\n",
      "data received from the master controller and prepare its response. It's a\n",
      "crucial factor in overall system performance.\n",
      "\n",
      "Here's a breakdown of why \"reaction time\" is the most appropriate term and how\n",
      "it relates to other concepts:\n",
      "\n",
      "*   **What it encompasses:** Slave reaction time includes the time for the slave\n",
      "to read input data, perform any necessary calculations or control actions, and\n",
      "then write output data back to the master. *   **Relationship to Cycle Time:**\n",
      "The overall system latency (delay) is the sum of the PROFIBUS DP cycle time (the\n",
      "time for the master to transmit data to all slaves and receive responses) and\n",
      "the slave reaction time. Minimizing both is key for fast automation. *\n",
      "**Factors Influencing Reaction Time:** The slave reaction time is largely\n",
      "dependent on the slave device's processing capabilities and the complexity of\n",
      "its tasks. A more powerful slave or a simpler task will result in a shorter\n",
      "reaction time. *   **Distinction from other terms:** While \"processing time\" is\n",
      "related, \"reaction time\" is a more holistic term that includes all steps from\n",
      "data reception to response preparation. The documentation doesn't define a\n",
      "specific \"processing time parameter\" either. *   **Where to find more\n",
      "information:** The provided installation profile documents focus on physical\n",
      "layer aspects and don't contain detailed timing specifications. To find precise\n",
      "reaction time values, you're likely to find them in the technical documentation\n",
      "for the specific PROFIBUS slave device you're using, or in more detailed\n",
      "PROFIBUS user profile documentation.\n"
     ]
    }
   ],
   "source": [
    "wrapped_answer = wrap_paragraphs(final_answer, width=80)\n",
    "print(wrapped_answer)"
   ]
  },
  {
   "cell_type": "markdown",
   "metadata": {},
   "source": [
    "### 4 - How to calculate DP cycle time?"
   ]
  },
  {
   "cell_type": "code",
   "execution_count": 71,
   "metadata": {},
   "outputs": [
    {
     "name": "stdout",
     "output_type": "stream",
     "text": [
      "**How to calculate DP cycle time?**\n",
      "\n",
      "The DP cycle time isn't a simple calculation but rather a configuration\n",
      "parameter that needs to be carefully considered based on system requirements and\n",
      "network limitations. There's no single formula, but rather a process of\n",
      "estimation and adjustment. Here's a breakdown of the factors involved and how to\n",
      "approach it:\n",
      "\n",
      "**1. Understanding the Components of Cycle Time:**\n",
      "\n",
      "The total DP cycle time is the sum of several components:\n",
      "\n",
      "*   **Transmission Time (T_trans):** This is the time it takes for the master to\n",
      "transmit data to all slaves and receive responses. It depends on:     *   **Bus\n",
      "Speed:** 1.5 Mbit/s or 3 Mbit/s. Higher speed reduces transmission time.     *\n",
      "**Number of Bytes Transmitted:**  Each slave requires a certain number of bytes\n",
      "for input data, output data, status words, and diagnostics.     *   **Number of\n",
      "Slaves:** More slaves mean more data to transmit and receive. *   **Slave\n",
      "Response Time (T_slave):** This is the time it takes for each slave to process\n",
      "the master's request and send back its data. This is *highly* variable and\n",
      "depends on the slave's complexity and processing load. *   **Overhead\n",
      "(T_overhead):** This includes factors like arbitration time, frame delimiters,\n",
      "and error checking.  It's generally a smaller, but still important, factor.\n",
      "\n",
      "**2. Estimating the Components:**\n",
      "\n",
      "*   **Transmission Time (T_trans):**  You can estimate this using the following\n",
      "formula:\n",
      "\n",
      "    `T_trans = (Total Bytes Transmitted * Bit Time) / Bus Speed`\n",
      "\n",
      "    *   **Bit Time:**  The time it takes to transmit one bit. For 1.5 Mbit/s,\n",
      "the bit time is approximately 0.667 µs. For 3 Mbit/s, it's approximately 0.333\n",
      "µs.     *   **Total Bytes Transmitted:**  Calculate this by multiplying the\n",
      "number of slaves by the number of bytes each slave transmits/receives (typically\n",
      "2 bytes for input and 2 bytes for output, but can vary).\n",
      "\n",
      "*   **Slave Response Time (T_slave):** This is the trickiest part. You're often\n",
      "reliant on the slave device manufacturer's specifications.  If unavailable, you\n",
      "might need to perform tests under realistic operating conditions.  Consider the\n",
      "slave's processing load and complexity.  A simple I/O module will have a much\n",
      "faster response time than a complex motion controller.  Assume a *minimum*\n",
      "response time of around 50-100 µs, but be prepared for it to be higher.\n",
      "\n",
      "*   **Overhead (T_overhead):**  Estimate this at around 10-20 µs.\n",
      "\n",
      "**3. Calculating the Total Cycle Time:**\n",
      "\n",
      "`Total Cycle Time = T_trans + (Number of Slaves * T_slave) + T_overhead`\n",
      "\n",
      "**4. Example:**\n",
      "\n",
      "Let's say you have:\n",
      "\n",
      "*   10 slaves *   Bus Speed: 1.5 Mbit/s *   Each slave transmits/receives 4\n",
      "bytes (2 input, 2 output) *   Estimated Slave Response Time: 100 µs per slave *\n",
      "Estimated Overhead: 15 µs\n",
      "\n",
      "1.  **Transmission Time:** (10 slaves * 4 bytes/slave) * 0.667 µs/bit * 8\n",
      "bits/byte = 213.33 µs 2.  **Total Slave Response Time:** 10 slaves * 100\n",
      "µs/slave = 1000 µs 3.  **Total Cycle Time:** 213.33 µs + 1000 µs + 15 µs =\n",
      "1228.33 µs (approximately 1.23 ms)\n",
      "\n",
      "**5. Important Considerations & Iteration:**\n",
      "\n",
      "*   **Safety Margins:**  Always add a safety margin to your calculated cycle\n",
      "time.  A good rule of thumb is to add 20-30%.  This accounts for unexpected\n",
      "delays and ensures reliable operation. *   **Real-World Testing:**  The\n",
      "calculated cycle time is just an estimate.  You *must* test the system under\n",
      "realistic operating conditions to verify that it meets your requirements. *\n",
      "**Slave Device Limitations:**  Some slave devices may have limitations on the\n",
      "maximum cycle time they can support.  Check the manufacturer's specifications. *\n",
      "**Network Load:**  Consider the overall network load.  If other devices are\n",
      "sharing the same bus, the cycle time may need to be increased. *   **DP\n",
      "Profile:** The DP profile defines the communication parameters, including the\n",
      "cycle time, and must be compatible with all devices on the network.\n",
      "\n",
      "\n",
      "\n",
      "**In summary, calculating the DP cycle time is an iterative process that\n",
      "involves estimation, calculation, and testing. It's crucial to consider all the\n",
      "factors involved and to ensure that the system meets your requirements for\n",
      "performance and reliability.**  Consult the documentation for your specific\n",
      "devices for more detailed information.\n"
     ]
    }
   ],
   "source": [
    "wrapped_answer = wrap_paragraphs(final_answer, width=80)\n",
    "print(wrapped_answer)"
   ]
  },
  {
   "cell_type": "markdown",
   "metadata": {},
   "source": [
    "### 5 - Briefly explain the function of a watchdog timer in a PROFIBUS DP slave."
   ]
  },
  {
   "cell_type": "code",
   "execution_count": 110,
   "metadata": {},
   "outputs": [
    {
     "name": "stdout",
     "output_type": "stream",
     "text": [
      "Briefly, a watchdog timer in a PROFIBUS DP slave is a safety mechanism designed\n",
      "to detect and respond to malfunctions that could prevent the slave from\n",
      "communicating properly on the bus.\n",
      "\n",
      "Here's a more detailed explanation: The PROFIBUS master periodically sends a\n",
      "\"heartbeat\" signal to the slave device. The slave has a timer that must be\n",
      "\"kicked\" or refreshed by acknowledging this heartbeat within a defined\n",
      "timeframe. If the slave fails to acknowledge the heartbeat – perhaps due to a\n",
      "software fault, hardware failure, or communication problem – the watchdog timer\n",
      "expires. Upon expiration, the slave will typically enter a fail-safe state. This\n",
      "might involve shutting down outputs, setting an alarm, or signaling an error\n",
      "condition to the master.\n",
      "\n",
      "The purpose of this mechanism is to prevent a malfunctioning slave from\n",
      "continuing to operate in an unpredictable or potentially dangerous manner. It's\n",
      "a crucial element in ensuring the safety and reliability of PROFIBUS systems,\n",
      "especially in applications where a faulty slave could pose a hazard. The\n",
      "specifics of implementation (timing, signal type, etc.) are typically defined by\n",
      "the slave device manufacturer.\n",
      "\n",
      "\n",
      "\n",
      "\n"
     ]
    }
   ],
   "source": [
    "wrapped_answer = wrap_paragraphs(final_answer, width=80)\n",
    "print(wrapped_answer)"
   ]
  },
  {
   "cell_type": "markdown",
   "metadata": {},
   "source": [
    "### 6 - Briefly explain the meaning of “sync” and “freeze” modes. Which device(s) must support these modes?"
   ]
  },
  {
   "cell_type": "code",
   "execution_count": 134,
   "metadata": {},
   "outputs": [
    {
     "name": "stdout",
     "output_type": "stream",
     "text": [
      "\"Sync\" and \"freeze\" modes are functionalities within PROFIBUS networks primarily\n",
      "used during installation, commissioning, and maintenance to simplify diagnostics\n",
      "and troubleshooting. **No devices are *required* to support these modes, but\n",
      "it's highly recommended, especially in critical applications.**\n",
      "\n",
      "**Sync Mode:** This forces all slaves on the network to enter a defined state,\n",
      "typically setting all outputs to a known, safe value. This allows for easy\n",
      "visual inspection of the network's status and simplifies device identification\n",
      "during commissioning. It's a diagnostic tool, not a normal operating mode. Think\n",
      "of it as a way to temporarily put all devices into a predictable state for\n",
      "inspection.\n",
      "\n",
      "**Freeze Mode:** Similar to sync mode, freeze mode temporarily halts the\n",
      "operation of devices. It's used to capture the state of the network at a\n",
      "specific point in time, which can be helpful for diagnosing issues.\n",
      "\n",
      "While not mandatory, support for these modes is common, particularly in PROFIBUS\n",
      "DP and PA implementations. The *PROFIBUS PA User and Installation Guideline*\n",
      "(V2.2) and the *Installation Guide for PROFIBUS DP/FMS* (V1.0) provide further\n",
      "details on handling synchronization issues and potential freeze conditions.  The\n",
      "use of Manchester coding (B.3.1.85), which allows receivers to determine the\n",
      "beginning, end, or middle of each bit without an external clock reference,\n",
      "contributes to the reliability needed for these synchronization mechanisms to\n",
      "function effectively. Ultimately, consulting the PROFIBUS website\n",
      "([http://www.profibus.com](http://www.profibus.com)) and related documentation\n",
      "is the best way to understand the specifics of implementation for different\n",
      "PROFIBUS variants.\n"
     ]
    }
   ],
   "source": [
    "wrapped_answer = wrap_paragraphs(final_answer, width=80)\n",
    "print(wrapped_answer)"
   ]
  },
  {
   "cell_type": "markdown",
   "metadata": {},
   "source": [
    "### 7 - Discuss the factors that have a significant effect on the overall cycle time of a DP network."
   ]
  },
  {
   "cell_type": "code",
   "execution_count": 151,
   "metadata": {},
   "outputs": [
    {
     "name": "stdout",
     "output_type": "stream",
     "text": [
      "The overall cycle time of a PROFIBUS DP network is significantly affected by a\n",
      "number of interconnected factors, all of which need careful consideration during\n",
      "network design and maintenance. These factors can be broadly categorized into\n",
      "data volume, network topology and length, slave device characteristics, and\n",
      "master controller configuration.\n",
      "\n",
      "**1. Data Volume & Communication Profiles (RCPs):** The amount of data exchanged\n",
      "between the master and each slave device is a primary driver of cycle time. Each\n",
      "byte transmitted contributes to the overall load. Larger data blocks, whether\n",
      "for process values, status information, or diagnostic data, directly increase\n",
      "the time required for a complete scan. The chosen Communication Profile (RCP)\n",
      "plays a crucial role here. Different RCPs dictate the data exchange parameters,\n",
      "and some are more efficient than others in terms of data transmission. Selecting\n",
      "an RCP that minimizes unnecessary data transmission is vital for keeping cycle\n",
      "times low. For example, if a slave only needs to transmit a single analog value,\n",
      "using an RCP designed for complex data structures would be inefficient and\n",
      "increase the cycle time unnecessarily.\n",
      "\n",
      "**2. Network Topology and Length:** The physical layout of the PROFIBUS DP\n",
      "network and its length have a direct impact. Longer cable lengths introduce\n",
      "signal degradation, which limits the achievable baud rate. Higher baud rates are\n",
      "necessary to transmit data quickly, but signal integrity deteriorates with\n",
      "distance. This necessitates lower baud rates, which in turn increases the cycle\n",
      "time. Proper cabling and termination are essential to minimize signal\n",
      "degradation and allow for higher baud rates within the allowed cable length. The\n",
      "network topology itself (e.g., line, tree) can also influence signal propagation\n",
      "delays.\n",
      "\n",
      "**3. Slave Device Characteristics & Response Time:** Each slave device requires\n",
      "time to process data and respond to requests from the master. This response time\n",
      "is a fixed characteristic of the device and contributes to the overall cycle\n",
      "time. Devices with slower processors or more complex processing requirements\n",
      "will inherently have longer response times. The number of slaves on the network\n",
      "also contributes; more slaves mean more individual response times to factor in.\n",
      "\n",
      "**4. Master Controller Configuration:** The master controller's configuration\n",
      "significantly impacts the cycle time. This includes parameters like the scan\n",
      "time (the time allocated for each scan cycle), the size of data blocks being\n",
      "transferred, and the timing parameters used for communication. Optimizing these\n",
      "parameters is crucial for minimizing the overall cycle time. For instance, if\n",
      "the master is configured to wait an unnecessarily long time for a slave's\n",
      "response, this will artificially inflate the cycle time.\n",
      "\n",
      "**Interdependence:** It's important to understand that these factors are not\n",
      "independent. For example, a high data volume might necessitate a lower baud rate\n",
      "to maintain signal integrity, which then increases the cycle time. Similarly, a\n",
      "large number of slaves might require a slower scan time to allow each device\n",
      "sufficient time to respond. Careful planning and optimization are required to\n",
      "balance these factors and achieve the desired performance for the PROFIBUS DP\n",
      "network.\n",
      "\n",
      "\n",
      "\n",
      "The referenced documents (IEC 61784-5-3, FISCO model, fault disconnection units)\n",
      "likely contain more detailed specifications and guidelines for optimizing these\n",
      "factors in specific PROFIBUS implementations.\n"
     ]
    }
   ],
   "source": [
    "wrapped_answer = wrap_paragraphs(final_answer, width=80)\n",
    "print(wrapped_answer)"
   ]
  },
  {
   "cell_type": "markdown",
   "metadata": {},
   "source": [
    "### 8 - What are the four operating modes of a DP class 1 master? Briefly explain the interaction between the master and its assigned slaves in each mode."
   ]
  },
  {
   "cell_type": "code",
   "execution_count": 34,
   "metadata": {},
   "outputs": [
    {
     "name": "stdout",
     "output_type": "stream",
     "text": [
      "The four operating modes of a DP Class 1 master are Initialization, Polling (or\n",
      "Data Transfer), Error Handling, and Diagnostics.\n",
      "\n",
      "**1. Initialization:** During this phase, the master configures itself and the\n",
      "network. It establishes communication parameters, checks for connected devices,\n",
      "and assigns addresses. Slave devices respond to the master's initialization\n",
      "requests, confirming their presence and readiness. There's no direct data\n",
      "exchange in this mode; it's purely about establishing a functional network.\n",
      "\n",
      "**2. Polling (Data Transfer):** This is the primary mode of operation for a DP\n",
      "Class 1 master. The master sequentially requests data from each slave device\n",
      "connected to the network. The master sends a request frame to a specific slave,\n",
      "and the slave responds with its data. This process repeats for each slave in a\n",
      "predetermined order. The master controls the timing and sequence of data\n",
      "exchange. This is a polled mode, meaning the master actively initiates\n",
      "communication.  For example, a master might request the position data from a\n",
      "motor slave, the temperature reading from a sensor slave, and the status of a\n",
      "valve slave, all in a defined order.\n",
      "\n",
      "**3. Error Handling:** This mode is triggered when communication errors occur,\n",
      "such as a slave not responding to a request or a communication link failure. The\n",
      "master detects these errors and implements error handling routines. This might\n",
      "involve retrying the communication, logging the error, or switching to a fail-\n",
      "safe mode. The interaction here is less about data transfer and more about the\n",
      "master's response to unexpected events.\n",
      "\n",
      "**4. Diagnostics:** This mode allows the master to perform diagnostic tests on\n",
      "the network and connected devices. The master sends diagnostic requests to\n",
      "slaves, which respond with status information. This allows for troubleshooting\n",
      "and identifying potential problems. The interaction is similar to data transfer,\n",
      "but the data being exchanged is diagnostic information rather than process data.\n",
      "\n",
      "**Important Clarifications:**\n",
      "\n",
      "*   **DP Class 1 Masters are Polled:** It's crucial to remember that DP Class 1\n",
      "masters operate in a polled mode. The master *always* initiates communication.\n",
      "Slaves don't request data from the master. *   **Deterministic Timing:** The\n",
      "polling sequence in a DP Class 1 master is deterministic, meaning the timing of\n",
      "data exchange is predictable. This is important for applications requiring\n",
      "precise synchronization. *   **Limited Information in Provided Documents:** The\n",
      "provided documents primarily focus on installation and interconnection aspects\n",
      "of PROFIBUS. Detailed specifications for Class 1 master modes of operation are\n",
      "typically found in the PROFIBUS DP specification (IEC 61704), which wasn't\n",
      "included.\n"
     ]
    }
   ],
   "source": [
    "wrapped_answer = wrap_paragraphs(final_answer, width=80)\n",
    "print(wrapped_answer)"
   ]
  },
  {
   "cell_type": "markdown",
   "metadata": {},
   "source": [
    "### 9 - The data unit of a configuration telegram contains the following 3 bytes represented in hexadecimal notation. Decode the meaning of the bytes. \\n- Byte 0:  D1 \\n- Byte 1:  23 \\n- Byte 2:  70"
   ]
  },
  {
   "cell_type": "code",
   "execution_count": 19,
   "metadata": {},
   "outputs": [
    {
     "name": "stdout",
     "output_type": "stream",
     "text": [
      "The data unit of a configuration telegram containing bytes D1, 23, and 70\n",
      "represents a specific data area within a Siemens PLC (Programmable Logic\n",
      "Controller) used for storing PROFIBUS network configuration data.\n",
      "\n",
      "Here's a breakdown of what each byte signifies:\n",
      "\n",
      "*   **Byte 0: D1** - This indicates data block D1 within the Siemens PLC's\n",
      "memory. \"D\" signifies a data block, and \"1\" is the block number. This is the\n",
      "starting point for the configuration data. *   **Byte 1: 23** - This is the byte\n",
      "offset within data block D1. It specifies that the configuration data begins at\n",
      "byte 23 within data block D1. *   **Byte 2: 70** - This represents the number of\n",
      "consecutive bytes allocated to store the configuration data. In this case, 70\n",
      "bytes are reserved for the PROFIBUS configuration information, starting at byte\n",
      "23 of data block D1.\n",
      "\n",
      "Therefore, the sequence \"D1 23 70\" defines a contiguous block of 70 bytes,\n",
      "beginning at byte 23 within data block D1, dedicated to holding PROFIBUS\n",
      "configuration information. The *content* of these 70 bytes is entirely dependent\n",
      "on the specific PLC programming and the configuration of the PROFIBUS device\n",
      "being used. Without knowing the device type and the configuration context, it's\n",
      "impossible to decode the meaning of the individual bytes within that 70-byte\n",
      "block. You would need the device's specific PROFIBUS profile and its user manual\n",
      "or configuration documentation to understand the meaning of each byte and bit\n",
      "within the configuration data.\n"
     ]
    }
   ],
   "source": [
    "wrapped_answer = wrap_paragraphs(final_answer, width=80)\n",
    "print(wrapped_answer)"
   ]
  },
  {
   "cell_type": "markdown",
   "metadata": {},
   "source": [
    "### 10 - Briefly explain how a slave device, which is in cyclic data exchange, communicates the presence of a diagnostic fault to its controlling master. What does the master do about this?\n"
   ]
  },
  {
   "cell_type": "code",
   "execution_count": 48,
   "metadata": {},
   "outputs": [
    {
     "name": "stdout",
     "output_type": "stream",
     "text": [
      "A slave device in cyclic data exchange communicates the presence of a diagnostic\n",
      "fault to its controlling master primarily through error frames and diagnostic\n",
      "data within the cyclic data transmission. When a fault occurs, the slave device\n",
      "can insert an error frame into the communication stream, interrupting the normal\n",
      "data flow and signaling the master to a problem. Alternatively, the fault\n",
      "information can be encoded within a specific byte or set of bytes within the\n",
      "slave’s cyclic data transmission – a designated area for diagnostic information.\n",
      "This allows the master to receive the fault indication alongside the regular\n",
      "data.\n",
      "\n",
      "The master's response to this diagnostic fault varies depending on the severity\n",
      "of the fault and the configured system behavior. Generally, the master will\n",
      "acknowledge the error, potentially logging it for later analysis. It might also\n",
      "attempt to recover from the fault by re-requesting data from the faulty slave,\n",
      "essentially trying a retry. More sophisticated systems might trigger a\n",
      "diagnostic routine, prompting the slave to provide more detailed information\n",
      "about the fault. In critical applications, the master might even initiate a\n",
      "shutdown or switch to a redundant system to ensure continued operation.\n",
      "\n",
      "The specific implementation details, such as the format of the error frames and\n",
      "the diagnostic data, are defined by the PROFIBUS standard and the device\n",
      "manufacturer's documentation. For example, the \"Installation Guide for PROFIBUS\n",
      "DP/FMS\" (PNO-Order No 2.112) outlines general procedures for handling errors,\n",
      "while device-specific manuals will detail the meaning of specific diagnostic\n",
      "codes. Furthermore, elements like B.3.1.84, referenced in the provided text,\n",
      "relate to specific configurations and functionalities within the PROFIBUS\n",
      "system, particularly concerning fault disconnection units and the FISCO model,\n",
      "highlighting the complexity and detail involved in diagnostic fault reporting.\n",
      "\n",
      "\n",
      "\n",
      "\n"
     ]
    }
   ],
   "source": [
    "wrapped_answer = wrap_paragraphs(final_answer, width=80)\n",
    "print(wrapped_answer)"
   ]
  }
 ],
 "metadata": {
  "kernelspec": {
   "display_name": "venv",
   "language": "python",
   "name": "python3"
  },
  "language_info": {
   "codemirror_mode": {
    "name": "ipython",
    "version": 3
   },
   "file_extension": ".py",
   "mimetype": "text/x-python",
   "name": "python",
   "nbconvert_exporter": "python",
   "pygments_lexer": "ipython3",
   "version": "3.13.3"
  }
 },
 "nbformat": 4,
 "nbformat_minor": 2
}
