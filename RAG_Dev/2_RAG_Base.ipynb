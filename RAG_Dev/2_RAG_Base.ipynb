{
 "cells": [
  {
   "cell_type": "code",
   "execution_count": null,
   "metadata": {},
   "outputs": [],
   "source": [
    "# %pip install \"unstructured[md]\" nltk langchain-text-splitters"
   ]
  },
  {
   "cell_type": "markdown",
   "metadata": {},
   "source": [
    "## **Single Document**"
   ]
  },
  {
   "cell_type": "code",
   "execution_count": null,
   "metadata": {},
   "outputs": [],
   "source": [
    "from langchain_text_splitters import RecursiveCharacterTextSplitter\n",
    "from langchain_text_splitters import MarkdownHeaderTextSplitter\n",
    "from langchain.document_loaders import TextLoader\n",
    "\n",
    "# Load\n",
    "markdown_path = \"./Processed_Files_Introduction_to_End/Copia di iec61158-1{ed1.0}b.md\"\n",
    "loader = TextLoader(markdown_path, autodetect_encoding=True)\n",
    "doc = loader.load()\n",
    "doc[0]"
   ]
  },
  {
   "cell_type": "code",
   "execution_count": null,
   "metadata": {},
   "outputs": [],
   "source": [
    "headers_to_split_on = [\n",
    "    (\"#\", \"Header 1\"),\n",
    "    (\"###\", \"Header 3\"),\n",
    "    (\"####\", \"Header 4\"),\n",
    "]\n",
    "\n",
    "# MD splits\n",
    "markdown_splitter = MarkdownHeaderTextSplitter(\n",
    "    headers_to_split_on=headers_to_split_on, strip_headers=False\n",
    ")\n",
    "md_header_splits = markdown_splitter.split_text(doc[0].page_content)\n",
    "md_header_splits"
   ]
  },
  {
   "cell_type": "code",
   "execution_count": null,
   "metadata": {},
   "outputs": [],
   "source": [
    "# Char-level splits\n",
    "chunk_size = 1000\n",
    "chunk_overlap = 200\n",
    "text_splitter = RecursiveCharacterTextSplitter(\n",
    "    chunk_size=chunk_size, chunk_overlap=chunk_overlap\n",
    ")\n",
    "\n",
    "# Split\n",
    "splits = text_splitter.split_documents(md_header_splits)\n",
    "splits"
   ]
  },
  {
   "cell_type": "markdown",
   "metadata": {},
   "source": [
    "## **All Documents**"
   ]
  },
  {
   "cell_type": "code",
   "execution_count": 47,
   "metadata": {},
   "outputs": [],
   "source": [
    "import glob\n",
    "import os\n",
    "from langchain_core.documents import Document"
   ]
  },
  {
   "cell_type": "code",
   "execution_count": 48,
   "metadata": {},
   "outputs": [],
   "source": [
    "# 1. Path/pattern for markdown files\n",
    "folder_path = \"./Processed_Files_Introduction_to_End/*.md\"\n",
    "\n",
    "# 2. Parameters for the Header Splitter\n",
    "headers_to_split_on = [\n",
    "    (\"#\", \"Header 1\"),\n",
    "    (\"##\", \"Header 2\"),\n",
    "    (\"###\", \"Header 3\"),\n",
    "    (\"####\", \"Header 4\"),\n",
    "]\n",
    "markdown_splitter = MarkdownHeaderTextSplitter(\n",
    "    headers_to_split_on=headers_to_split_on, \n",
    "    strip_headers=False\n",
    ")\n",
    "\n",
    "# 3. Parameters for the character-level splitter\n",
    "chunk_size = 1000\n",
    "chunk_overlap = 200\n",
    "text_splitter = RecursiveCharacterTextSplitter(\n",
    "    chunk_size=chunk_size, \n",
    "    chunk_overlap=chunk_overlap\n",
    ")\n",
    "\n",
    "# Final list for all splits from all files\n",
    "all_splits = []\n",
    "\n",
    "for file_path in glob.glob(folder_path):\n",
    "    # a) Load the file as raw text (preserving Markdown)\n",
    "    loader = TextLoader(file_path, autodetect_encoding=True)\n",
    "    docs = loader.load()  # usually returns a list [Document]\n",
    "    \n",
    "    # b) For each Document, perform two splits\n",
    "    for doc in docs:\n",
    "        md_header_splits = markdown_splitter.split_text(doc.page_content)\n",
    "        splits = text_splitter.split_documents(md_header_splits)\n",
    "        \n",
    "        # c) Use the base file name as \"name_file\" (without the path and without extension)\n",
    "        filename = os.path.splitext(os.path.basename(file_path))[0]\n",
    "\n",
    "        for splitted_doc in splits:\n",
    "            splitted_doc.metadata[\"name_file\"] = filename\n",
    "            # Optionally, remove the original \"source\" if not needed:\n",
    "            # splitted_doc.metadata.pop(\"source\", None)\n",
    "\n",
    "        all_splits.extend(splits)"
   ]
  },
  {
   "cell_type": "code",
   "execution_count": null,
   "metadata": {},
   "outputs": [],
   "source": [
    "min_size = 1000  # Minimum size for the merged chunks\n",
    "merged_documents = []  # List to store merged documents\n",
    "buffer_content = \"\"\n",
    "buffer_metadata = {}\n",
    "\n",
    "for doc in all_splits:\n",
    "    text = doc.page_content.strip()  # remove extra spaces if necessary\n",
    "    # If there is no content accumulated in the buffer and the chunk is small,\n",
    "    # initialize the buffer with this chunk.\n",
    "    if not buffer_content and len(text) < min_size:\n",
    "        buffer_content = text\n",
    "        buffer_metadata = doc.metadata\n",
    "    # If there is already content in the buffer, concatenate it with the current chunk.\n",
    "    elif buffer_content:\n",
    "        buffer_content += \"\\n\" + text  # add a line break to separate the texts\n",
    "        # When the buffer reaches or exceeds the minimum size, create a Document\n",
    "        if len(buffer_content) >= min_size:\n",
    "            merged_documents.append(\n",
    "                Document(page_content=buffer_content, metadata=buffer_metadata)\n",
    "            )\n",
    "            buffer_content = \"\"\n",
    "            buffer_metadata = {}\n",
    "    # If the current chunk is already large enough and there is nothing in the buffer, add it directly.\n",
    "    elif len(text) >= min_size:\n",
    "        merged_documents.append(Document(page_content=text, metadata=doc.metadata))\n",
    "\n",
    "# If there is remaining content in the buffer, add it as well.\n",
    "if buffer_content:\n",
    "    merged_documents.append(Document(page_content=buffer_content, metadata=buffer_metadata))\n",
    "\n",
    "# Example of printing the results:\n",
    "for i, document in enumerate(merged_documents):\n",
    "    print(f\"Document {i+1}:\")\n",
    "    print(\"Metadata:\", document.metadata)\n",
    "    print(\"Content (first 200 characters):\", document.page_content[:200])\n",
    "    print(\"-\" * 50)"
   ]
  },
  {
   "cell_type": "code",
   "execution_count": null,
   "metadata": {},
   "outputs": [],
   "source": [
    "print(f\"Generated {len(all_splits)} chunks in total.\")"
   ]
  },
  {
   "cell_type": "code",
   "execution_count": null,
   "metadata": {},
   "outputs": [],
   "source": [
    "print(f\"Generated {len(merged_documents)} chunks in total.\")"
   ]
  },
  {
   "cell_type": "code",
   "execution_count": null,
   "metadata": {},
   "outputs": [],
   "source": [
    "merged_documents"
   ]
  },
  {
   "cell_type": "markdown",
   "metadata": {},
   "source": [
    "## **RAG**"
   ]
  },
  {
   "cell_type": "code",
   "execution_count": 1,
   "metadata": {},
   "outputs": [],
   "source": [
    "from langchain_ollama import OllamaEmbeddings\n",
    "from langchain.vectorstores import FAISS\n",
    "from langchain_ollama import ChatOllama\n",
    "from langchain.schema import Document\n",
    "from langgraph.graph import START, StateGraph\n",
    "from IPython.display import Image, display\n",
    "from pprint import pprint\n",
    "from langchain_core.prompts import ChatPromptTemplate\n",
    "from typing_extensions import TypedDict\n",
    "from typing import List"
   ]
  },
  {
   "cell_type": "code",
   "execution_count": 2,
   "metadata": {},
   "outputs": [],
   "source": [
    "# Example embeddings (you can use OpenAIEmbeddings or another)\n",
    "embeddings = OllamaEmbeddings(model=\"nomic-embed-text:latest\")\n",
    "\n",
    "# Create an in-memory local vector store (FAISS)\n",
    "# vector_store = FAISS.from_documents(merged_documents, embedding=embeddings)"
   ]
  },
  {
   "cell_type": "code",
   "execution_count": 3,
   "metadata": {},
   "outputs": [],
   "source": [
    "# vector_store.save_local(\"faiss_index\")"
   ]
  },
  {
   "cell_type": "code",
   "execution_count": 4,
   "metadata": {},
   "outputs": [],
   "source": [
    "vector_store = FAISS.load_local(\"faiss_index\", embeddings, allow_dangerous_deserialization=True)"
   ]
  },
  {
   "cell_type": "code",
   "execution_count": 5,
   "metadata": {},
   "outputs": [],
   "source": [
    "# Example of an LLM\n",
    "llm = ChatOllama(temperature=0, model=\"gemma3:12b\")"
   ]
  },
  {
   "cell_type": "code",
   "execution_count": 6,
   "metadata": {},
   "outputs": [],
   "source": [
    "template = \"\"\"You are an AI language model assistant that understands PROFIBUS-related documents and specifications in the context of industrial automation.\n",
    "\n",
    "IMPORTANT: FOCUS **ONLY ON PROFIBUS**.  \n",
    "DO NOT INCLUDE **ANYTHING** ABOUT PROFINET.  \n",
    "DO NOT INCLUDE **ANYTHING** ABOUT CANOPEN.  \n",
    "THIS IS **ONLY** ABOUT PROFIBUS.  \n",
    "REPEAT: **PROFIBUS ONLY**.  \n",
    "IGNORE ALL OTHER PROTOCOLS.\n",
    "\n",
    "### Instructions:\n",
    "- Answer in a clear, informative, and technically accurate manner.\n",
    "- Provide a **complete and relevant explanation**, but avoid excessive detail.\n",
    "- Start with a **direct answer**, then expand with useful clarification, examples, or context if appropriate.\n",
    "- Avoid unnecessary filler or repetition.\n",
    "- Answer **in the same language as the question**.\n",
    "- You can say \"I don't know\" if you don't know the answer.\n",
    "\n",
    "### Now answer the following:\n",
    "\n",
    "Question: {question}\n",
    "\n",
    "Context: {context}\n",
    "\n",
    "Answer (in the language of the question):  \n",
    "\"\"\"\n",
    "\n",
    "prompt = ChatPromptTemplate.from_template(template)"
   ]
  },
  {
   "cell_type": "code",
   "execution_count": 7,
   "metadata": {},
   "outputs": [],
   "source": [
    "class State(TypedDict):\n",
    "    question: str           # User's question\n",
    "    context: List[Document] # Documents returned by the retrieve function\n",
    "    answer: str             # Final answer from the LLM\n",
    "\n",
    "def retrieve(state: State):\n",
    "    \"\"\"\n",
    "    Retrieval step: performs a similarity search in the vector_store\n",
    "    and returns the documents that will serve as context for the answer.\n",
    "    \n",
    "    Args:\n",
    "        state (State): The current state containing the user's question.\n",
    "    \n",
    "    Returns:\n",
    "        dict: A dictionary with the key \"context\" that will be added to the state.\n",
    "    \"\"\"\n",
    "    retrieved_docs = vector_store.similarity_search(state[\"question\"], k=5)\n",
    "    # Returns a dictionary with the key \"context\"\n",
    "    return {\"context\": retrieved_docs}\n",
    "\n",
    "def generate(state: State):\n",
    "    \"\"\"\n",
    "    Generation step: formats the 'context' and the 'question' into a prompt,\n",
    "    calls the LLM, and obtains the final answer.\n",
    "    \n",
    "    Args:\n",
    "        state (State): The current state containing the user's question and the retrieved context.\n",
    "    \n",
    "    Returns:\n",
    "        dict: A dictionary with the key \"answer\" containing the final answer from the LLM.\n",
    "    \n",
    "    Raises:\n",
    "        ValueError: If the response format from the LLM is unexpected.\n",
    "    \"\"\"\n",
    "    docs_content = \"\\n\\n\".join(doc.page_content for doc in state[\"context\"])\n",
    "    messages = prompt.invoke({\"question\": state[\"question\"], \"context\": docs_content})\n",
    "    \n",
    "    response = llm.invoke(messages)  # or llm(messages), depending on your setup\n",
    "\n",
    "    # If the response is of type AIMessage and has the attribute 'content', use it:\n",
    "    if hasattr(response, \"content\"):\n",
    "        return {\"answer\": response.content}\n",
    "    elif isinstance(response, str):\n",
    "        return {\"answer\": response}\n",
    "    else:\n",
    "        raise ValueError(\"Unexpected response format.\")"
   ]
  },
  {
   "cell_type": "code",
   "execution_count": 8,
   "metadata": {},
   "outputs": [],
   "source": [
    "# Build the application graph:\n",
    "graph_builder = StateGraph(State).add_sequence([retrieve, generate])\n",
    "graph_builder.add_edge(START, \"retrieve\")\n",
    "\n",
    "# Compile into a callable \"graph\" object\n",
    "graph = graph_builder.compile()"
   ]
  },
  {
   "cell_type": "code",
   "execution_count": 9,
   "metadata": {},
   "outputs": [
    {
     "data": {
      "image/png": "[encoded data removed]",
      "text/plain": [
       "<IPython.core.display.Image object>"
      ]
     },
     "metadata": {},
     "output_type": "display_data"
    }
   ],
   "source": [
    "display(Image(graph.get_graph().draw_mermaid_png()))"
   ]
  },
  {
   "cell_type": "markdown",
   "metadata": {},
   "source": [
    "## **Queries**"
   ]
  },
  {
   "cell_type": "code",
   "execution_count": null,
   "metadata": {},
   "outputs": [],
   "source": [
    "import re\n",
    "from pprint import pprint\n",
    "\n",
    "def clean_answer(answer: str) -> str:\n",
    "    \"\"\"\n",
    "    Cleans the generated answer by removing unnecessary information and formatting.\n",
    "    \n",
    "    Args:\n",
    "        answer (str): The raw answer generated by the LLM.\n",
    "        \n",
    "    Returns:\n",
    "        str: The cleaned answer, formatted for better readability.\n",
    "    \"\"\"\n",
    "\n",
    "    # Remove logs such as INFO:langchain...\n",
    "    cleaned = re.sub(r'INFO:.*?(\\n|$)', '', answer)\n",
    "\n",
    "    # Extract the value of the 'answer' key if it's a dictionary string\n",
    "    match = re.search(r\"'answer':\\s*([\\\"'])(.*?)\\1\", cleaned, re.DOTALL)\n",
    "    if match:\n",
    "        cleaned = match.group(2)\n",
    "\n",
    "    # Remove markdown bold formatting **text**\n",
    "    cleaned = re.sub(r\"\\*\\*(.*?)\\*\\*\", r\"\\1\", cleaned)\n",
    "\n",
    "    # Remove duplicate spaces and normalize line breaks\n",
    "    cleaned = re.sub(r'\\n{3,}', '\\n\\n', cleaned)\n",
    "    cleaned = re.sub(r'[ \\t]+$', '', cleaned, flags=re.MULTILINE)\n",
    "\n",
    "    return cleaned.strip()\n",
    "\n",
    "def clean_context(context):\n",
    "    \"\"\"\n",
    "    Simplifies the context by extracting relevant metadata and limiting content length.\n",
    "    \n",
    "    Args:\n",
    "        context (List[Document]): The list of documents retrieved as context.\n",
    "        \n",
    "    Returns:\n",
    "        List[dict]: A simplified list of dictionaries containing the document ID and a snippet of the content.\n",
    "    \"\"\"\n",
    "    \n",
    "    return [\n",
    "        {\n",
    "            \"id\": doc.metadata.get(\"name_file\", doc.metadata.get(\"source\", \"unknown\")),\n",
    "            \"content\": doc.page_content[:300] + \"...\" if len(doc.page_content) > 300 else doc.page_content\n",
    "        }\n",
    "        for doc in context\n",
    "    ]\n",
    "\n",
    "def process_question(question: str):\n",
    "    \"\"\"\n",
    "    Process a user's question by retrieving context and generating an answer using the graph.\n",
    "\n",
    "    Args:\n",
    "        question (str): The user's question.\n",
    "\n",
    "    Prints:\n",
    "        The retrieved context and the generated answer.\n",
    "    \"\"\"\n",
    "    for step_result in graph.stream({\"question\": question}, stream_mode=\"updates\"):\n",
    "        if \"retrieve\" in step_result:\n",
    "            context = step_result.get(\"retrieve\", {}).get(\"context\", [])\n",
    "            simplified_context = clean_context(context)\n",
    "            print(\"\\n📚 Retrieved Context:\\n\")\n",
    "            pprint(simplified_context)\n",
    "\n",
    "        if \"generate\" in step_result:\n",
    "            raw_answer = step_result.get(\"generate\", {}).get(\"answer\", \"\")\n",
    "            formatted_answer = clean_answer(raw_answer)\n",
    "            print(\"\\n🧠 Generated Answer:\\n\")\n",
    "            print(formatted_answer)\n"
   ]
  },
  {
   "cell_type": "markdown",
   "metadata": {},
   "source": [
    "### 1 - What is a GSD file, where can you get it, and what is its function?"
   ]
  },
  {
   "cell_type": "code",
   "execution_count": 12,
   "metadata": {},
   "outputs": [
    {
     "name": "stdout",
     "output_type": "stream",
     "text": [
      "\n",
      "📚 Retrieved Context:\n",
      "\n",
      "[{'content': '#### **B.4.2.1.1 General**', 'id': 'iec61784-5-3{ed3.0}b'},\n",
      " {'content': '| Transmission activation    | Activation de transmission  |  \\n'\n",
      "             '<span id=\"page-190-0\"></span>**Figure B.13 – Dispositif de '\n",
      "             'terrain à isolation galvanique**  \\n'\n",
      "             'En ce qui concerne un dispositif de terrain alimenté par le bus, '\n",
      "             \"l'isolation galvanique doit protéger à la fois les signaux \"\n",
      "             \"(c'est-à-dire la tr...\",\n",
      "  'id': 'iec61784-5-3{ed3.0}b'},\n",
      " {'content': '# **B.4.4.3.1 Common description**',\n",
      "  'id': 'iec61784-5-3{ed3.0}b'},\n",
      " {'content': '| 4                  | RxD/TxD-P | Receive/transmit data; line B '\n",
      "             '(red)   |                                              |\\n'\n",
      "             '| 5                  | (Shield)  | Connection to shield not '\n",
      "             'recommended  |                                              |\\n'\n",
      "             '| Screwed<br>(gland) | Shield    | Shielding            ...',\n",
      "  'id': 'iec61784-5-3{ed3.0}b'},\n",
      " {'content': '| '\n",
      "             '4                                                                                                                                                   '\n",
      "             '| RxD/TxD-P | Receive/transmit data; line B (red)   '\n",
      "             '|                                               |  |  |\\n'\n",
      "             '| 5                                       ...',\n",
      "  'id': 'iec61784-5-3{ed3.0}b'}]\n",
      "\n",
      "🧠 Generated Answer:\n",
      "\n",
      "A GSD file (German: Geräte-Stücklisten Datei, meaning \"device description file\") is a text file that describes a PROFIBUS slave device to a master controller.\n",
      "\n",
      "Where to get it: GSD files are provided by the manufacturer of the PROFIBUS slave device. They are typically available for download from the manufacturer's website or included on the device's documentation.\n",
      "\n",
      "Function: The GSD file contains information such as:\n",
      "\n",
      "*   Device name and manufacturer\n",
      "*   Module type and hardware revision\n",
      "*   Input/Output data block definitions (data types, addresses, etc.)\n",
      "*   Parameterization options\n",
      "*   Communication parameters\n",
      "\n",
      "The PROFIBUS master uses this information to correctly configure and communicate with the slave device. Without a GSD file, the master would not know how to interpret the data from the slave or how to configure its parameters.\n"
     ]
    }
   ],
   "source": [
    "question_1 = \"What is a GSD file, where can you get it, and what is its function?\"\n",
    "process_question(question_1)"
   ]
  },
  {
   "cell_type": "markdown",
   "metadata": {},
   "source": [
    "### 2 - What is a token message and how and which devices use it?"
   ]
  },
  {
   "cell_type": "code",
   "execution_count": 13,
   "metadata": {},
   "outputs": [
    {
     "name": "stdout",
     "output_type": "stream",
     "text": [
      "\n",
      "📚 Retrieved Context:\n",
      "\n",
      "[{'content': '# INTRODUCTION  \\n'\n",
      "             'This International Standard is one of a series produced to '\n",
      "             'facilitate the use of communication networks in industrial '\n",
      "             'control systems.  \\n'\n",
      "             'IEC 61918:2013 provides the common requirements for the '\n",
      "             'installation of communication networks in industrial control '\n",
      "             'systems. This installation pr...',\n",
      "  'id': 'iec61784-5-3{ed3.0}b'},\n",
      " {'content': '### **C.5.7.3.3 Earthing of equipment (devices)**',\n",
      "  'id': 'iec61784-5-3{ed3.0}b'},\n",
      " {'content': 'Communication devices, which are used in potentially explosive '\n",
      "             'areas, shall comply with standards for intrinsically safe '\n",
      "             'apparatus. The device documentation shall contain a statement '\n",
      "             'specifying that the devices conform to the FISCO model. Other '\n",
      "             'specifications which should also be given include permi...',\n",
      "  'id': 'iec61784-5-3{ed3.0}b'},\n",
      " {'content': '# **A.5.7.3.3 Earthing of equipment (devices)**',\n",
      "  'id': 'iec61784-5-3{ed3.0}b'},\n",
      " {'content': '| Transmission activation    | Activation de transmission  |  \\n'\n",
      "             '<span id=\"page-190-0\"></span>**Figure B.13 – Dispositif de '\n",
      "             'terrain à isolation galvanique**  \\n'\n",
      "             'En ce qui concerne un dispositif de terrain alimenté par le bus, '\n",
      "             \"l'isolation galvanique doit protéger à la fois les signaux \"\n",
      "             \"(c'est-à-dire la tr...\",\n",
      "  'id': 'iec61784-5-3{ed3.0}b'}]\n",
      "\n",
      "🧠 Generated Answer:\n",
      "\n",
      "The provided text does not mention \"token messages.\" It focuses on earthing of equipment and isolation in PROFIBUS networks, but does not describe any message handling mechanisms like token passing. Therefore, I don't know what a token message is in the context of PROFIBUS.\n"
     ]
    }
   ],
   "source": [
    "question_2 = \"What is a token message and how and which devices use it?\"\n",
    "process_question(question_2)"
   ]
  },
  {
   "cell_type": "markdown",
   "metadata": {},
   "source": [
    "### 3 - Which protocol parameter describes the slave's action time after receiving a message?"
   ]
  },
  {
   "cell_type": "code",
   "execution_count": null,
   "metadata": {},
   "outputs": [
    {
     "name": "stdout",
     "output_type": "stream",
     "text": [
      "\n",
      "📚 Retrieved Context:\n",
      "\n",
      "[{'content': '![](_page_190_Figure_2.jpeg)  \\n'\n",
      "             'RxS = received signal TxS = transmitted signal TxA = '\n",
      "             'Transmission Activation',\n",
      "  'id': 'iec61784-5-3{ed3.0}b'},\n",
      " {'content': '#### **human machine interface**  \\n'\n",
      "             'component of a process control system in use for data '\n",
      "             'acquisition from an automated process and its appropriate '\n",
      "             'representation as well as for manipulation of this process',\n",
      "  'id': 'iec61784-5-3{ed3.0}b'},\n",
      " {'content': '![](_page_43_Figure_1.jpeg)  \\n'\n",
      "             '![](_page_43_Figure_2.jpeg)  \\n'\n",
      "             '<span id=\"page-43-0\"></span>**Figure A.12 – Action and '\n",
      "             'resolution tree for measurement 2 (RS 485 and RS 485-IS)**  \\n'\n",
      "             'e) Measurement 3  \\n'\n",
      "             'This test reveals whether additional terminators are switched on '\n",
      "             'within the CP 3/1 cable segment. [Figure...',\n",
      "  'id': 'iec61784-5-3{ed3.0}b'},\n",
      " {'content': '#### **C.6.3.2.1.2 Transmission performance test parameters**',\n",
      "  'id': 'iec61784-5-3{ed3.0}b'},\n",
      " {'content': '![](_page_41_Figure_2.jpeg)  \\n'\n",
      "             '**Figure A.10 – Loop core resistance (cable type A)**  \\n'\n",
      "             '<span id=\"page-41-0\"></span>[Figure A.11](#page-42-0) shows a '\n",
      "             'measurement action and reasoning plan to be followed for '\n",
      "             'measurement 1. The value × represents the forward and reverse '\n",
      "             'resistance for the respective tes...',\n",
      "  'id': 'iec61784-5-3{ed3.0}b'}]\n",
      "\n",
      "🧠 Generated Answer:\n",
      "\n",
      "The protocol parameter that describes the slave's action time after receiving a message is not explicitly named in the provided text. However, the context of \"Measurement 2\" and \"Action and resolution tree\" suggests this parameter is being assessed as part of a diagnostic or testing procedure for PROFIBUS slave devices.\n",
      "\n",
      "The provided figures (A.12 and A.13) illustrate a measurement action and reasoning plan, implying that the \"action time\" is being evaluated as part of a broader performance test. The text doesn's provide a specific parameter name, but it's clear that the timing of a slave's response to a received message is a key aspect of the test.\n"
     ]
    }
   ],
   "source": [
    "question_3 = \"Which protocol parameter describes the slave's action time after receiving a message?\"\n",
    "process_question(question_3)"
   ]
  },
  {
   "cell_type": "markdown",
   "metadata": {},
   "source": [
    "### 4 - How to calculate DP cycle time?"
   ]
  },
  {
   "cell_type": "code",
   "execution_count": null,
   "metadata": {},
   "outputs": [
    {
     "name": "stdout",
     "output_type": "stream",
     "text": [
      "\n",
      "📚 Retrieved Context:\n",
      "\n",
      "[{'content': '| Σ Line length for core cross<br>section q=2,5 mm2 | m  | ≤ 1 '\n",
      "             '000 | ≤ 1 900 | ≤ 1 200  | ≤ 1 900 | ≤ 1 900 | ≤ 1 900 |  \\n'\n",
      "             'The required current (= Σ current demand) is calculated by the '\n",
      "             'sum of the basic device currents of the field devices, the '\n",
      "             'current of the handheld terminal, the current of the cou...',\n",
      "  'id': 'iec61784-5-3{ed3.0}b'},\n",
      " {'content': '| Diamètre du fil                                            | '\n",
      "             'n.a.                                                               '\n",
      "             '|  |\\n'\n",
      "             '| Dispersion du temps de<br>propagation                      | ≤ '\n",
      "             '20 ns                                                            '\n",
      "             '|  |',\n",
      "  'id': 'iec61784-5-3{ed3.0}b'},\n",
      " {'content': '| Symétrique ou asymétrique                                  | '\n",
      "             'Symétrique                                          | '\n",
      "             'Symétrique                                          |\\n'\n",
      "             '| DCR des conducteurs                                        | ≤ '\n",
      "             '62 Ω/km                                           | ≤ 62 Ω/km   '\n",
      "             '...',\n",
      "  'id': 'iec61784-5-3{ed3.0}b'},\n",
      " {'content': '![](_page_40_Figure_6.jpeg)  \\n'\n",
      "             '<span id=\"page-40-1\"></span>![](_page_40_Figure_7.jpeg)  \\n'\n",
      "             'If the installation does not have a 9-pin Sub-D plug connector '\n",
      "             'at the beginning and the end of the segment, measurements can be '\n",
      "             'performed directly on the cable, see [Figure '\n",
      "             'A.9.](#page-40-2)  \\n'\n",
      "             '![](_page_40_Figure...',\n",
      "  'id': 'iec61784-5-3{ed3.0}b'},\n",
      " {'content': '| 3   | '\n",
      "             'RxD/TxD-P                                                                                                                       '\n",
      "             '| Receive/transmit data; line B (red)   '\n",
      "             '|                                                 | '\n",
      "             'Mandatory       |  |  |  |\\n'\n",
      "             '| 4   | CNTR-P                               ...',\n",
      "  'id': 'iec61784-5-3{ed3.0}b'}]\n",
      "\n",
      "🧠 Generated Answer:\n",
      "\n",
      "The provided document does not contain information on how to calculate DP cycle time. It focuses on cable specifications and measurements for PROFIBUS installations, including details about conductor resistance, shielding, and connector configurations. It does not address the calculation of DP cycle time, which is a function of the number of bytes transferred and the bus speed.\n"
     ]
    }
   ],
   "source": [
    "question_4 = \"How to calculate DP cycle time?\"\n",
    "process_question(question_4)"
   ]
  },
  {
   "cell_type": "markdown",
   "metadata": {},
   "source": [
    "### 5 - Briefly explain the function of a watchdog timer in a PROFIBUS DP slave."
   ]
  },
  {
   "cell_type": "code",
   "execution_count": null,
   "metadata": {},
   "outputs": [
    {
     "name": "stdout",
     "output_type": "stream",
     "text": [
      "\n",
      "📚 Retrieved Context:\n",
      "\n",
      "[{'content': '- [4] PROFIBUS Guideline: *PROFIBUS PA User and Installation '\n",
      "             'Guideline, V2.2, February 2003. PNO-Order No 2.092*, available '\n",
      "             'at <http:www.profibus.com> (disponible en anglais seulement)\\n'\n",
      "             '- [5] PROFIBUS Guideline: *PROFIsafe, Additional Requiremenst '\n",
      "             'for Installation, Immunity and electrical Safety, V1....',\n",
      "  'id': 'iec61784-5-3{ed3.0}b'},\n",
      " {'content': '- [6] PROFIBUS *Guideline: PROFIBUS RS 485-IS User and '\n",
      "             'Installation Guideline, V1.1, June 2003. PNO-Order No 2.262,* '\n",
      "             'available at <http:www.profibus.com>\\n'\n",
      "             '- [7] PROFIBUS Guideline: *Installation Guideline for Planning, '\n",
      "             'V1.0, PNO-Order No 8.012,* available at <http:www.profibus.com>\\n'\n",
      "             '- [8] PROFIBUS Gui...',\n",
      "  'id': 'iec61784-5-3{ed3.0}b'},\n",
      " {'content': '# Bibliography  \\n'\n",
      "             '- [1] PROFIBUS Guideline: *Installation Guide for PROFIBUS '\n",
      "             'DP/FMS, V1.0, September 1998. PNO-Order No 2.112,* available at '\n",
      "             '<http:www.profibus.com>\\n'\n",
      "             '- [2] PROFIBUS Guideline: *PROFIBUS Interconnection Technology, '\n",
      "             'V1.4, August 2007. PNO-Order No 2.142,* available at '\n",
      "             '<http:www.profibus....',\n",
      "  'id': 'iec61784-5-3{ed3.0}b'},\n",
      " {'content': '![](_page_39_Figure_1.jpeg)  \\n'\n",
      "             '<span id=\"page-39-0\"></span>![](_page_39_Figure_2.jpeg)  \\n'\n",
      "             '2) Test circuit B:  \\n'\n",
      "             '[Figure A.6](#page-39-1) shows a short circuit between data line '\n",
      "             'A (pin 8) and the shielding at the remote connector. Resistance '\n",
      "             'meter between data line A (pin 8) and the shielding at the '\n",
      "             'loc...',\n",
      "  'id': 'iec61784-5-3{ed3.0}b'},\n",
      " {'content': '#### **human machine interface**  \\n'\n",
      "             'component of a process control system in use for data '\n",
      "             'acquisition from an automated process and its appropriate '\n",
      "             'representation as well as for manipulation of this process',\n",
      "  'id': 'iec61784-5-3{ed3.0}b'}]\n",
      "\n",
      "🧠 Generated Answer:\n",
      "\n",
      "A watchdog timer in a PROFIBUS DP slave is a safety mechanism that detects and recovers from software failures. It works by requiring the slave device to periodically \"kick\" or reset the timer. If the slave fails to do so within a predefined time interval, the watchdog timer expires, and the slave is reset or brought to a safe state. This prevents the slave from remaining in a faulty, unresponsive state, which could disrupt the entire PROFIBUS network.\n"
     ]
    }
   ],
   "source": [
    "question_5 = \"Briefly explain the function of a watchdog timer in a PROFIBUS DP slave.\"\n",
    "process_question(question_5)"
   ]
  },
  {
   "cell_type": "markdown",
   "metadata": {},
   "source": [
    "### 6 - Briefly explain the meaning of “sync” and “freeze” modes. Which device(s) must support these modes?"
   ]
  },
  {
   "cell_type": "code",
   "execution_count": null,
   "metadata": {},
   "outputs": [
    {
     "name": "stdout",
     "output_type": "stream",
     "text": [
      "\n",
      "📚 Retrieved Context:\n",
      "\n",
      "[{'content': '#### **B.4.4.5.1 Common description**  \\n'\n",
      "             '*Addition:*  \\n'\n",
      "             'If devices according to CP 3/2 with MBP-IS are intended to be '\n",
      "             'used in hazardous locations then the national regulation shall '\n",
      "             'be observed when installing such devices.',\n",
      "  'id': 'iec61784-5-3{ed3.0}b'},\n",
      " {'content': '| NOTE<br>IEC '\n",
      "             '61754<br>series<br>defines<br>the<br>optical<br>fibre<br>connector<br>mechanical<br>interfaces;<br>performance '\n",
      "             '|                                     '\n",
      "             '|                                  '\n",
      "             '|                                    '\n",
      "             '|                                   |                            '\n",
      "             '...',\n",
      "  'id': 'iec61784-5-3{ed3.0}b'},\n",
      " {'content': '#### **B.3.1.85 codage Manchester**  \\n'\n",
      "             'méthode de codage binaire permettant à des récepteurs de '\n",
      "             'télécommunication série de déterminer, de manière univoque, le '\n",
      "             'début, la fin ou le milieu de chaque bit sans référence à une '\n",
      "             'horloge externe (synchrone)',\n",
      "  'id': 'iec61784-5-3{ed3.0}b'},\n",
      " {'content': '|                                                                                                                                                                                     '\n",
      "             '|           | Cable                                 | '\n",
      "             'Device                                         |                '\n",
      "             '...',\n",
      "  'id': 'iec61784-5-3{ed3.0}b'},\n",
      " {'content': '#### **Manchester encoding**  \\n'\n",
      "             'binary encoding method enabling receivers of serial '\n",
      "             'communications to unambiguously determine the start, end, or '\n",
      "             'middle of each bit without reference to an external clock '\n",
      "             '(synchronous)',\n",
      "  'id': 'iec61784-5-3{ed3.0}b'}]\n",
      "\n",
      "🧠 Generated Answer:\n",
      "\n",
      "\"Sync\" and \"freeze\" modes relate to how PROFIBUS slaves handle communication during diagnostics or maintenance.\n",
      "\n",
      "*   Sync mode: This mode forces a slave device to synchronize its internal clock to the master's clock. This is crucial for ensuring correct data interpretation during diagnostic communication, especially when the slave's clock might have drifted.\n",
      "*   Freeze mode: In freeze mode, the slave device pauses its normal process and holds its values. This allows the master to read the slave's current state without disturbing its operation.\n",
      "\n",
      "Which devices must support these modes?\n",
      "\n",
      "According to the PROFIBUS standard, all PROFIBUS slaves are required to support both sync and freeze modes. This ensures diagnostic capabilities are available across the entire network.\n"
     ]
    }
   ],
   "source": [
    "question_6 = \"Briefly explain the meaning of “sync” and “freeze” modes. Which device(s) must support these modes?\"\n",
    "process_question(question_6)"
   ]
  },
  {
   "cell_type": "markdown",
   "metadata": {},
   "source": [
    "### 7 - Discuss the factors that have a significant effect on the overall cycle time of a DP network."
   ]
  },
  {
   "cell_type": "code",
   "execution_count": null,
   "metadata": {},
   "outputs": [
    {
     "name": "stdout",
     "output_type": "stream",
     "text": [
      "\n",
      "📚 Retrieved Context:\n",
      "\n",
      "[{'content': '| Wire diameter                             | Application '\n",
      "             'dependent                                                                     '\n",
      "             '| Application '\n",
      "             'dependent                                                                     '\n",
      "             '|\\n'\n",
      "             '| Delay skew a                              | ≤ 20 ns/100 '\n",
      "             'm           ...',\n",
      "  'id': 'iec61784-5-3{ed3.0}b'},\n",
      " {'content': '| '\n",
      "             'influence:                                                                      '\n",
      "             '| Correlations                                 | '\n",
      "             'Independent                        | '\n",
      "             'Independent                      |\\n'\n",
      "             '| Field '\n",
      "             'assembly:                                                                 '\n",
      "             '| ++           ...',\n",
      "  'id': 'iec61784-5-3{ed3.0}b'},\n",
      " {'content': '#### <span id=\"page-19-0\"></span>**Table A.3 – Network '\n",
      "             'characteristics for optical fibre cabling**',\n",
      "  'id': 'iec61784-5-3{ed3.0}b'},\n",
      " {'content': 'NOTE Sporadic events such as switching, short circuits, or '\n",
      "             'atmospheric discharge (lightning strike) can cause current peaks '\n",
      "             'in the system many times higher than the average value.  \\n'\n",
      "             '| A.4.4.7.1.2 | Planner '\n",
      "             'tasks                                                     |\\n'\n",
      "             '|-------------|-------------------...',\n",
      "  'id': 'iec61784-5-3{ed3.0}b'},\n",
      " {'content': '#### **B.4.3.2 Network characteristics**',\n",
      "  'id': 'iec61784-5-3{ed3.0}b'}]\n",
      "\n",
      "🧠 Generated Answer:\n",
      "\n",
      "Several factors significantly affect the overall cycle time of a DP (Decentralized Periphery) PROFIBUS network. These can be broadly categorized into network hardware, network configuration, and external influences.\n",
      "\n",
      "1. Network Hardware & Cabling:\n",
      "\n",
      "*   Cable Type & Length: Longer cable lengths inherently increase propagation delay, impacting cycle time. The provided table references optical fiber cabling, which generally offers better performance than copper cabling for longer distances, but still has limitations.\n",
      "*   Wire Diameter & Delay Skew: As indicated in the table, delay skew (≤ 20 ns/100 m for CP 3/6 networks) is a critical factor. This refers to the difference in arrival times of signals at different nodes. Minimizing skew is essential for maintaining timing accuracy.\n",
      "*   Node Processing Time: Each device (slave) on the network requires time to process data. Faster processors and optimized software within the slaves reduce this processing time, improving overall cycle time.\n",
      "\n",
      "2. Network Configuration:\n",
      "\n",
      "*   Network Topology: The structure of the network (e.g., line, tree) affects the maximum propagation delay. A linear topology generally has lower latency than a tree structure.\n",
      "*   Number of Devices: A larger number of devices increases the time required for the master to communicate with each slave.\n",
      "*   Data Exchange Rate (Cycle Time): The configured cycle time for each slave directly impacts the overall network cycle time. Shorter cycle times demand faster communication and processing.\n",
      "*   Data Volume: The amount of data exchanged between the master and each slave influences the cycle time. Larger data blocks take longer to transmit.\n",
      "\n",
      "3. External Influences & Environmental Factors:\n",
      "\n",
      "*   Network Availability: As indicated in the table, network availability is a significant factor. Interruptions or errors increase cycle time due to retransmissions and error handling.\n",
      "*   Mating Cycles: Frequent disconnections and reconnects (mating cycles) can introduce delays and potential errors, impacting cycle time.\n",
      "*   Electrical Noise & Grounding: Improper grounding and electrical noise can cause signal corruption and require retransmissions, increasing cycle time. The referenced sections A.4.4.7.1.3 to A.4.4.7.2.4 highlight the importance of proper earthing and bonding to minimize these issues.\n",
      "*   Sudden Events: Sporadic events like switching, short circuits, or lightning strikes (mentioned in the note) can cause significant delays and disruptions.\n",
      "\n",
      "The table highlights the importance of careful planning and maintenance to optimize PROFIBUS DP network performance and minimize cycle time.\n"
     ]
    }
   ],
   "source": [
    "question_7 = \"Discuss the factors that have a significant effect on the overall cycle time of a DP network.\"\n",
    "process_question(question_7)"
   ]
  },
  {
   "cell_type": "markdown",
   "metadata": {},
   "source": [
    "### 8 - What are the four operating modes of a DP class 1 master? Briefly explain the interaction between the master and its assigned slaves in each mode.\n"
   ]
  },
  {
   "cell_type": "code",
   "execution_count": null,
   "metadata": {},
   "outputs": [
    {
     "name": "stdout",
     "output_type": "stream",
     "text": [
      "\n",
      "📚 Retrieved Context:\n",
      "\n",
      "[{'content': '| DCR of shield                             | '\n",
      "             '-                                                                                         '\n",
      "             '| '\n",
      "             '-                                                                                         '\n",
      "             '|\\n'\n",
      "             '| Number of conductors                      | '\n",
      "             '4                       ...',\n",
      "  'id': 'iec61784-5-3{ed3.0}b'},\n",
      " {'content': '#### **human machine interface**  \\n'\n",
      "             'component of a process control system in use for data '\n",
      "             'acquisition from an automated process and its appropriate '\n",
      "             'representation as well as for manipulation of this process',\n",
      "  'id': 'iec61784-5-3{ed3.0}b'},\n",
      " {'content': '# **C.1 Installation profile scope**  \\n'\n",
      "             'This standard specifies the installation profile for '\n",
      "             'Communication Profiles CP 3/3, CP 3/4, CP 3/5, and CP 3/6 '\n",
      "             '(PROFINET). The CP 3/3 is specified in IEC 61784-1 and CP 3/4, '\n",
      "             'CP 3/5, and CP 3/6 are specified in IEC 61784-2.',\n",
      "  'id': 'iec61784-5-3{ed3.0}b'},\n",
      " {'content': '#### **interface homme-machine**  \\n'\n",
      "             \"composant d'un système de commande de processus utilisé pour \"\n",
      "             \"l'acquisition de données à partir d'un processus automatisé et \"\n",
      "             'sa représentation appropriée, ainsi que pour la manipulation de '\n",
      "             'ce processus',\n",
      "  'id': 'iec61784-5-3{ed3.0}b'},\n",
      " {'content': '# INTRODUCTION  \\n'\n",
      "             'This International Standard is one of a series produced to '\n",
      "             'facilitate the use of communication networks in industrial '\n",
      "             'control systems.  \\n'\n",
      "             'IEC 61918:2013 provides the common requirements for the '\n",
      "             'installation of communication networks in industrial control '\n",
      "             'systems. This installation pr...',\n",
      "  'id': 'iec61784-5-3{ed3.0}b'}]\n",
      "\n",
      "🧠 Generated Answer:\n",
      "\n",
      "A DP (Decentralized Periphery) Class 1 master operates in four modes: Operational, Substitute, Diagnostic, and Maximal. Here's a brief explanation of each and the master-slave interaction:\n",
      "\n",
      "*   Operational Mode: This is the normal operating mode. The master communicates with all active slaves according to their configured data exchange relationships. Data is exchanged as defined in the DP configuration.\n",
      "*   Substitute Mode: This mode is used when a slave is unavailable (e.g., due to a fault). The master substitutes the missing slave's data with pre-configured, default values. The master continues operation as if the slave were present, preventing process disruption. The master communicates with the remaining active slaves as usual, while providing the substitute data.\n",
      "*   Diagnostic Mode: In this mode, the master prioritizes diagnostic information. It communicates with all active slaves, but the data exchange is reduced to diagnostic data only. This allows for quick identification and troubleshooting of problems within the DP network. Normal process data exchange is suspended.\n",
      "*   Maximal Mode: This mode is used for network diagnostics and configuration. The master communicates with all slaves, regardless of their configured data exchange relationships. This allows for a complete overview of the network status and is typically used during commissioning or troubleshooting.\n",
      "\n",
      "Important Note: The provided context discusses cabling and installation profiles, but it does *not* contain information about DP master operating modes. The answer is based on general PROFIBUS DP knowledge.\n"
     ]
    }
   ],
   "source": [
    "question_8 = \"What are the four operating modes of a DP class 1 master? Briefly explain the interaction between the master and its assigned slaves in each mode.\"\n",
    "process_question(question_8)"
   ]
  },
  {
   "cell_type": "markdown",
   "metadata": {},
   "source": [
    "### 9 - The data unit of a configuration telegram contains the following 3 bytes represented in hexadecimal notation. Decode the meaning of the bytes. \\n- Byte 0:  D1 \\n- Byte 1:  23 \\n- Byte 2:  70"
   ]
  },
  {
   "cell_type": "code",
   "execution_count": null,
   "metadata": {},
   "outputs": [
    {
     "name": "stdout",
     "output_type": "stream",
     "text": [
      "\n",
      "📚 Retrieved Context:\n",
      "\n",
      "[{'content': '![](_page_167_Figure_1.jpeg)  \\n'\n",
      "             '**Figure B.4 – Modèle de bus de terrain**  \\n'\n",
      "             '<span id=\"page-167-0\"></span>On suppose, pour la modulation, que '\n",
      "             'chaque station de bus de terrain consomme un courant de base '\n",
      "             \"d'au moins 10 mA et qu'elle est généralement utilisée pour \"\n",
      "             'alimenter le dispositif. Les dispositifs...',\n",
      "  'id': 'iec61784-5-3{ed3.0}b'},\n",
      " {'content': '#### **Manchester encoding**  \\n'\n",
      "             'binary encoding method enabling receivers of serial '\n",
      "             'communications to unambiguously determine the start, end, or '\n",
      "             'middle of each bit without reference to an external clock '\n",
      "             '(synchronous)',\n",
      "  'id': 'iec61784-5-3{ed3.0}b'},\n",
      " {'content': '#### **B.3.1.85 codage Manchester**  \\n'\n",
      "             'méthode de codage binaire permettant à des récepteurs de '\n",
      "             'télécommunication série de déterminer, de manière univoque, le '\n",
      "             'début, la fin ou le milieu de chaque bit sans référence à une '\n",
      "             'horloge externe (synchrone)',\n",
      "  'id': 'iec61784-5-3{ed3.0}b'},\n",
      " {'content': '#### **Figure B.5 – Current modulation (Manchester II code)**  \\n'\n",
      "             '<span id=\"page-54-0\"></span>The primary characteristics of the '\n",
      "             'data transmission in accordance with Type 1 and Type 3 of IEC '\n",
      "             '61158-2 are listed below.  \\n'\n",
      "             '- Digital, bit-synchronous data transmission.\\n'\n",
      "             '- Data transmission speed of 31,25 kb...',\n",
      "  'id': 'iec61784-5-3{ed3.0}b'},\n",
      " {'content': '| FDE               | Unité électronique de déconnexion sur '\n",
      "             'défaut (Fault disconnect '\n",
      "             'electronic)                                                                   '\n",
      "             '|\\n'\n",
      "             '| FISCO             | Modèle de concept de réseau de terrain de '\n",
      "             'sécurité intrinsèque<br>(CEI '\n",
      "             '60079-27)                                 ...',\n",
      "  'id': 'iec61784-5-3{ed3.0}b'}]\n",
      "\n",
      "🧠 Generated Answer:\n",
      "\n",
      "The provided hexadecimal byte sequence (D1 23 70) represents data transmitted using Manchester encoding in a PROFIBUS system. Let's decode it:\n",
      "\n",
      "Understanding Manchester Encoding in PROFIBUS\n",
      "\n",
      "In PROFIBUS, data is transmitted using current loops and Manchester encoding. Each bit is represented by a current pulse. Manchester encoding ensures synchronization between the transmitter and receiver by encoding each bit with a transition in the current signal. A '0' bit is represented by a transition from positive to negative current, and a '1' bit is represented by a transition from negative to positive current.\n",
      "\n",
      "Decoding the Bytes\n",
      "\n",
      "To decode the bytes, we need to consider that each byte represents 8 bits, and each bit is represented by a current transition. The provided bytes are:\n",
      "\n",
      "*   Byte 0: D1\n",
      "*   Byte 1: 23\n",
      "*   Byte 2: 70\n",
      "\n",
      "Let's convert each hexadecimal byte into its binary equivalent:\n",
      "\n",
      "*   D1: 11010001\n",
      "*   23: 00100011\n",
      "*   70: 01110000\n",
      "\n",
      "Now, we need to interpret these bits in the context of Manchester encoding. Remember that the transitions represent the data, not the absolute current level. Therefore, we need to analyze the *changes* between consecutive bits to determine the data.\n",
      "\n",
      "Important Note: Without knowing the preceding bits, it's impossible to definitively determine the data represented by this sequence. The transitions are relative to the previous bit. However, we can analyze the transitions within the sequence itself.\n",
      "\n",
      "Example of Transition Analysis (Illustrative)\n",
      "\n",
      "Let's assume, for example, that the previous bit was a positive current. Then:\n",
      "\n",
      "*   Byte 0 (11010001): The first '1' represents a transition from negative to positive. The '1' indicates a data '1'.\n",
      "*   Byte 1 (00100011): The first '0' represents a transition from positive to negative. The '0' indicates a data '0'.\n",
      "*   Byte 2 (01110000): The first '0' represents a transition from negative to positive. The '0' indicates a data '0'.\n",
      "\n",
      "Contextual Information\n",
      "\n",
      "*   Data Framing: PROFIBUS communication includes framing information (start, end, preamble, error checking) that is not represented in these bytes.\n",
      "*   Manchester-Bus Powered (MBP/MBP-IS): The MBP and MBP-IS profiles are relevant here, as they combine Manchester encoding with bus-powered capabilities.\n",
      "*   Synchronization: The Manchester encoding ensures that the receiver can synchronize with the transmitter without an external clock signal.\n",
      "\n",
      "To fully decode the data, you would need the entire telegram and knowledge of the PROFIBUS communication profile being used.\n"
     ]
    }
   ],
   "source": [
    "question_9 = \"The data unit of a configuration telegram contains the following 3 bytes represented in hexadecimal notation. Decode the meaning of the bytes. \\n- Byte 0:  D1 \\n- Byte 1:  23 \\n- Byte 2:  70\"\n",
    "process_question(question_9)"
   ]
  },
  {
   "cell_type": "markdown",
   "metadata": {},
   "source": [
    "### 10 - Briefly explain how a slave device, which is in cyclic data exchange, communicates the presence of a diagnostic fault to its controlling master. What does the master do about this?\n"
   ]
  },
  {
   "cell_type": "code",
   "execution_count": null,
   "metadata": {},
   "outputs": [
    {
     "name": "stdout",
     "output_type": "stream",
     "text": [
      "\n",
      "📚 Retrieved Context:\n",
      "\n",
      "[{'content': '#### **B.3.1.81 fault disconnect electronic FDE**  \\n'\n",
      "             'equipment used to limit the current consumed by a field device '\n",
      "             'during a malfunction  \\n'\n",
      "             'Note 1 to entry: This unit can be a part of the field device, or '\n",
      "             'it can be connected in front of it.',\n",
      "  'id': 'iec61784-5-3{ed3.0}b'},\n",
      " {'content': '#### **A.8 Installation maintenance and installation '\n",
      "             'troubleshooting**  \\n'\n",
      "             '*Subclause 8.4 has addition:*  \\n'\n",
      "             'In cases of fieldbus network trouble the checklist according to '\n",
      "             'Annex G of IEC 61918:2013 and the procedures in '\n",
      "             '[A.6.3.3.1.2](#page-38-0) shall be observed.  \\n'\n",
      "             'Additional troubleshooting means can...',\n",
      "  'id': 'iec61784-5-3{ed3.0}b'},\n",
      " {'content': 'The requirements can be summarised as follows.  \\n'\n",
      "             '- In case of a single fault the current consumption of a device '\n",
      "             'may exceed the rated current by not more than 9 mA (fault '\n",
      "             'current ≤ 9 mA). Faults of components close to the fieldbus '\n",
      "             'interface shall not be regarded.\\n'\n",
      "             '- In case of a single fault the inpu...',\n",
      "  'id': 'iec61784-5-3{ed3.0}b'},\n",
      " {'content': '- b) the basic current requested by every station.  \\n'\n",
      "             'If one field device consumes more than a basic current of 10 mA '\n",
      "             '(for example 20 mA), this reduces the number of devices which '\n",
      "             'can be connected.  \\n'\n",
      "             'The minimum current to be delivered by the power supply shall be '\n",
      "             'calculated. This can be easily deriv...',\n",
      "  'id': 'iec61784-5-3{ed3.0}b'},\n",
      " {'content': '#### **human machine interface**  \\n'\n",
      "             'component of a process control system in use for data '\n",
      "             'acquisition from an automated process and its appropriate '\n",
      "             'representation as well as for manipulation of this process',\n",
      "  'id': 'iec61784-5-3{ed3.0}b'}]\n",
      "\n",
      "🧠 Generated Answer:\n",
      "\n",
      "A slave device in cyclic data exchange communicates a diagnostic fault to its controlling master through a mechanism called \"jabber inhibit\" (also known as self-interrupt capability). This is mandated by IEC 61158-2:2007, clause 12.6. When a fault occurs, the slave device stops transmitting data onto the PROFIBUS network. This cessation of transmission signals the fault to the master.\n",
      "\n",
      "The master, upon detecting this interruption in the slave's cyclic data, recognizes the fault condition. The master's response typically involves logging the fault, potentially displaying an error message to an operator (via a human-machine interface), and possibly initiating a diagnostic routine or taking corrective action depending on the application's programmed logic. The master will not receive further data from the faulty slave until the fault is resolved and the slave re-enters normal operation.\n"
     ]
    }
   ],
   "source": [
    "question_10 = \"Briefly explain how a slave device, which is in cyclic data exchange, communicates the presence of a diagnostic fault to its controlling master. What does the master do about this?\"\n",
    "process_question(question_10)"
   ]
  }
 ],
 "metadata": {
  "kernelspec": {
   "display_name": "venv",
   "language": "python",
   "name": "python3"
  },
  "language_info": {
   "codemirror_mode": {
    "name": "ipython",
    "version": 3
   },
   "file_extension": ".py",
   "mimetype": "text/x-python",
   "name": "python",
   "nbconvert_exporter": "python",
   "pygments_lexer": "ipython3",
   "version": "3.13.3"
  }
 },
 "nbformat": 4,
 "nbformat_minor": 2
}
