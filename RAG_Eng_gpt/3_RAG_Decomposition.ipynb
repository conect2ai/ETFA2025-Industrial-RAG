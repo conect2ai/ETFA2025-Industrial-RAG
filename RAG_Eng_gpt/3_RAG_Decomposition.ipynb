{
 "cells": [
  {
   "cell_type": "code",
   "execution_count": 1,
   "metadata": {},
   "outputs": [
    {
     "data": {
      "text/plain": [
       "True"
      ]
     },
     "execution_count": 1,
     "metadata": {},
     "output_type": "execute_result"
    }
   ],
   "source": [
    "# %pip install \"unstructured[md]\" nltk langchain-text-splitters\n",
    "\n",
    "from dotenv import load_dotenv\n",
    "\n",
    "load_dotenv()"
   ]
  },
  {
   "cell_type": "markdown",
   "metadata": {},
   "source": [
    "## **Single Document**"
   ]
  },
  {
   "cell_type": "code",
   "execution_count": null,
   "metadata": {},
   "outputs": [],
   "source": [
    "from langchain_text_splitters import RecursiveCharacterTextSplitter\n",
    "from langchain_text_splitters import MarkdownHeaderTextSplitter\n",
    "from langchain.document_loaders import TextLoader\n",
    "\n",
    "# Load\n",
    "markdown_path = \"./Processed_Files_Introduction_to_End/CANopen_Integration_7012_V10_Mar11.md\"\n",
    "loader = TextLoader(markdown_path, autodetect_encoding=True)\n",
    "doc = loader.load()\n",
    "doc[0]"
   ]
  },
  {
   "cell_type": "code",
   "execution_count": null,
   "metadata": {},
   "outputs": [],
   "source": [
    "headers_to_split_on = [\n",
    "    (\"#\", \"Header 1\"),\n",
    "    (\"###\", \"Header 3\"),\n",
    "    (\"####\", \"Header 4\"),\n",
    "]\n",
    "\n",
    "# MD splits\n",
    "markdown_splitter = MarkdownHeaderTextSplitter(\n",
    "    headers_to_split_on=headers_to_split_on, strip_headers=False\n",
    ")\n",
    "md_header_splits = markdown_splitter.split_text(doc[0].page_content)\n",
    "md_header_splits"
   ]
  },
  {
   "cell_type": "code",
   "execution_count": null,
   "metadata": {},
   "outputs": [],
   "source": [
    "# Char-level splits\n",
    "chunk_size = 1000\n",
    "chunk_overlap = 200\n",
    "text_splitter = RecursiveCharacterTextSplitter(\n",
    "    chunk_size=chunk_size, chunk_overlap=chunk_overlap\n",
    ")\n",
    "\n",
    "# Split\n",
    "splits = text_splitter.split_documents(md_header_splits)\n",
    "splits"
   ]
  },
  {
   "cell_type": "markdown",
   "metadata": {},
   "source": [
    "## **All Documents**"
   ]
  },
  {
   "cell_type": "code",
   "execution_count": 2,
   "metadata": {},
   "outputs": [],
   "source": [
    "import glob\n",
    "import os\n",
    "from langchain_core.documents import Document"
   ]
  },
  {
   "cell_type": "code",
   "execution_count": 4,
   "metadata": {},
   "outputs": [],
   "source": [
    "# 1. Path/pattern for markdown files\n",
    "folder_path = \"./eng_files/*.md\"\n",
    "\n",
    "# 2. Parameters for the Header Splitter\n",
    "headers_to_split_on = [\n",
    "    (\"#\", \"Header 1\"),\n",
    "    (\"##\", \"Header 2\"),\n",
    "    (\"###\", \"Header 3\"),\n",
    "    (\"####\", \"Header 4\"),\n",
    "]\n",
    "markdown_splitter = MarkdownHeaderTextSplitter(\n",
    "    headers_to_split_on=headers_to_split_on, \n",
    "    strip_headers=False\n",
    ")\n",
    "\n",
    "# 3. Parameters for the character-level splitter\n",
    "chunk_size = 1000\n",
    "chunk_overlap = 200\n",
    "text_splitter = RecursiveCharacterTextSplitter(\n",
    "    chunk_size=chunk_size, \n",
    "    chunk_overlap=chunk_overlap\n",
    ")\n",
    "\n",
    "# Final list for all splits from all files\n",
    "all_splits = []\n",
    "\n",
    "for file_path in glob.glob(folder_path):\n",
    "    # a) Load the file as raw text (preserving Markdown)\n",
    "    loader = TextLoader(file_path, autodetect_encoding=True)\n",
    "    docs = loader.load()  # usually returns a list [Document]\n",
    "    \n",
    "    # b) For each Document, perform two splits\n",
    "    for doc in docs:\n",
    "        md_header_splits = markdown_splitter.split_text(doc.page_content)\n",
    "        splits = text_splitter.split_documents(md_header_splits)\n",
    "        \n",
    "        # c) Use the base file name as \"name_file\" (without the path and without extension)\n",
    "        filename = os.path.splitext(os.path.basename(file_path))[0]\n",
    "\n",
    "        for splitted_doc in splits:\n",
    "            splitted_doc.metadata[\"name_file\"] = filename\n",
    "            # Optionally, remove the original \"source\" if not needed:\n",
    "            # splitted_doc.metadata.pop(\"source\", None)\n",
    "\n",
    "        all_splits.extend(splits)"
   ]
  },
  {
   "cell_type": "code",
   "execution_count": null,
   "metadata": {},
   "outputs": [],
   "source": [
    "min_size = 1000  # Minimum size for the merged chunks\n",
    "merged_documents = []  # List to store merged documents\n",
    "buffer_content = \"\"\n",
    "buffer_metadata = {}\n",
    "\n",
    "for doc in all_splits:\n",
    "    text = doc.page_content.strip()  # remove extra spaces if necessary\n",
    "    # If there is no content accumulated in the buffer and the chunk is small,\n",
    "    # initialize the buffer with this chunk.\n",
    "    if not buffer_content and len(text) < min_size:\n",
    "        buffer_content = text\n",
    "        buffer_metadata = doc.metadata\n",
    "    # If there is already content in the buffer, concatenate it with the current chunk.\n",
    "    elif buffer_content:\n",
    "        buffer_content += \"\\n\" + text  # add a line break to separate the texts\n",
    "        # When the buffer reaches or exceeds the minimum size, create a Document\n",
    "        if len(buffer_content) >= min_size:\n",
    "            merged_documents.append(\n",
    "                Document(page_content=buffer_content, metadata=buffer_metadata)\n",
    "            )\n",
    "            buffer_content = \"\"\n",
    "            buffer_metadata = {}\n",
    "    # If the current chunk is already large enough and there is nothing in the buffer, add it directly.\n",
    "    elif len(text) >= min_size:\n",
    "        merged_documents.append(Document(page_content=text, metadata=doc.metadata))\n",
    "\n",
    "# If there is remaining content in the buffer, add it as well.\n",
    "if buffer_content:\n",
    "    merged_documents.append(Document(page_content=buffer_content, metadata=buffer_metadata))\n",
    "\n",
    "# Example of printing the results:\n",
    "for i, document in enumerate(merged_documents):\n",
    "    print(f\"Document {i+1}:\")\n",
    "    print(\"Metadata:\", document.metadata)\n",
    "    print(\"Content (first 200 characters):\", document.page_content[:200])\n",
    "    print(\"-\" * 50)"
   ]
  },
  {
   "cell_type": "code",
   "execution_count": null,
   "metadata": {},
   "outputs": [],
   "source": [
    "print(f\"Generated {len(all_splits)} chunks in total.\")"
   ]
  },
  {
   "cell_type": "code",
   "execution_count": null,
   "metadata": {},
   "outputs": [],
   "source": [
    "print(f\"Generated {len(merged_documents)} chunks in total.\")"
   ]
  },
  {
   "cell_type": "code",
   "execution_count": null,
   "metadata": {},
   "outputs": [],
   "source": [
    "merged_documents"
   ]
  },
  {
   "cell_type": "markdown",
   "metadata": {},
   "source": [
    "## **RAG**"
   ]
  },
  {
   "cell_type": "code",
   "execution_count": 9,
   "metadata": {},
   "outputs": [],
   "source": [
    "from langchain_ollama import OllamaEmbeddings\n",
    "from langchain.vectorstores import FAISS\n",
    "from langchain_ollama import ChatOllama\n",
    "from typing_extensions import TypedDict\n",
    "from typing import List\n",
    "from langchain.schema import Document\n",
    "from langchain.retrievers.multi_query import MultiQueryRetriever\n",
    "from langchain_core.output_parsers import BaseOutputParser\n",
    "from langchain_core.prompts import PromptTemplate\n",
    "from pydantic import BaseModel, Field\n",
    "from langgraph.graph import START, StateGraph\n",
    "from IPython.display import Image, display\n",
    "from langchain_core.output_parsers import StrOutputParser\n",
    "from pprint import pprint\n",
    "from langchain_core.prompts import ChatPromptTemplate\n",
    "from operator import itemgetter\n",
    "from langchain_core.runnables import RunnablePassthrough, RunnableLambda\n",
    "import textwrap\n",
    "from langchain.chat_models import ChatOpenAI\n",
    "from langchain.embeddings import OpenAIEmbeddings"
   ]
  },
  {
   "cell_type": "code",
   "execution_count": 11,
   "metadata": {},
   "outputs": [],
   "source": [
    "# Example embeddings (you can use OpenAIEmbeddings or another)\n",
    "# embeddings = OllamaEmbeddings(model=\"nomic-embed-text:latest\")\n",
    "embeddings = OpenAIEmbeddings(model=\"text-embedding-ada-002\")\n",
    "\n",
    "# Create an in-memory local vector store (FAISS)\n",
    "vector_store = FAISS.from_documents(merged_documents, embedding=embeddings)"
   ]
  },
  {
   "cell_type": "code",
   "execution_count": 12,
   "metadata": {},
   "outputs": [],
   "source": [
    "vector_store.save_local(\"faiss_index\")"
   ]
  },
  {
   "cell_type": "code",
   "execution_count": 13,
   "metadata": {},
   "outputs": [],
   "source": [
    "vector_store = FAISS.load_local(\"faiss_index\", embeddings, allow_dangerous_deserialization=True)"
   ]
  },
  {
   "cell_type": "code",
   "execution_count": 14,
   "metadata": {},
   "outputs": [
    {
     "name": "stderr",
     "output_type": "stream",
     "text": [
      "/tmp/ipykernel_1970/2879934330.py:4: LangChainDeprecationWarning: The class `ChatOpenAI` was deprecated in LangChain 0.0.10 and will be removed in 1.0. An updated version of the class exists in the :class:`~langchain-openai package and should be used instead. To use it run `pip install -U :class:`~langchain-openai` and import as `from :class:`~langchain_openai import ChatOpenAI``.\n",
      "  llm = ChatOpenAI(temperature=0, model=\"gpt-4o-mini\")\n"
     ]
    }
   ],
   "source": [
    "# Example of an LLM\n",
    "# llm = ChatOllama(temperature=0, model=\"gemma3:12b\")\n",
    "\n",
    "llm = ChatOpenAI(temperature=0, model=\"gpt-4o-mini\")"
   ]
  },
  {
   "cell_type": "code",
   "execution_count": 17,
   "metadata": {},
   "outputs": [],
   "source": [
    "template = \"\"\"You are a helpful assistant that generates multiple sub-questions related to an input question about PROFIBUS-related documents and specifications in the context of industrial automation. \\n\n",
    "\n",
    "IMPORTANT: FOCUS **ONLY ON PROFIBUS**.  \n",
    "DO NOT INCLUDE **ANYTHING** ABOUT PROFINET.  \n",
    "DO NOT INCLUDE **ANYTHING** ABOUT CANOPEN.  \n",
    "THIS IS **ONLY** ABOUT PROFIBUS.  \n",
    "REPEAT: **PROFIBUS ONLY**.  \n",
    "IGNORE ALL OTHER PROTOCOLS.\n",
    "\n",
    "The goal is to break down the input into a set of sub-problems / sub-questions that can be answered in isolation. \\n\n",
    "Generate multiple search queries related to: {question} \\n\n",
    "Output (5 queries):\n",
    "\"\"\"\n",
    "prompt_decomposition = ChatPromptTemplate.from_template(template)"
   ]
  },
  {
   "cell_type": "code",
   "execution_count": null,
   "metadata": {},
   "outputs": [],
   "source": [
    "# Chain\n",
    "generate_queries_decomposition = ( prompt_decomposition | llm | StrOutputParser() | (lambda x: x.split(\"\\n\")))\n",
    "\n",
    "# Run\n",
    "# 1. List the main causes of reflections in Profibus cables.\n",
    "# question = \"List the main causes of reflections in Profibus cables.\"\n",
    "\n",
    "# 2. What are the different interference coupling mechanisms in Profibus cables? What measures can be taken to reduce each type of interference?\n",
    "# question = \"What are the different interference coupling mechanisms in Profibus cables? What measures can be taken to reduce each type of interference?\"\n",
    "\n",
    "# 3. In which situations should spur lines not be used in Profibus DP network topology?\n",
    "# question = \"In which situations should spur lines not be used in Profibus DP network topology?\"\n",
    "\n",
    "# 4. Determine the minimum separation distance between a Profibus cable and the following cables:\n",
    "# a. AS-Interface type Profibus cable\n",
    "# b. 24V power cable for a digital output module\n",
    "# c. Single-phase 240V AC power cable for supplying a DC power supply\n",
    "# d. Grounding equipotential bonding cable between cabinets\n",
    "# e. Three-phase 380V power cable for a Profibus frequency inverter\n",
    "# question = \"Determine the minimum separation distance between a Profibus cable and the following cables: \\n\\\n",
    "# a. AS-Interface type Profibus cable \\n\\\n",
    "# b. 24V power cable for a digital output module \\n\\\n",
    "# c. Single-phase 240V AC power cable for supplying a DC power supply \\n\\\n",
    "# d. Grounding equipotential bonding cable between cabinets \\n\\\n",
    "# e. Three-phase 380V power cable for a Profibus frequency inverter\"\n",
    "\n",
    "# 5. Two control rooms located at opposite ends of an area must share the same Profibus network. Each room has its own grounding system, and there is a significant potential difference between them. List three methods to install the network in a way that avoids issues caused by separate ground potentials.\n",
    "# question = \"Two control rooms located at opposite ends of an area must share the same Profibus network. Each room has its own grounding system, and there is a significant potential difference between them. List three methods to install the network in a way that avoids issues caused by separate ground potentials.\"\n",
    "\n",
    "# 6. Discuss the factors that have a significant effect on the overall cycle time of a DP network.\n",
    "# question = \"Discuss the factors that have a significant effect on the overall cycle time of a DP network.\"\n",
    "\n",
    "# 7. A PA segment is used to wire 24 slave devices in a non-hazardous area. Determine the maximum spur length when:\n",
    "# a. Each spur carries only one slave,\n",
    "# b. Each spur carries four slaves.\n",
    "# What is the maximum length of the main trunk cable in each case?\n",
    "# question = \"PA segment is used to wire 24 slave devices in a non-hazardous area. Determine the maximum spur length when: \\n\\\n",
    "# a) Each spur carries only one slave, \\n\\\n",
    "# b) Each spur carries four slaves. \\n\\\n",
    "# What is the maximum length of the main trunk cable in each case?\"\n",
    "\n",
    "# 8. Does PA wiring have to use screened twisted pair cable?\n",
    "# question = \"Does PA wiring have to use screened twisted pair cable?\"\n",
    "\n",
    "# 9. A non-hazardous plant is currently fitted with 4 to 20 mA instrumentation, wired using a mixture of single and multi-core cable. What are the main considerations when considering moving over to a PROFIBUS PA system?\n",
    "# question = \"A non-hazardous plant is currently fitted with 4 to 20 mA instrumentation, wired using a mixture of single and multi-core cable. What are the main considerations when considering moving over to a PROFIBUS PA system?\"\n",
    "\n",
    "# 10. Determine the maximum trunk and spur cable lengths for a non-intrinsically safe MBP segment with 20 slaves each connected via the maximum possible spur length. Estimate the required coupler current rating if each slave device takes a maximum of 14 mA.\n",
    "question = \"Determine the maximum trunk and spur cable lengths for a non-intrinsically safe MBP segment with 20 slaves each connected via the maximum possible spur length. Estimate the required coupler current rating if each slave device takes a maximum of 14 mA.\"\n",
    "\n",
    "questions = generate_queries_decomposition.invoke({\"question\":question})"
   ]
  },
  {
   "cell_type": "code",
   "execution_count": 19,
   "metadata": {},
   "outputs": [
    {
     "data": {
      "text/plain": [
       "['1. What is the maximum trunk cable length for a non-intrinsically safe PROFIBUS MBP segment with 20 slaves connected?',\n",
       " '',\n",
       " '2. What is the maximum spur cable length allowed for each slave in a non-intrinsically safe PROFIBUS MBP segment?',\n",
       " '',\n",
       " '3. How do you calculate the total current consumption for 20 PROFIBUS slave devices, each drawing a maximum of 14 mA?',\n",
       " '',\n",
       " '4. What is the required current rating for a coupler in a PROFIBUS MBP segment with 20 slaves, considering the maximum current draw?',\n",
       " '',\n",
       " '5. Are there any specific guidelines or standards for cable lengths and current ratings in PROFIBUS installations?']"
      ]
     },
     "execution_count": 19,
     "metadata": {},
     "output_type": "execute_result"
    }
   ],
   "source": [
    "questions"
   ]
  },
  {
   "cell_type": "code",
   "execution_count": 20,
   "metadata": {},
   "outputs": [],
   "source": [
    "# Prompt\n",
    "template = \"\"\"Here is the question you need to answer in the context of industrial automation and PROFIBUS-related documents and specifications:\n",
    "\n",
    "\\n --- \\n {question} \\n --- \\n\n",
    "\n",
    "Here is any available background question + answer pairs:\n",
    "\n",
    "\\n --- \\n {q_a_pairs} \\n --- \\n\n",
    "\n",
    "Here is additional context relevant to the question: \n",
    "\n",
    "\\n --- \\n {context} \\n --- \\n\n",
    "\n",
    "IMPORTANT: FOCUS **ONLY ON PROFIBUS**.  \n",
    "DO NOT INCLUDE **ANYTHING** ABOUT PROFINET.  \n",
    "DO NOT INCLUDE **ANYTHING** ABOUT CANOPEN.  \n",
    "THIS IS **ONLY** ABOUT PROFIBUS.  \n",
    "REPEAT: **PROFIBUS ONLY**.  \n",
    "IGNORE ALL OTHER PROTOCOLS.\n",
    "\n",
    "Use the above context and any background question + answer pairs to answer the question: \\n {question}\n",
    "\"\"\"\n",
    "\n",
    "decomposition_prompt = ChatPromptTemplate.from_template(template)"
   ]
  },
  {
   "cell_type": "code",
   "execution_count": 21,
   "metadata": {},
   "outputs": [],
   "source": [
    "def format_qa_pair(question, answer):\n",
    "    \"\"\"Format Q and A pair\"\"\"\n",
    "    \n",
    "    formatted_string = \"\"\n",
    "    formatted_string += f\"Question: {question}\\nAnswer: {answer}\\n\\n\"\n",
    "    return formatted_string.strip()"
   ]
  },
  {
   "cell_type": "code",
   "execution_count": 22,
   "metadata": {},
   "outputs": [],
   "source": [
    "q_a_pairs = \"\"\n",
    "for q in questions:\n",
    "    \n",
    "    rag_chain = (\n",
    "    {\"context\": itemgetter(\"question\") | vector_store.as_retriever(), \n",
    "     \"question\": itemgetter(\"question\"),\n",
    "     \"q_a_pairs\": itemgetter(\"q_a_pairs\")} \n",
    "    | decomposition_prompt\n",
    "    | llm\n",
    "    | StrOutputParser())\n",
    "\n",
    "    answer = rag_chain.invoke({\"question\":q,\"q_a_pairs\":q_a_pairs})\n",
    "    q_a_pair = format_qa_pair(q,answer)\n",
    "    q_a_pairs = q_a_pairs + \"\\n---\\n\"+  q_a_pair"
   ]
  },
  {
   "cell_type": "code",
   "execution_count": 23,
   "metadata": {},
   "outputs": [],
   "source": [
    "def wrap_paragraphs(text, width=80) -> str:\n",
    "    \"\"\"\n",
    "    Wrap paragraphs of text to a given width.\n",
    "    \n",
    "    Args:\n",
    "        text: The text to wrap.\n",
    "        width: The width to wrap the text to.\n",
    "\n",
    "    Returns:    \n",
    "        The wrapped text.\n",
    "    \"\"\"\n",
    "    paragraphs = text.split('\\n\\n')  # split on double newlines\n",
    "    wrapped_paragraphs = []\n",
    "    for paragraph in paragraphs:\n",
    "        wrapped_paragraphs.append(textwrap.fill(paragraph, width=width))\n",
    "    return \"\\n\\n\".join(wrapped_paragraphs)"
   ]
  },
  {
   "cell_type": "code",
   "execution_count": 24,
   "metadata": {},
   "outputs": [
    {
     "name": "stdout",
     "output_type": "stream",
     "text": [
      "Yes, there are specific guidelines and standards for cable lengths and current\n",
      "ratings in PROFIBUS installations.\n",
      "\n",
      "1. **Cable Lengths**:    - For a non-intrinsically safe PROFIBUS MBP segment\n",
      "with up to 20 slaves, the maximum trunk cable length is 1,900 meters. Individual\n",
      "spur lengths are limited to 120 meters when connecting up to 12 devices. If the\n",
      "number of devices on a spur increases, the maximum spur length decreases: 90\n",
      "meters for 13-14 devices and 60 meters for 15-18 devices.    - It is also\n",
      "recommended to observe a minimum cable length of 1 meter between two PROFIBUS DP\n",
      "nodes to mitigate potential reflections that may disrupt data transmission.\n",
      "\n",
      "2. **Current Ratings**:    - Each PROFIBUS slave device typically draws a\n",
      "maximum of 14 mA. For a segment with 20 slaves, the total current consumption\n",
      "would be 280 mA. It is advisable to include a 20% reserve for the power supply,\n",
      "leading to a required current rating of at least 336 mA for the coupler in such\n",
      "a segment.\n",
      "\n",
      "3. **General Recommendations**:    - Ensure that the cabling structure adheres\n",
      "to the planning specifications, including maximum segment lengths and the number\n",
      "of devices.    - Use terminators at both ends of the PROFIBUS segment and ensure\n",
      "that the current consumption of connected nodes does not exceed the maximum\n",
      "permissible supply current.\n",
      "\n",
      "These guidelines help ensure reliable operation and compliance with PROFIBUS\n",
      "standards during installation and operation.\n"
     ]
    }
   ],
   "source": [
    "wrapped_answer = wrap_paragraphs(answer, width=80)\n",
    "print(wrapped_answer)"
   ]
  },
  {
   "cell_type": "code",
   "execution_count": 25,
   "metadata": {},
   "outputs": [],
   "source": [
    "prompt_rag  = \"\"\"\"You are an AI language model assistant that understands PROFIBUS-related documents and specifications in the context of industrial automation.\n",
    "\n",
    "IMPORTANT: FOCUS **ONLY ON PROFIBUS**.  \n",
    "DO NOT INCLUDE **ANYTHING** ABOUT PROFINET.  \n",
    "DO NOT INCLUDE **ANYTHING** ABOUT CANOPEN.  \n",
    "THIS IS **ONLY** ABOUT PROFIBUS.  \n",
    "REPEAT: **PROFIBUS ONLY**.  \n",
    "IGNORE ALL OTHER PROTOCOLS.\n",
    "\n",
    "### Instructions:\n",
    "- Answer in a clear, informative, and technically accurate manner.\n",
    "- Provide a **complete and relevant explanation**, but avoid excessive detail.\n",
    "- Start with a **direct answer**, then expand with useful clarification, examples, or context if appropriate.\n",
    "- Avoid unnecessary filler or repetition.\n",
    "- Answer **in the same language as the question**.\n",
    "- You can say \"I don't know\" if you don't know the answer.\n",
    "\n",
    "### Now answer the following:\n",
    "\n",
    "Question: {question}\n",
    "\n",
    "Context: {context}\n",
    "\n",
    "Answer (in the language of the question):  \n",
    "\"\"\"\n",
    "\n",
    "prompt_rag = ChatPromptTemplate.from_template(prompt_rag)"
   ]
  },
  {
   "cell_type": "code",
   "execution_count": 26,
   "metadata": {},
   "outputs": [],
   "source": [
    "def retrieve_and_rag(question,prompt_rag,sub_question_generator_chain):\n",
    "    \"\"\"RAG on each sub-question\"\"\"\n",
    "    \n",
    "    # Use our decomposition / \n",
    "    sub_questions = sub_question_generator_chain.invoke({\"question\":question})\n",
    "    \n",
    "    # Initialize a list to hold RAG chain results\n",
    "    rag_results = []\n",
    "    \n",
    "    for sub_question in sub_questions:\n",
    "        \n",
    "        # Retrieve documents for each sub-question\n",
    "        retrieved_docs = vector_store.as_retriever().invoke(sub_question)\n",
    "        \n",
    "        # Use retrieved documents and sub-question in RAG chain\n",
    "        answer = (prompt_rag | llm | StrOutputParser()).invoke({\"context\": retrieved_docs, \n",
    "                                                                \"question\": sub_question})\n",
    "        rag_results.append(answer)\n",
    "    \n",
    "    return rag_results,sub_questions\n",
    "\n",
    "# Wrap the retrieval and RAG process in a RunnableLambda for integration into a chain\n",
    "answers, questions = retrieve_and_rag(question, prompt_rag, generate_queries_decomposition)"
   ]
  },
  {
   "cell_type": "code",
   "execution_count": 27,
   "metadata": {},
   "outputs": [
    {
     "data": {
      "text/plain": [
       "(['The maximum trunk cable length for a non-intrinsically safe MBP segment in a PROFIBUS network is 1,900 meters. This length includes the total of the trunk length plus any spur lengths, with individual spur lengths limited to a maximum of 120 meters depending on the number of connected nodes. \\n\\nIn summary, when designing a PROFIBUS-MBP (PA) network, it is essential to consider both the trunk and spur lengths to ensure compliance with the specifications and optimal performance of the network.',\n",
       "  'The provided context includes logs and recommendations related to the assembly acceptance measurement inspection of PROFIBUS cabling, specifically using RS485 technology. \\n\\n### Key Points:\\n1. **Assembly Acceptance Measurement**: This process involves verifying the installation and functionality of PROFIBUS cabling to ensure it meets specified standards and operates correctly within the network.\\n\\n2. **Transmission Speed**: The logs mention transmission speed, which is a critical parameter in PROFIBUS networks, affecting data transfer rates and overall system performance.\\n\\n3. **Comments Section**: The logs include a section for comments, which may be used to note any observations or issues encountered during the inspection.\\n\\n4. **Design Recommendations**: Although the context briefly touches on design recommendations for PROFIBUS networks, it emphasizes the importance of proper installation practices to minimize disturbances and ensure reliable communication.\\n\\n5. **Disclaimer of Liability**: The documents contain a disclaimer indicating that the information provided is not normative and that users should assess the applicability of the recommendations based on their specific situations.\\n\\nIn summary, the documents focus on the inspection and acceptance of PROFIBUS cabling installations, highlighting the importance of proper measurement and adherence to recommended practices for optimal network performance.',\n",
       "  \"The maximum spur cable length allowed for each slave device in a PROFIBUS network varies depending on the number of devices connected. According to the specifications:\\n\\n- For 1 to 12 devices on a spur, the maximum length is **120 meters**.\\n- For 13 to 14 devices, the maximum length is **90 meters**.\\n- For 15 to 18 devices, the maximum length is **60 meters**.\\n\\nThese lengths are critical to ensure reliable communication and power supply to the devices connected in a PROFIBUS-MBP (PA) network. It's important to adhere to these limits to avoid communication failures and ensure the integrity of the network.\",\n",
       "  'The provided context includes logs and recommendations related to the assembly acceptance measurement inspection of PROFIBUS cabling, specifically using RS485 technology. \\n\\n### Key Points:\\n1. **Assembly Acceptance Measurement**: The logs indicate that assembly acceptance measurements were performed, which is crucial for ensuring that the PROFIBUS cabling is correctly installed and functioning as intended. This process typically involves checking the physical layer of the network, including cable integrity and connection quality.\\n\\n2. **Transmission Speed**: Although specific transmission speeds are not detailed in the logs, PROFIBUS supports various transmission rates, typically ranging from 9.6 kbit/s to 12 Mbit/s, depending on the network configuration and requirements.\\n\\n3. **Design Recommendations**: The documents also reference recommendations for designing PROFIBUS networks, emphasizing the importance of minimizing disturbances, which can affect communication reliability. Proper earthing and shielding practices are essential to maintain signal integrity.\\n\\n4. **Disclaimer of Liability**: The documents include a disclaimer stating that the information provided is not normative and should be evaluated based on specific applications. This highlights the need for careful consideration when implementing recommendations in different environments.\\n\\nIn summary, the logs and recommendations focus on ensuring the proper installation and functioning of PROFIBUS cabling, emphasizing the importance of assembly acceptance measurements and adherence to design best practices.',\n",
       "  'The number of slaves connected to a PROFIBUS segment directly affects the maximum allowable spur cable length. Specifically, as the number of devices on a spur increases, the maximum length of that spur decreases.\\n\\nFor example, according to the specifications for PROFIBUS-MBP (PA), if you have 1 to 12 devices connected to a spur, the maximum length of that spur can be up to 120 meters. However, if you connect 13 to 14 devices, the maximum spur length is reduced to 90 meters. For 15 to 18 devices, the maximum length further decreases to 60 meters. This reduction is necessary to ensure reliable communication and power supply across the network, as longer spurs with more devices can lead to increased signal degradation and potential communication failures.\\n\\nIn summary, the more slaves you connect to a spur in a PROFIBUS network, the shorter the spur must be to maintain proper functionality and performance.',\n",
       "  'The provided context includes logs and recommendations related to the assembly acceptance measurement inspection of PROFIBUS cabling, specifically using RS485 technology. \\n\\n### Key Points:\\n1. **Assembly Acceptance Measurement**: This process involves verifying the installation and functionality of PROFIBUS cabling to ensure it meets specified standards and operates correctly within the network.\\n\\n2. **Transmission Speed**: The logs mention transmission speed, which is a critical parameter in PROFIBUS networks, affecting data transfer rates and overall system performance.\\n\\n3. **Comments Section**: The logs include a section for comments, which can be used to note any observations or issues encountered during the inspection.\\n\\n4. **Design Recommendations**: Although the context briefly touches on design recommendations for PROFIBUS networks, it emphasizes the importance of proper installation practices to minimize disturbances and ensure reliable communication.\\n\\n5. **Disclaimer of Liability**: The documents contain a disclaimer indicating that the information provided is not normative and that users should assess the applicability of the recommendations based on their specific situations.\\n\\nIn summary, the documents focus on the inspection and acceptance of PROFIBUS cabling installations, highlighting the importance of proper measurement and adherence to recommended practices for optimal network performance.',\n",
       "  \"The total current consumption for a PROFIBUS segment with 20 slave devices, each drawing 14 mA, can be calculated by multiplying the number of devices by the current drawn by each device.\\n\\nTotal current consumption \\\\( I_{segment} \\\\) is given by:\\n\\n\\\\[\\nI_{segment} = \\\\text{Number of devices} \\\\times \\\\text{Current per device}\\n\\\\]\\n\\nSubstituting the values:\\n\\n\\\\[\\nI_{segment} = 20 \\\\times 14 \\\\, \\\\text{mA} = 280 \\\\, \\\\text{mA}\\n\\\\]\\n\\nTherefore, the total current consumption for the PROFIBUS segment is **280 mA**. \\n\\nThis calculation is important for ensuring that the power supply can handle the total current required by all connected devices, as exceeding the power supply's capacity can lead to malfunction or failure of the segment.\",\n",
       "  'The provided context includes logs and recommendations related to the assembly acceptance measurement inspection of PROFIBUS cabling, specifically using RS485 technology. \\n\\n### Key Points:\\n1. **Assembly Acceptance Measurement**: This refers to the process of verifying that the PROFIBUS cabling installation meets the required specifications and standards. It typically involves checking the physical connections, transmission speeds, and overall integrity of the network.\\n\\n2. **Transmission Speed**: The logs mention transmission speed, which is a critical parameter in PROFIBUS networks. The standard transmission speeds for PROFIBUS DP (Decentralized Periphery) can range from 9.6 kbps to 12 Mbps, depending on the network configuration and cable length.\\n\\n3. **Comments Section**: The logs include a comments section, which is often used to note any observations or issues encountered during the inspection. This can be crucial for troubleshooting and ensuring compliance with installation standards.\\n\\n4. **Design Recommendations**: Although the context briefly mentions recommendations for network design, it is essential to focus on ensuring proper earthing and shielding to minimize disturbances in the PROFIBUS network. Proper design can significantly enhance the reliability and performance of the system.\\n\\n5. **Disclaimer of Liability**: The document includes a disclaimer indicating that the information provided is not normative and should be evaluated based on specific applications. This highlights the importance of considering the unique conditions of each installation when applying the recommendations.\\n\\nIn summary, the logs and recommendations emphasize the importance of thorough inspection and adherence to standards in PROFIBUS cabling installations to ensure optimal performance and reliability in industrial automation environments.',\n",
       "  \"To calculate the required coupler current rating for a PROFIBUS network with multiple slave devices, follow these steps:\\n\\n1. **Determine the Current Consumption of Each Device**: Identify the current consumption of each slave device connected to the PROFIBUS network. This is typically specified in the device's technical documentation.\\n\\n2. **Calculate Total Current Consumption**: Sum the current consumption of all slave devices to find the total current required for the segment. For example, if you have 6 devices each consuming 20 mA, the total current would be:\\n   \\\\[\\n   I_{\\\\text{segment}} = 6 \\\\times 20 \\\\, \\\\text{mA} = 120 \\\\, \\\\text{mA}\\n   \\\\]\\n\\n3. **Check Against Supply Current**: Ensure that the total current consumption does not exceed the maximum supply current of the bus coupler. For instance, if the coupler can supply 240 mA, then:\\n   \\\\[\\n   I_{\\\\text{segment}} = 120 \\\\, \\\\text{mA} < I_{\\\\text{supply}} = 240 \\\\, \\\\text{mA}\\n   \\\\]\\n\\n4. **Include a Safety Margin**: It is recommended to include a safety margin of about 20% to account for variations in current consumption and ensure reliable operation. Therefore, calculate the required coupler current rating as follows:\\n   \\\\[\\n   I_{\\\\text{required}} = I_{\\\\text{segment}} \\\\times 1.2\\n   \\\\]\\n   In this example:\\n   \\\\[\\n   I_{\\\\text{required}} = 120 \\\\, \\\\text{mA} \\\\times 1.2 = 144 \\\\, \\\\text{mA}\\n   \\\\]\\n\\n5. **Select a Coupler**: Choose a coupler that can handle the calculated required current rating, ensuring it meets or exceeds this value.\\n\\nBy following these steps, you can ensure that the coupler current rating is adequate for the PROFIBUS network's needs, allowing for reliable communication and operation of all connected devices.\"],\n",
       " ['1. What is the maximum trunk cable length for a non-intrinsically safe MBP segment in a PROFIBUS network?',\n",
       "  '',\n",
       "  '2. What is the maximum spur cable length allowed for each slave device in a PROFIBUS network?',\n",
       "  '',\n",
       "  '3. How does the number of slaves connected to a PROFIBUS segment affect the maximum allowable spur cable length?',\n",
       "  '',\n",
       "  '4. What is the total current consumption for a PROFIBUS segment with 20 slave devices, each drawing 14 mA?',\n",
       "  '',\n",
       "  '5. How do you calculate the required coupler current rating for a PROFIBUS network with multiple slave devices?'])"
      ]
     },
     "execution_count": 27,
     "metadata": {},
     "output_type": "execute_result"
    }
   ],
   "source": [
    "answers, questions"
   ]
  },
  {
   "cell_type": "code",
   "execution_count": 28,
   "metadata": {},
   "outputs": [],
   "source": [
    "def format_qa_pairs(questions, answers):\n",
    "    \"\"\"Format Q and A pairs\"\"\"\n",
    "    \n",
    "    formatted_string = \"\"\n",
    "    for i, (question, answer) in enumerate(zip(questions, answers), start=1):\n",
    "        formatted_string += f\"Question {i}: {question}\\nAnswer {i}: {answer}\\n\\n\"\n",
    "    return formatted_string.strip()\n",
    "\n",
    "context = format_qa_pairs(questions, answers)\n",
    "\n",
    "# Prompt\n",
    "template = \"\"\"Here is a set of Q+A pairs:\n",
    "\n",
    "DO NOT — I REPEAT, DO NOT — START YOUR ANSWER WITH ANY OF THE FOLLOWING:\n",
    "- \"Here's a synthesized answer...\"\n",
    "- \"Based on the provided Q&A pairs...\"\n",
    "- \"Here's what I found...\"\n",
    "- \"According to the context...\"\n",
    "- \"Okay, here's a synthesized answer...\"\n",
    "OR ANY OTHER SIMILAR PHRASES. \n",
    "\n",
    "{context}\n",
    "\n",
    "Use these to synthesize an answer (IN THE SAME LANGUAGE AS THE QUESTION) to the question: {question}\n",
    "\n",
    "START THE ANSWER WITH A DIRECT RESPONSE TO THE QUESTION, THEN EXPAND WITH USEFUL CLARIFICATION, EXAMPLES, OR CONTEXT IF APPROPRIATE.\n",
    "\"\"\"\n",
    "\n",
    "prompt = ChatPromptTemplate.from_template(template)\n",
    "\n",
    "final_rag_chain = (\n",
    "    prompt\n",
    "    | llm\n",
    "    | StrOutputParser()\n",
    ")\n",
    "\n",
    "final_answer = final_rag_chain.invoke({\"context\":context,\"question\":question})"
   ]
  },
  {
   "cell_type": "markdown",
   "metadata": {},
   "source": [
    "## **Queries**"
   ]
  },
  {
   "cell_type": "markdown",
   "metadata": {},
   "source": [
    "### 1 - List the main causes of reflections in Profibus cables."
   ]
  },
  {
   "cell_type": "code",
   "execution_count": 18,
   "metadata": {},
   "outputs": [
    {
     "name": "stdout",
     "output_type": "stream",
     "text": [
      "The main causes of reflections in PROFIBUS cables include impedance mismatches,\n",
      "cable length, defective connections, stubs, non-connected plugs, cable damage,\n",
      "improper cable termination practices, and environmental conditions.\n",
      "\n",
      "Impedance mismatches occur when the cable's impedance does not align with that\n",
      "of the connected devices or connectors, leading to signal reflections. For\n",
      "example, if a cable with a characteristic impedance of 150 ohms is connected to\n",
      "a device with a different impedance, part of the signal will be reflected back.\n",
      "\n",
      "Cable length is another critical factor; longer cables can distort signals and\n",
      "cause reflections, especially if they exceed the maximum permissible length.\n",
      "This distortion can result in the signal not reaching the required voltage\n",
      "levels in time, leading to communication errors.\n",
      "\n",
      "Defective connections, such as loose or damaged connectors, create\n",
      "discontinuities that can reflect signals. Similarly, stubs—short branches off\n",
      "the main cable—can act as antennas, reflecting signals back into the main line\n",
      "if not terminated properly.\n",
      "\n",
      "Non-connected plugs can also generate reflections, as open connectors can\n",
      "interfere with the signal. Additionally, physical damage to the cable, such as\n",
      "cuts or kinks, can alter its electrical properties and lead to reflections.\n",
      "\n",
      "Improper cable termination practices, such as having too many or missing\n",
      "terminators, can exacerbate reflection issues. For instance, too many\n",
      "terminators can cause a significant portion of the signal to be reflected back,\n",
      "while a missing terminator can allow the full amplitude of the reflected signal\n",
      "to interfere with incoming data.\n",
      "\n",
      "Lastly, environmental conditions like temperature fluctuations, humidity, and\n",
      "electromagnetic interference can impact the electrical properties of the cable,\n",
      "leading to increased reflections. Ensuring proper installation and maintenance,\n",
      "along with using high-quality components, is essential to minimize these issues\n",
      "and maintain signal integrity in PROFIBUS networks.\n"
     ]
    }
   ],
   "source": [
    "wrapped_answer = wrap_paragraphs(final_answer, width=80)\n",
    "print(wrapped_answer)"
   ]
  },
  {
   "cell_type": "markdown",
   "metadata": {},
   "source": [
    "### 2 - What are the different interference coupling mechanisms in Profibus cables? What measures can be taken to reduce each type of interference?"
   ]
  },
  {
   "cell_type": "code",
   "execution_count": 30,
   "metadata": {},
   "outputs": [
    {
     "name": "stdout",
     "output_type": "stream",
     "text": [
      "The different interference coupling mechanisms in PROFIBUS cables include line-\n",
      "conducted disturbances, nearby disturbances, radiated coupling, and\n",
      "electrostatic coupling. To reduce each type of interference, specific measures\n",
      "can be implemented:\n",
      "\n",
      "1. **Line-conducted disturbances**: These occur through direct conductive\n",
      "connections between devices. To mitigate this, ensure proper grounding and use\n",
      "shielded cables to prevent noise from traveling along the power or signal lines.\n",
      "\n",
      "2. **Nearby disturbances**: Caused by magnetic or electric fields from adjacent\n",
      "equipment, these can be minimized by careful cable routing. Avoid running\n",
      "PROFIBUS cables parallel to power lines or other sources of electromagnetic\n",
      "fields, and maintain a safe distance whenever possible.\n",
      "\n",
      "3. **Radiated coupling**: This type of interference arises from electromagnetic\n",
      "waves coupling into the cables. Using twisted pair cables with adequate\n",
      "shielding can help reduce susceptibility to radiated interference. Additionally,\n",
      "ensuring that connected devices are also shielded can further protect against\n",
      "this type of interference.\n",
      "\n",
      "4. **Electrostatic coupling**: This occurs due to electrostatic charges that can\n",
      "disrupt data communication. To mitigate this, proper grounding of all devices\n",
      "and cables is essential. Using cables with good insulation and shielding can\n",
      "also help prevent electrostatic discharge from affecting the signal.\n",
      "\n",
      "By implementing these measures, the reliability and performance of PROFIBUS\n",
      "networks can be significantly enhanced, ensuring robust communication in\n",
      "industrial environments.\n"
     ]
    }
   ],
   "source": [
    "wrapped_answer = wrap_paragraphs(final_answer, width=80)\n",
    "print(wrapped_answer)"
   ]
  },
  {
   "cell_type": "markdown",
   "metadata": {},
   "source": [
    "### 3 - In which situations should spur lines not be used in Profibus DP network topology?"
   ]
  },
  {
   "cell_type": "code",
   "execution_count": 42,
   "metadata": {},
   "outputs": [
    {
     "name": "stdout",
     "output_type": "stream",
     "text": [
      "Spur lines should not be used in PROFIBUS DP network topology in situations\n",
      "where high transmission speeds are required, where the length limitations of\n",
      "spur lines may be exceeded, or when the network configuration does not allow for\n",
      "proper signal integrity.\n",
      "\n",
      "Specifically, spur lines should be avoided at transmission speeds above 1.5\n",
      "MBit/s, as they can introduce significant signal reflections and distortions,\n",
      "leading to communication errors. Additionally, if the length of the spur exceeds\n",
      "the maximum allowable length of 120 meters, or if the total length of the trunk\n",
      "plus spur surpasses 1,900 meters, the risk of signal degradation increases,\n",
      "which can result in unreliable communication.\n",
      "\n",
      "Moreover, in scenarios where the network design does not adhere to a linear\n",
      "topology, such as when multiple devices are connected to a single spur, the\n",
      "potential for interference and communication issues rises. For example, if a\n",
      "spur line is used to connect multiple devices, it can lead to conflicts and\n",
      "degrade the overall performance of the network.\n",
      "\n",
      "In summary, spur lines should be avoided in PROFIBUS DP networks when high\n",
      "speeds are necessary, when length limitations are at risk of being exceeded, or\n",
      "when the network configuration does not support optimal signal integrity.\n",
      "Adhering to a linear topology and following installation guidelines will help\n",
      "maintain a reliable and efficient network.\n"
     ]
    }
   ],
   "source": [
    "wrapped_answer = wrap_paragraphs(final_answer, width=80)\n",
    "print(wrapped_answer)"
   ]
  },
  {
   "cell_type": "markdown",
   "metadata": {},
   "source": [
    "### 4 - Determine the minimum separation distance between a Profibus cable and the following cables:\n",
    "a. AS-Interface type Profibus cable\n",
    "\n",
    "b. 24V power cable for a digital output module\n",
    "\n",
    "c. Single-phase 240V AC power cable for supplying a DC power supply\n",
    "\n",
    "d. Grounding equipotential bonding cable between cabinets\n",
    "\n",
    "e. Three-phase 380V power cable for a Profibus frequency inverter"
   ]
  },
  {
   "cell_type": "code",
   "execution_count": 66,
   "metadata": {},
   "outputs": [
    {
     "name": "stdout",
     "output_type": "stream",
     "text": [
      "The minimum separation distances between a PROFIBUS cable and the specified\n",
      "cables are as follows:\n",
      "\n",
      "a. **AS-Interface type PROFIBUS cable**: While the exact minimum separation\n",
      "distance is not explicitly stated, it is generally recommended to follow the\n",
      "guidelines outlined in standards such as IEC 61784-5-3 or EN 50174-2, which\n",
      "emphasize the importance of minimizing electromagnetic interference.\n",
      "\n",
      "b. **24V power cable for a digital output module**: A minimum distance of at\n",
      "least **30 cm (approximately 12 inches)** should be maintained to ensure signal\n",
      "integrity and reduce electromagnetic interference.\n",
      "\n",
      "c. **Single-phase 240V AC power cable supplying a DC power supply**: The\n",
      "required minimum separation distance varies based on the number of circuits:\n",
      "- For 1 to 3 circuits: **0.2 meters (200 mm)**    - For 4 to 6 circuits: **0.4\n",
      "meters (400 mm)**    - For 7 to 9 circuits: **0.6 meters (600 mm)**    - For 10\n",
      "to 12 circuits: **0.8 meters (800 mm)**    - For 13 to 15 circuits: **1.0 meters\n",
      "(1000 mm)**    - For 16 to 30 circuits: **2.0 meters (2000 mm)**    - For 31 to\n",
      "45 circuits: **3.0 meters (3000 mm)**    - For 46 to 60 circuits: **4.0 meters\n",
      "(4000 mm)**    - For 61 to 75 circuits: **6.0 meters (6000 mm)**    - For more\n",
      "than 75 circuits: **6.0 meters (6000 mm)**.\n",
      "\n",
      "d. **Grounding equipotential bonding cable between cabinets**: Specific\n",
      "separation distances are not detailed, but it is advisable to maintain a\n",
      "sufficient distance as per IEC 61784-5-3 and EN 50174-2 standards. If separation\n",
      "is not possible, using metallic conduits can help reduce interference.\n",
      "\n",
      "e. **Three-phase 380V power cable for a PROFIBUS frequency inverter**: The\n",
      "recommended minimum separation distance is **0.5 meters (500 mm)** to minimize\n",
      "electromagnetic interference and ensure reliable communication.\n",
      "\n",
      "Maintaining these separation distances is crucial for the performance and\n",
      "reliability of the PROFIBUS network, as it helps to prevent data corruption and\n",
      "communication issues caused by electromagnetic fields from nearby power cables.\n",
      "Always refer to the specific installation guidelines and standards applicable to\n",
      "your setup for the most accurate recommendations.\n"
     ]
    }
   ],
   "source": [
    "wrapped_answer = wrap_paragraphs(final_answer, width=80)\n",
    "print(wrapped_answer)"
   ]
  },
  {
   "cell_type": "markdown",
   "metadata": {},
   "source": [
    "### 5 - Two control rooms located at opposite ends of an area must share the same Profibus network. Each room has its own grounding system, and there is a significant potential difference between them. List three methods to install the network in a way that avoids issues caused by separate ground potentials."
   ]
  },
  {
   "cell_type": "code",
   "execution_count": 78,
   "metadata": {},
   "outputs": [
    {
     "name": "stdout",
     "output_type": "stream",
     "text": [
      "To install a PROFIBUS network that shares two control rooms with separate\n",
      "grounding systems and significant potential differences, three effective methods\n",
      "are:\n",
      "\n",
      "1. **Optical Isolation**: Utilize fiber optic cables for the PROFIBUS\n",
      "connections. Fiber optics are immune to electromagnetic interference and do not\n",
      "conduct electricity, effectively isolating the two control rooms from each\n",
      "other. This method eliminates the risk of ground loops and potential differences\n",
      "affecting the network.\n",
      "\n",
      "2. **Isolation Transformers**: Incorporate isolation transformers in the power\n",
      "supply lines for the PROFIBUS devices. These transformers decouple the power\n",
      "supply between the two control rooms, preventing any voltage differences from\n",
      "impacting the communication signals. This approach helps maintain signal\n",
      "integrity and protects devices from voltage spikes.\n",
      "\n",
      "3. **Use of Repeaters or Isolators**: Implement PROFIBUS repeaters or isolators\n",
      "to provide electrical isolation between the segments of the network. These\n",
      "devices can help manage the differences in ground potential by isolating the\n",
      "communication lines, ensuring that any potential differences do not interfere\n",
      "with the data transmission.\n",
      "\n",
      "By employing these methods, the integrity and reliability of the PROFIBUS\n",
      "network can be maintained, even in the presence of significant potential\n",
      "differences between the two control rooms.\n"
     ]
    }
   ],
   "source": [
    "wrapped_answer = wrap_paragraphs(final_answer, width=80)\n",
    "print(wrapped_answer)"
   ]
  },
  {
   "cell_type": "markdown",
   "metadata": {},
   "source": [
    "### 6 - Discuss the factors that have a significant effect on the overall cycle time of a DP network."
   ]
  },
  {
   "cell_type": "code",
   "execution_count": 150,
   "metadata": {},
   "outputs": [
    {
     "name": "stdout",
     "output_type": "stream",
     "text": [
      "The overall cycle time of a PROFIBUS DP network is significantly affected by\n",
      "several key factors, including the number of slaves, transmission rates, data\n",
      "volume, network topology, and device configuration.\n",
      "\n",
      "1. **Number of Slaves**: As the number of slave devices connected to the network\n",
      "increases, the cycle time also increases. Each slave requires time to\n",
      "communicate its data, so more slaves mean more time is needed for data exchange.\n",
      "For instance, if a network has ten slaves, each transmitting data, the\n",
      "cumulative time for all communications will extend the cycle time compared to a\n",
      "network with fewer slaves.\n",
      "\n",
      "2. **Transmission Rates**: The speed at which data is transmitted over the\n",
      "PROFIBUS DP network can vary from 9.6 kbit/s to 12 Mbit/s. Higher transmission\n",
      "rates allow for quicker data exchange, thereby reducing the cycle time. For\n",
      "example, transmitting data at 12 Mbit/s will complete the same data transfer\n",
      "much faster than at 9.6 kbit/s, assuming the network can support the higher rate\n",
      "without errors.\n",
      "\n",
      "3. **Data Volume**: The amount of data each slave transmits also plays a crucial\n",
      "role. Each slave typically sends between 2 to 20 bytes, but remote I/Os can send\n",
      "up to 244 bytes. A larger data volume requires more time for transmission, which\n",
      "can lead to longer cycle times. For example, if each slave sends 10 bytes and\n",
      "there are 20 slaves, the total data volume will significantly impact the cycle\n",
      "time.\n",
      "\n",
      "4. **Network Topology**: The physical layout of the network, such as whether it\n",
      "uses a linear topology or includes branches and stubs, can influence cycle time.\n",
      "A linear topology minimizes signal reflections and potential interference,\n",
      "leading to more efficient communication and shorter cycle times. In contrast, a\n",
      "poorly designed topology with stubs may introduce delays due to signal\n",
      "degradation.\n",
      "\n",
      "5. **Device Configuration**: The specific configuration of each PROFIBUS DP\n",
      "device, including its data requirements and the chosen transmission rate, also\n",
      "affects the overall cycle time. Devices that require more data to be transmitted\n",
      "will take longer to communicate, thus increasing the cycle time. Additionally,\n",
      "improper configuration can lead to communication errors, necessitating\n",
      "retransmissions that further extend the cycle time.\n",
      "\n",
      "In summary, optimizing the overall cycle time of a PROFIBUS DP network requires\n",
      "careful consideration of these factors. Balancing the number of devices,\n",
      "selecting appropriate transmission rates, managing data volumes, designing an\n",
      "effective network topology, and configuring devices correctly are all essential\n",
      "for achieving efficient communication in industrial automation applications.\n"
     ]
    }
   ],
   "source": [
    "wrapped_answer = wrap_paragraphs(final_answer, width=80)\n",
    "print(wrapped_answer)"
   ]
  },
  {
   "cell_type": "markdown",
   "metadata": {},
   "source": [
    "### 7 - A PA segment is used to wire 24 slave devices in a non-hazardous area. Determine the maximum spur length when:\n",
    "a. Each spur carries only one slave,\n",
    "\n",
    "b. Each spur carries four slaves.\n",
    "\n",
    "What is the maximum length of the main trunk cable in each case?"
   ]
  },
  {
   "cell_type": "code",
   "execution_count": 174,
   "metadata": {},
   "outputs": [
    {
     "name": "stdout",
     "output_type": "stream",
     "text": [
      "a) When each spur carries only one slave device, the maximum spur length is 120\n",
      "meters. In this case, since there are 24 slave devices, the maximum length of\n",
      "the main trunk cable can be up to 1,900 meters, allowing for the spur lengths to\n",
      "remain within the specified limits.\n",
      "\n",
      "b) When each spur carries four slave devices, the maximum spur length is still\n",
      "120 meters, as this falls within the range of 1 to 12 devices. However, the\n",
      "total number of slaves connected (24) means that you would need to use multiple\n",
      "spurs. The maximum length of the main trunk cable in this scenario would be\n",
      "1,000 meters, as the total length of the trunk and spur cables combined must not\n",
      "exceed this limit.\n",
      "\n",
      "In summary, for a PROFIBUS PA segment with 24 slave devices, the maximum spur\n",
      "length remains 120 meters in both cases, while the maximum length of the main\n",
      "trunk cable is 1,900 meters when each spur carries one slave and 1,000 meters\n",
      "when each spur carries four slaves.\n"
     ]
    }
   ],
   "source": [
    "wrapped_answer = wrap_paragraphs(final_answer, width=80)\n",
    "print(wrapped_answer)"
   ]
  },
  {
   "cell_type": "markdown",
   "metadata": {},
   "source": [
    "### 8 - Does PA wiring have to use screened twisted pair cable?"
   ]
  },
  {
   "cell_type": "code",
   "execution_count": 198,
   "metadata": {},
   "outputs": [
    {
     "name": "stdout",
     "output_type": "stream",
     "text": [
      "Yes, PA wiring must use screened twisted pair cable. This requirement is\n",
      "essential for ensuring reliable communication and performance in PROFIBUS PA\n",
      "(Process Automation) applications. Screened twisted pair cables provide\n",
      "effective protection against electromagnetic interference (EMI), which is\n",
      "crucial in industrial environments where various electrical devices operate\n",
      "simultaneously.\n",
      "\n",
      "The twisted pair configuration helps maintain signal integrity over longer\n",
      "distances by reducing crosstalk and making differential signals less susceptible\n",
      "to noise. Additionally, these cables support intrinsic safety requirements,\n",
      "allowing for safe operation in potentially explosive atmospheres.\n",
      "\n",
      "For example, PROFIBUS PA cables designed for intrinsically safe segments\n",
      "typically have a light blue sheath, while those for non-intrinsically safe\n",
      "segments may be black or orange. Using screened twisted pair cables that comply\n",
      "with the relevant standards, such as IEC 61158, ensures compatibility and\n",
      "reliability in communication, making them well-suited for process automation\n",
      "applications.\n"
     ]
    }
   ],
   "source": [
    "wrapped_answer = wrap_paragraphs(final_answer, width=80)\n",
    "print(wrapped_answer)"
   ]
  },
  {
   "cell_type": "markdown",
   "metadata": {},
   "source": [
    "### 9 - A non-hazardous plant is currently fitted with 4 to 20 mA instrumentation, wired using a mixture of single and multi-core cable. What are the main considerations when considering moving over to a PROFIBUS PA system?"
   ]
  },
  {
   "cell_type": "code",
   "execution_count": 210,
   "metadata": {},
   "outputs": [
    {
     "name": "stdout",
     "output_type": "stream",
     "text": [
      "When considering a transition from 4 to 20 mA instrumentation to a PROFIBUS PA\n",
      "system in a non-hazardous plant, the main considerations include signal\n",
      "conversion, cabling requirements, power supply specifications, device\n",
      "compatibility, and training for personnel.\n",
      "\n",
      "1. **Signal Conversion**: Since 4 to 20 mA is an analog signal and PROFIBUS PA\n",
      "operates on a digital protocol, a signal converter will be necessary to\n",
      "translate the existing analog signals into a digital format compatible with the\n",
      "PROFIBUS system.\n",
      "\n",
      "2. **Cabling Requirements**: PROFIBUS PA typically requires twisted pair cables\n",
      "designed for digital communication, which may differ from the existing single\n",
      "and multi-core cables used for 4 to 20 mA systems. It’s essential to ensure that\n",
      "the new cabling meets the specifications for PROFIBUS, including proper\n",
      "shielding and impedance characteristics.\n",
      "\n",
      "3. **Power Supply Specifications**: PROFIBUS PA devices operate within a DC\n",
      "voltage range of 9 V to 32 V, with a common operational voltage around 19 V. The\n",
      "existing power supply for the 4 to 20 mA system may need to be upgraded or\n",
      "replaced to meet these requirements, ensuring that all devices receive adequate\n",
      "power.\n",
      "\n",
      "4. **Device Compatibility**: It’s crucial to verify that existing devices can\n",
      "either be replaced with PROFIBUS-compatible devices or that they can be\n",
      "integrated into the new system through appropriate interfaces. Devices should\n",
      "ideally support the PROFIBUS PA profile to ensure seamless communication.\n",
      "\n",
      "5. **Training for Personnel**: Transitioning to a PROFIBUS PA system involves a\n",
      "learning curve for personnel accustomed to 4 to 20 mA systems. Training programs\n",
      "should be developed to cover the complexities of digital communication, network\n",
      "configuration, and troubleshooting specific to PROFIBUS.\n",
      "\n",
      "By addressing these considerations, the transition to a PROFIBUS PA system can\n",
      "be effectively managed, enhancing the overall functionality and reliability of\n",
      "the plant's instrumentation and control systems.\n"
     ]
    }
   ],
   "source": [
    "wrapped_answer = wrap_paragraphs(final_answer, width=80)\n",
    "print(wrapped_answer)"
   ]
  },
  {
   "cell_type": "markdown",
   "metadata": {},
   "source": [
    "### 10 - Determine the maximum trunk and spur cable lengths for a non-intrinsically safe MBP segment with 20 slaves each connected via the maximum possible spur length. Estimate the required coupler current rating if each slave device takes a maximum of 14 mA."
   ]
  },
  {
   "cell_type": "code",
   "execution_count": 29,
   "metadata": {},
   "outputs": [
    {
     "name": "stdout",
     "output_type": "stream",
     "text": [
      "The maximum trunk cable length for a non-intrinsically safe MBP segment in a\n",
      "PROFIBUS network is 1,900 meters. For the spur cable lengths, with 20 slave\n",
      "devices connected, the maximum spur length would be 60 meters, as this is the\n",
      "limit for 15 to 18 devices. Therefore, the total length of the trunk and spur\n",
      "cables would be 1,900 meters for the trunk and 60 meters for the spur.\n",
      "\n",
      "To estimate the required coupler current rating for this setup, you would\n",
      "calculate the total current consumption of the 20 slave devices, each drawing a\n",
      "maximum of 14 mA. The total current consumption can be calculated as follows:\n",
      "\n",
      "\\[ I_{\\text{segment}} = 20 \\times 14 \\, \\text{mA} = 280 \\, \\text{mA} \\]\n",
      "\n",
      "Next, it is advisable to include a safety margin of about 20% to ensure reliable\n",
      "operation. Thus, the required coupler current rating would be:\n",
      "\n",
      "\\[ I_{\\text{required}} = 280 \\, \\text{mA} \\times 1.2 = 336 \\, \\text{mA} \\]\n",
      "\n",
      "In summary, for a non-intrinsically safe MBP segment with 20 slaves, the maximum\n",
      "trunk length is 1,900 meters, the maximum spur length is 60 meters, and the\n",
      "estimated required coupler current rating is 336 mA. This ensures that the power\n",
      "supply can adequately support all connected devices while maintaining reliable\n",
      "communication.\n"
     ]
    }
   ],
   "source": [
    "wrapped_answer = wrap_paragraphs(final_answer, width=80)\n",
    "print(wrapped_answer)"
   ]
  }
 ],
 "metadata": {
  "kernelspec": {
   "display_name": "venv-industrial-llm",
   "language": "python",
   "name": "python3"
  },
  "language_info": {
   "codemirror_mode": {
    "name": "ipython",
    "version": 3
   },
   "file_extension": ".py",
   "mimetype": "text/x-python",
   "name": "python",
   "nbconvert_exporter": "python",
   "pygments_lexer": "ipython3",
   "version": "3.11.12"
  }
 },
 "nbformat": 4,
 "nbformat_minor": 2
}
