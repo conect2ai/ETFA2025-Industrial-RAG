{
 "cells": [
  {
   "cell_type": "code",
   "execution_count": 1,
   "metadata": {},
   "outputs": [
    {
     "data": {
      "text/plain": [
       "True"
      ]
     },
     "execution_count": 1,
     "metadata": {},
     "output_type": "execute_result"
    }
   ],
   "source": [
    "# %pip install \"unstructured[md]\" nltk langchain-text-splitters\n",
    "\n",
    "from dotenv import load_dotenv\n",
    "\n",
    "load_dotenv()"
   ]
  },
  {
   "cell_type": "markdown",
   "metadata": {},
   "source": [
    "## **Single Document**"
   ]
  },
  {
   "cell_type": "code",
   "execution_count": null,
   "metadata": {},
   "outputs": [],
   "source": [
    "from langchain_text_splitters import RecursiveCharacterTextSplitter\n",
    "from langchain_text_splitters import MarkdownHeaderTextSplitter\n",
    "from langchain.document_loaders import TextLoader\n",
    "\n",
    "# Load\n",
    "markdown_path = \"./Processed_Files_Introduction_to_End/CANopen_Integration_7012_V10_Mar11.md\"\n",
    "loader = TextLoader(markdown_path, autodetect_encoding=True)\n",
    "doc = loader.load()\n",
    "doc[0]"
   ]
  },
  {
   "cell_type": "code",
   "execution_count": null,
   "metadata": {},
   "outputs": [],
   "source": [
    "headers_to_split_on = [\n",
    "    (\"#\", \"Header 1\"),\n",
    "    (\"###\", \"Header 3\"),\n",
    "    (\"####\", \"Header 4\"),\n",
    "]\n",
    "\n",
    "# MD splits\n",
    "markdown_splitter = MarkdownHeaderTextSplitter(\n",
    "    headers_to_split_on=headers_to_split_on, strip_headers=False\n",
    ")\n",
    "md_header_splits = markdown_splitter.split_text(doc[0].page_content)\n",
    "md_header_splits"
   ]
  },
  {
   "cell_type": "code",
   "execution_count": null,
   "metadata": {},
   "outputs": [],
   "source": [
    "# Char-level splits\n",
    "chunk_size = 1000\n",
    "chunk_overlap = 200\n",
    "text_splitter = RecursiveCharacterTextSplitter(\n",
    "    chunk_size=chunk_size, chunk_overlap=chunk_overlap\n",
    ")\n",
    "\n",
    "# Split\n",
    "splits = text_splitter.split_documents(md_header_splits)\n",
    "splits"
   ]
  },
  {
   "cell_type": "markdown",
   "metadata": {},
   "source": [
    "## **All Documents**"
   ]
  },
  {
   "cell_type": "code",
   "execution_count": 2,
   "metadata": {},
   "outputs": [],
   "source": [
    "import glob\n",
    "import os\n",
    "\n",
    "from langchain_core.documents import Document"
   ]
  },
  {
   "cell_type": "code",
   "execution_count": 79,
   "metadata": {},
   "outputs": [],
   "source": [
    "# 1. Path/pattern for markdown files\n",
    "folder_path = \"./Processed_Files_Introduction_to_End/*.md\"\n",
    "\n",
    "# 2. Parameters for the Header Splitter\n",
    "headers_to_split_on = [\n",
    "    (\"#\", \"Header 1\"),\n",
    "    (\"##\", \"Header 2\"),\n",
    "    (\"###\", \"Header 3\"),\n",
    "    (\"####\", \"Header 4\"),\n",
    "]\n",
    "markdown_splitter = MarkdownHeaderTextSplitter(\n",
    "    headers_to_split_on=headers_to_split_on, \n",
    "    strip_headers=False\n",
    ")\n",
    "\n",
    "# 3. Parameters for the character-level splitter\n",
    "chunk_size = 1000\n",
    "chunk_overlap = 200\n",
    "text_splitter = RecursiveCharacterTextSplitter(\n",
    "    chunk_size=chunk_size, \n",
    "    chunk_overlap=chunk_overlap\n",
    ")\n",
    "\n",
    "# Final list for all splits from all files\n",
    "all_splits = []\n",
    "\n",
    "for file_path in glob.glob(folder_path):\n",
    "    # a) Load the file as raw text (preserving Markdown)\n",
    "    loader = TextLoader(file_path, autodetect_encoding=True)\n",
    "    docs = loader.load()  # usually returns a list [Document]\n",
    "    \n",
    "    # b) For each Document, perform two splits\n",
    "    for doc in docs:\n",
    "        md_header_splits = markdown_splitter.split_text(doc.page_content)\n",
    "        splits = text_splitter.split_documents(md_header_splits)\n",
    "        \n",
    "        # c) Use the base file name as \"name_file\" (without the path and without extension)\n",
    "        filename = os.path.splitext(os.path.basename(file_path))[0]\n",
    "\n",
    "        for splitted_doc in splits:\n",
    "            splitted_doc.metadata[\"name_file\"] = filename\n",
    "            # Optionally, remove the original \"source\" if not needed:\n",
    "            # splitted_doc.metadata.pop(\"source\", None)\n",
    "\n",
    "        all_splits.extend(splits)"
   ]
  },
  {
   "cell_type": "code",
   "execution_count": null,
   "metadata": {},
   "outputs": [],
   "source": [
    "min_size = 1000  # Minimum size for the merged chunks\n",
    "merged_documents = []  # List to store merged documents\n",
    "buffer_content = \"\"\n",
    "buffer_metadata = {}\n",
    "\n",
    "for doc in all_splits:\n",
    "    text = doc.page_content.strip()  # remove extra spaces if necessary\n",
    "    # If there is no content accumulated in the buffer and the chunk is small,\n",
    "    # initialize the buffer with this chunk.\n",
    "    if not buffer_content and len(text) < min_size:\n",
    "        buffer_content = text\n",
    "        buffer_metadata = doc.metadata\n",
    "    # If there is already content in the buffer, concatenate it with the current chunk.\n",
    "    elif buffer_content:\n",
    "        buffer_content += \"\\n\" + text  # add a line break to separate the texts\n",
    "        # When the buffer reaches or exceeds the minimum size, create a Document\n",
    "        if len(buffer_content) >= min_size:\n",
    "            merged_documents.append(\n",
    "                Document(page_content=buffer_content, metadata=buffer_metadata)\n",
    "            )\n",
    "            buffer_content = \"\"\n",
    "            buffer_metadata = {}\n",
    "    # If the current chunk is already large enough and there is nothing in the buffer, add it directly.\n",
    "    elif len(text) >= min_size:\n",
    "        merged_documents.append(Document(page_content=text, metadata=doc.metadata))\n",
    "\n",
    "# If there is remaining content in the buffer, add it as well.\n",
    "if buffer_content:\n",
    "    merged_documents.append(Document(page_content=buffer_content, metadata=buffer_metadata))\n",
    "\n",
    "# Example of printing the results:\n",
    "for i, document in enumerate(merged_documents):\n",
    "    print(f\"Document {i+1}:\")\n",
    "    print(\"Metadata:\", document.metadata)\n",
    "    print(\"Content (first 200 characters):\", document.page_content[:200])\n",
    "    print(\"-\" * 50)"
   ]
  },
  {
   "cell_type": "code",
   "execution_count": null,
   "metadata": {},
   "outputs": [],
   "source": [
    "print(f\"Generated {len(all_splits)} chunks in total.\")"
   ]
  },
  {
   "cell_type": "code",
   "execution_count": null,
   "metadata": {},
   "outputs": [],
   "source": [
    "print(f\"Generated {len(merged_documents)} chunks in total.\")"
   ]
  },
  {
   "cell_type": "code",
   "execution_count": null,
   "metadata": {},
   "outputs": [],
   "source": [
    "merged_documents"
   ]
  },
  {
   "cell_type": "markdown",
   "metadata": {},
   "source": [
    "# **RAG**"
   ]
  },
  {
   "cell_type": "code",
   "execution_count": 3,
   "metadata": {},
   "outputs": [],
   "source": [
    "from langchain_ollama import OllamaEmbeddings\n",
    "from langchain_community.vectorstores.faiss import FAISS\n",
    "from langchain_ollama import ChatOllama\n",
    "from typing_extensions import TypedDict\n",
    "from typing import List\n",
    "from langchain.schema import Document\n",
    "from langchain.retrievers.multi_query import MultiQueryRetriever\n",
    "from langchain_core.output_parsers import BaseOutputParser\n",
    "from langchain_core.prompts import PromptTemplate\n",
    "from pydantic import BaseModel, Field\n",
    "from langgraph.graph import START, StateGraph\n",
    "from IPython.display import Image, display\n",
    "from pprint import pprint\n",
    "from langchain_core.prompts import ChatPromptTemplate\n",
    "from langchain.chat_models import ChatOpenAI\n",
    "from langchain.embeddings import OpenAIEmbeddings"
   ]
  },
  {
   "cell_type": "code",
   "execution_count": 5,
   "metadata": {},
   "outputs": [
    {
     "name": "stderr",
     "output_type": "stream",
     "text": [
      "/tmp/ipykernel_8862/3728433904.py:3: LangChainDeprecationWarning: The class `OpenAIEmbeddings` was deprecated in LangChain 0.0.9 and will be removed in 1.0. An updated version of the class exists in the :class:`~langchain-openai package and should be used instead. To use it run `pip install -U :class:`~langchain-openai` and import as `from :class:`~langchain_openai import OpenAIEmbeddings``.\n",
      "  embeddings = OpenAIEmbeddings(model=\"text-embedding-ada-002\")\n"
     ]
    }
   ],
   "source": [
    "# Example embeddings (you can use OpenAIEmbeddings or another)\n",
    "# embeddings = OllamaEmbeddings(model=\"nomic-embed-text:latest\")\n",
    "embeddings = OpenAIEmbeddings(model=\"text-embedding-ada-002\")\n",
    "\n",
    "# Create an in-memory local vector store (FAISS)\n",
    "# vector_store = FAISS.from_documents(merged_documents, embedding=embeddings)"
   ]
  },
  {
   "cell_type": "code",
   "execution_count": 6,
   "metadata": {},
   "outputs": [],
   "source": [
    "vector_store = FAISS.load_local(\"faiss_index\", embeddings, allow_dangerous_deserialization=True)"
   ]
  },
  {
   "cell_type": "code",
   "execution_count": 7,
   "metadata": {},
   "outputs": [
    {
     "name": "stderr",
     "output_type": "stream",
     "text": [
      "/tmp/ipykernel_8862/2879934330.py:4: LangChainDeprecationWarning: The class `ChatOpenAI` was deprecated in LangChain 0.0.10 and will be removed in 1.0. An updated version of the class exists in the :class:`~langchain-openai package and should be used instead. To use it run `pip install -U :class:`~langchain-openai` and import as `from :class:`~langchain_openai import ChatOpenAI``.\n",
      "  llm = ChatOpenAI(temperature=0, model=\"gpt-4o-mini\")\n"
     ]
    }
   ],
   "source": [
    "# Example of an LLM\n",
    "# llm = ChatOllama(temperature=0, model=\"gemma3:12b\")\n",
    "\n",
    "llm = ChatOpenAI(temperature=0, model=\"gpt-4o-mini\")"
   ]
  },
  {
   "cell_type": "code",
   "execution_count": 8,
   "metadata": {},
   "outputs": [],
   "source": [
    "template = \"\"\"You are an expert assistant for answering questions accurately and concisely based on the provided context.\n",
    "\n",
    "### Instructions:\n",
    "- Answer in a direct and clear manner.\n",
    "- Answer **in the same language as the question**.\n",
    "- Focus on **the purpose or main function** of the topic in question.\n",
    "- Avoid unnecessary details unless explicitly relevant.\n",
    "- Start with **a direct answer**, then add clarification only if needed.\n",
    "\n",
    "### Example:\n",
    "Q: Why is a library important in a community?\n",
    "A: A library provides access to books, knowledge, and resources that support education and lifelong learning. It also serves as a community hub for research and collaboration.\n",
    "\n",
    "Q: What is the purpose of an ecosystem?\n",
    "A: An ecosystem maintains balance in nature by allowing different species to interact and support each other. It regulates climate, provides food sources, and sustains biodiversity.\n",
    "\n",
    "### Now answer the following:\n",
    "\n",
    "Question: {question}\n",
    "\n",
    "Context: {context}\n",
    "\n",
    "Answer in the same language as the user's input question.\n",
    "\n",
    "Answer (in the language of the question):  \n",
    "\"\"\"\n",
    "\n",
    "prompt = ChatPromptTemplate.from_template(template)\n",
    "\n",
    "# llm = ChatOllama(temperature=0, model=\"qwen2:7b-instruct\")"
   ]
  },
  {
   "cell_type": "code",
   "execution_count": 9,
   "metadata": {},
   "outputs": [],
   "source": [
    "question = \"Qual é o objetivo de um dispositivo Linking na integração de CANopen com PROFINET IO?\""
   ]
  },
  {
   "cell_type": "code",
   "execution_count": 10,
   "metadata": {},
   "outputs": [],
   "source": [
    "def generate_hypothetical_document(question: str) -> str:\n",
    "    \"\"\"\n",
    "    Generates a hypothetical, technically accurate document in English for the given question,\n",
    "    to be used in vector-based retrieval systems. The result must be focused, factual, and domain-specific.\n",
    "    \"\"\"\n",
    "    hyde_template = (\n",
    "        \"You are an AI assistant specialized in industrial automation, communication protocols, and control networks. \"\n",
    "        \"Your task is to generate a detailed and technically accurate hypothetical answer that could appear in a knowledge base, \"\n",
    "        \"technical documentation, or white paper related to industrial networking. Follow these strict instructions:\\n\"\n",
    "        \"1. The response must ONLY contain the hypothetical document text—no commentary, notes, explanations, or formatting.\\n\"\n",
    "        \"2. The content must be written in English and must not include greetings or apologies.\\n\"\n",
    "        \"3. The text should be informative, concise, and focused on answering the question using domain-relevant terminology.\\n\"\n",
    "        \"4. Do not restate the question. Just provide the content.\\n\\n\"\n",
    "        \"Question: {question}\\n\\n\"\n",
    "        \"Hypothetical Document:\"\n",
    "    )\n",
    "\n",
    "    prompt_hyde = ChatPromptTemplate.from_template(hyde_template)\n",
    "    messages = prompt_hyde.format(question=question)\n",
    "\n",
    "    # hyde_llm = ChatOllama(model=\"gemma3:12b\", temperature=0.7)\n",
    "    hyde_llm = ChatOpenAI(model=\"gpt-4o-mini\", temperature=0.7)\n",
    "\n",
    "    # Generate the hypothetical document\n",
    "    response = hyde_llm.invoke(messages)\n",
    "\n",
    "    # Extract and clean content\n",
    "    if hasattr(response, \"content\"):\n",
    "        return response.content.strip()\n",
    "    else:\n",
    "        return response.strip()\n"
   ]
  },
  {
   "cell_type": "code",
   "execution_count": 11,
   "metadata": {},
   "outputs": [
    {
     "data": {
      "text/plain": [
       "'The Linking device serves as a critical component in the integration of CANopen with PROFINET IO, facilitating seamless communication between these two distinct network protocols. Its primary objective is to act as a bridge, enabling data exchange and interoperability between the CANopen field devices and PROFINET IO controllers.\\n\\nBy converting CANopen messages into PROFINET IO frames and vice versa, the Linking device allows for the transparent transmission of process data, service data, and network management commands. This conversion is essential for maintaining the integrity and real-time capabilities of both networks, ensuring that devices on CANopen can effectively communicate with PROFINET IO systems without losing the benefits of either protocol.\\n\\nAdditionally, the Linking device may implement specific functionalities such as protocol translation, data mapping, and synchronization of cyclic and acyclic data flows. This includes handling the timing requirements inherent in real-time applications, where timely data delivery is crucial. Moreover, the Linking device often provides diagnostics and monitoring capabilities, enabling operators to track the status of communications and troubleshoot any issues that may arise during operation.\\n\\nIn summary, the Linking device is pivotal for enabling the integration of CANopen with PROFINET IO, ensuring efficient and reliable communication between heterogeneous industrial automation components.'"
      ]
     },
     "execution_count": 11,
     "metadata": {},
     "output_type": "execute_result"
    }
   ],
   "source": [
    "generate_hypothetical_document(question)"
   ]
  },
  {
   "cell_type": "code",
   "execution_count": 12,
   "metadata": {},
   "outputs": [],
   "source": [
    "retriever = vector_store.as_retriever()"
   ]
  },
  {
   "cell_type": "code",
   "execution_count": 16,
   "metadata": {},
   "outputs": [],
   "source": [
    "class State(TypedDict):\n",
    "    question: str           # User's question\n",
    "    hypothetical_answer: str # Hypothetical document generated for retrieval\n",
    "    context: List[Document] # Documents returned by the retrieve function\n",
    "    answer: str             # Final answer from the LLM\n",
    "\n",
    "def generate_hypothetical_document(question: str) -> str:\n",
    "    \"\"\"\n",
    "    Generates an ideal hypothetical answer for the given question to be used for document retrieval.\n",
    "    The answer must be solely the hypothetical document, with no additional commentary, explanations, or formatting.\n",
    "    \"\"\"\n",
    "    hyde_template = (\n",
    "        \"You are an expert assistant. Given the following question, generate a comprehensive hypothetical answer \"\n",
    "        \"that will serve as an ideal document for information retrieval. Follow these strict rules:\\n\"\n",
    "        \"1. Do not include any extra commentary, headers, or notes. Your response must be only the hypothetical document text.\\n\"\n",
    "        \"2. Do not include greetings, apologies, or any text before or after the answer.\\n\"\n",
    "        \"3. The answer should be concise, factual, and focused solely on answering the question.\\n\\n\"\n",
    "        \"Question: {question}\\n\\n\"\n",
    "        \n",
    "        \"Hypothetical Answer (in english. ONLY the text, nothing else):\"\n",
    "    )\n",
    "    prompt_hyde = ChatPromptTemplate.from_template(hyde_template)\n",
    "    messages = prompt_hyde.format(question=question)\n",
    "\n",
    "    # hyde_llm = ChatOllama(model=\"gemma3:12b\", temperature=0.7)\n",
    "    hyde_llm = ChatOpenAI(model=\"gpt-4o-mini\", temperature=0.7)\n",
    "    \n",
    "    # Utilize the LLM to generate the hypothetical document.\n",
    "    response = hyde_llm.invoke(messages)\n",
    "    \n",
    "    # If the response is wrapped in an AI message, extract its content.\n",
    "    if hasattr(response, \"content\"):\n",
    "        return {\"hypothetical_answer\": response.content.strip()}\n",
    "    else:\n",
    "        return {\"hypothetical_answer\": response.strip()}\n",
    "\n",
    "def retrieve(state: State):\n",
    "    \"\"\"\n",
    "    Retrieval step: performs a similarity search in the vector_store\n",
    "    and returns the documents that will serve as context for the answer.\n",
    "    \n",
    "    Args:\n",
    "        state (State): The current state containing the user's question.\n",
    "    \n",
    "    Returns:\n",
    "        dict: A dictionary with the key \"context\" that will be added to the state.\n",
    "    \"\"\"\n",
    "    retrieved_docs = retriever.invoke(state[\"hypothetical_answer\"])\n",
    "    # Returns a dictionary with the key \"context\"\n",
    "    return {\"context\": retrieved_docs}\n",
    "\n",
    "def generate(state: State):\n",
    "    \"\"\"\n",
    "    Generation step: formats the 'context' and the 'question' into a prompt,\n",
    "    calls the LLM, and obtains the final answer.\n",
    "    \n",
    "    Args:\n",
    "        state (State): The current state containing the user's question and the retrieved context.\n",
    "    \n",
    "    Returns:\n",
    "        dict: A dictionary with the key \"answer\" containing the final answer from the LLM.\n",
    "    \n",
    "    Raises:\n",
    "        ValueError: If the response format from the LLM is unexpected.\n",
    "    \"\"\"\n",
    "    docs_content = \"\\n\\n\".join(doc.page_content for doc in state[\"context\"])\n",
    "    messages = prompt.invoke({\"question\": state[\"question\"], \"context\": docs_content})\n",
    "    \n",
    "    response = llm.invoke(messages)  # or llm(messages), depending on your setup\n",
    "\n",
    "    # If the response is of type AIMessage and has the attribute 'content', use it:\n",
    "    if hasattr(response, \"content\"):\n",
    "        return {\"answer\": response.content}\n",
    "    elif isinstance(response, str):\n",
    "        return {\"answer\": response}\n",
    "    else:\n",
    "        raise ValueError(\"Unexpected response format.\")"
   ]
  },
  {
   "cell_type": "code",
   "execution_count": 17,
   "metadata": {},
   "outputs": [],
   "source": [
    "# Build the application graph:\n",
    "graph_builder = StateGraph(State).add_sequence([generate_hypothetical_document, retrieve, generate])\n",
    "graph_builder.add_edge(START, \"generate_hypothetical_document\")\n",
    "graph_builder.add_edge(\"generate_hypothetical_document\", \"retrieve\")\n",
    "graph_builder.add_edge(\"retrieve\", \"generate\")\n",
    "\n",
    "# Compile into a callable \"graph\" object\n",
    "graph = graph_builder.compile()"
   ]
  },
  {
   "cell_type": "code",
   "execution_count": null,
   "metadata": {},
   "outputs": [],
   "source": [
    "display(Image(graph.get_graph().draw_mermaid_png()))"
   ]
  },
  {
   "cell_type": "markdown",
   "metadata": {},
   "source": [
    "## **Queries**"
   ]
  },
  {
   "cell_type": "code",
   "execution_count": null,
   "metadata": {},
   "outputs": [],
   "source": [
    "import re\n",
    "from pprint import pprint\n",
    "\n",
    "def clean_answer(answer: str) -> str:\n",
    "    \"\"\"\n",
    "    Cleans the generated answer by removing unnecessary information and formatting.\n",
    "    \n",
    "    Args:\n",
    "        answer (str): The raw answer generated by the LLM.\n",
    "        \n",
    "    Returns:\n",
    "        str: The cleaned answer, formatted for better readability.\n",
    "    \"\"\"\n",
    "\n",
    "    # Remove logs such as INFO:langchain...\n",
    "    cleaned = re.sub(r'INFO:.*?(\\n|$)', '', answer)\n",
    "\n",
    "    # Extract the value of the 'answer' key if it's a dictionary string\n",
    "    match = re.search(r\"'answer':\\s*([\\\"'])(.*?)\\1\", cleaned, re.DOTALL)\n",
    "    if match:\n",
    "        cleaned = match.group(2)\n",
    "\n",
    "    # Remove markdown bold formatting **text**\n",
    "    cleaned = re.sub(r\"\\*\\*(.*?)\\*\\*\", r\"\\1\", cleaned)\n",
    "\n",
    "    # Remove duplicate spaces and normalize line breaks\n",
    "    cleaned = re.sub(r'\\n{3,}', '\\n\\n', cleaned)\n",
    "    cleaned = re.sub(r'[ \\t]+$', '', cleaned, flags=re.MULTILINE)\n",
    "\n",
    "    return cleaned.strip()\n",
    "\n",
    "def clean_context(context):\n",
    "    \"\"\"\n",
    "    Simplifies the context by extracting relevant metadata and limiting content length.\n",
    "    \n",
    "    Args:\n",
    "        context (List[Document]): The list of documents retrieved as context.\n",
    "        \n",
    "    Returns:\n",
    "        List[dict]: A simplified list of dictionaries containing the document ID and a snippet of the content.\n",
    "    \"\"\"\n",
    "    \n",
    "    return [\n",
    "        {\n",
    "            \"id\": doc.metadata.get(\"name_file\", doc.metadata.get(\"source\", \"unknown\")),\n",
    "            \"content\": doc.page_content[:300] + \"...\" if len(doc.page_content) > 300 else doc.page_content\n",
    "        }\n",
    "        for doc in context\n",
    "    ]\n",
    "\n",
    "def process_question(question: str):\n",
    "    \"\"\"\n",
    "    Process a user's question by retrieving context and generating an answer using the graph.\n",
    "\n",
    "    Args:\n",
    "        question (str): The user's question.\n",
    "\n",
    "    Prints:\n",
    "        The retrieved context and the generated answer.\n",
    "    \"\"\"\n",
    "    for step_result in graph.stream({\"question\": question}, stream_mode=\"updates\"):\n",
    "        if \"retrieve\" in step_result:\n",
    "            context = step_result.get(\"retrieve\", {}).get(\"context\", [])\n",
    "            simplified_context = clean_context(context)\n",
    "            print(\"\\n📚 Retrieved Context:\\n\")\n",
    "            pprint(simplified_context)\n",
    "\n",
    "        if \"generate\" in step_result:\n",
    "            raw_answer = step_result.get(\"generate\", {}).get(\"answer\", \"\")\n",
    "            formatted_answer = clean_answer(raw_answer)\n",
    "            print(\"\\n🧠 Generated Answer:\\n\")\n",
    "            print(formatted_answer)"
   ]
  },
  {
   "cell_type": "markdown",
   "metadata": {},
   "source": [
    "### 1 - List the main causes of reflections in Profibus cables."
   ]
  },
  {
   "cell_type": "code",
   "execution_count": null,
   "metadata": {},
   "outputs": [
    {
     "name": "stdout",
     "output_type": "stream",
     "text": [
      "\n",
      "📚 Retrieved Context:\n",
      "\n",
      "[{'content': '## **PROFIBUS cable too long**  \\n'\n",
      "             'Cable that is too long generally functions like a condenser. It '\n",
      "             'changes the signal form. The result is that for a square wave '\n",
      "             'signal the rising edge is rounded (e-function). This effect is '\n",
      "             'more pronounced the longer the PROFIBUS cable.  \\n'\n",
      "             'If the signal is changed too ...',\n",
      "  'id': 'Copia di PROFIBUS_Commissioning_8032_V123_Sep22 (1)'},\n",
      " {'content': '## **Defective Bus Terminator**  \\n'\n",
      "             'For the bus connection two types of errors can occur, both of '\n",
      "             'which cause a signal reflection. The reflection strength depends '\n",
      "             'on the error.  \\n'\n",
      "             'For the one error, too many terminators are switched on. Thus '\n",
      "             'approximately 1/3 of the signal is reflected and is turned by...',\n",
      "  'id': 'Copia di PROFIBUS_Commissioning_8032_V123_Sep22 (1)'},\n",
      " {'content': '### <span id=\"page-24-1\"></span>**2.1.4 Radiated coupling**  \\n'\n",
      "             'In industrial cables of usually up to 100 m of length, radiated '\n",
      "             'coupling between high-energy disturbers and signal current '\n",
      "             'circuits only occurs at high frequencies (approx. 30 MHz and '\n",
      "             'higher). This type of coupling is caused by the electr...',\n",
      "  'id': 'Copia di Earthing-Shielding_8102_V31_Sep22'},\n",
      " {'content': 'The supply voltage can also be checked with a multimeter. The '\n",
      "             'measurement is performed between pin 5 (+5 V) and pin 6 (Earth) '\n",
      "             'of the 9-pin sub-D connector.  \\n'\n",
      "             '• Step 3: Generate a live list  \\n'\n",
      "             'Check whether all PROFIBUS stations can be reached. Many '\n",
      "             'handheld devices support this feature. Some programm...',\n",
      "  'id': 'Copia di PROFIBUS_Commissioning_8032_V123_Sep22 (1)'}]\n",
      "\n",
      "🧠 Generated Answer:\n",
      "\n",
      "The main causes of reflections in Profibus cables are:\n",
      "\n",
      "1. Cable too long: Excessive length can alter the signal shape, leading to recognition issues by the receiver.\n",
      "2. Non-connected Profibus plugs: Open connectors can create signal interference due to integrated inductors.\n",
      "3. Defective bus terminator: Errors such as too many or missing terminators can cause signal reflections, either inverting or maintaining the signal's amplitude.\n",
      "\n",
      "These factors can disrupt communication and signal integrity in Profibus networks.\n"
     ]
    }
   ],
   "source": [
    "question_1 = \"List the main causes of reflections in Profibus cables\"\n",
    "process_question(question_1)"
   ]
  },
  {
   "cell_type": "markdown",
   "metadata": {},
   "source": [
    "### 2 - What are the different interference coupling mechanisms in Profibus cables? What measures can be taken to reduce each type of interference?"
   ]
  },
  {
   "cell_type": "code",
   "execution_count": 39,
   "metadata": {},
   "outputs": [
    {
     "name": "stdout",
     "output_type": "stream",
     "text": [
      "\n",
      "📚 Retrieved Context:\n",
      "\n",
      "[{'content': '### <span id=\"page-24-1\"></span>**2.1.4 Radiated coupling**  \\n'\n",
      "             'In industrial cables of usually up to 100 m of length, radiated '\n",
      "             'coupling between high-energy disturbers and signal current '\n",
      "             'circuits only occurs at high frequencies (approx. 30 MHz and '\n",
      "             'higher). This type of coupling is caused by the electr...',\n",
      "  'id': 'Copia di Earthing-Shielding_8102_V31_Sep22'},\n",
      " {'content': '## <span id=\"page-19-0\"></span>**2.1 Couplings**  \\n'\n",
      "             'A source of disturbance is only capable of disturbing another '\n",
      "             'device if there are coupling lines. The coupling lines connect '\n",
      "             'the source to the susceptible device (see [Figure '\n",
      "             '2.2\\\\)](#page-19-1). In this context, the term \"susceptible '\n",
      "             'device\" refers ...',\n",
      "  'id': 'Copia di Earthing-Shielding_8102_V31_Sep22'},\n",
      " {'content': 'Chapter [3.1.2](#page-28-0) described active shielding, which '\n",
      "             'requires a shielding current to cancel out incoming magnetic '\n",
      "             'fields. In this case, the current flow on the shield is required '\n",
      "             'to achieve the shielding effect. However, if the shielding '\n",
      "             'current is not caused by a magnetic field incident on...',\n",
      "  'id': 'Copia di Earthing-Shielding_8102_V31_Sep22'},\n",
      " {'content': '![](_page_16_Figure_2.jpeg)  \\n'\n",
      "             '<span id=\"page-16-0\"></span>**Figure 1.1: Evaluation of the '\n",
      "             'assignments of the Field Service Excellence WG from 2009 to '\n",
      "             '20014 [GÃ–H2015]**  \\n'\n",
      "             '[Figure 1.1](#page-16-0) clearly shows that EMC errors resulting '\n",
      "             'from electromagnetic incompatibility have caused more than half '\n",
      "             '...',\n",
      "  'id': 'Copia di Earthing-Shielding_8102_V31_Sep22'}]\n",
      "\n",
      "🧠 Generated Answer:\n",
      "\n",
      "A: The different interference coupling mechanisms in Profibus cables include radiated coupling, line-conducted disturbances, and nearby disturbances. To reduce these types of interference, measures such as using twisted pair cables, proper shielding, maintaining short and direct equipotential bonding lines, and ensuring adequate grounding can be implemented.\n"
     ]
    }
   ],
   "source": [
    "question_2 = \"What are the different interference coupling mechanisms in Profibus cables? What measures can be taken to reduce each type of interference?\"\n",
    "process_question(question_2)"
   ]
  },
  {
   "cell_type": "markdown",
   "metadata": {},
   "source": [
    "### 3 - In which situations should spur lines not be used in Profibus DP network topology?"
   ]
  },
  {
   "cell_type": "code",
   "execution_count": 40,
   "metadata": {},
   "outputs": [
    {
     "name": "stdout",
     "output_type": "stream",
     "text": [
      "\n",
      "📚 Retrieved Context:\n",
      "\n",
      "[{'content': '## **2.1.3.3 Topologies of PROFIBUS-MBP (PA)**  \\n'\n",
      "             '<span id=\"page-42-1\"></span>With PROFIBUS-MBP (PA) the slaves '\n",
      "             'are powered via the bus. As a result, copper cables have to be '\n",
      "             'used as the transmission medium.  \\n'\n",
      "             'For PROFIBUS-MBP (PA) line and tree topologies as well as a '\n",
      "             'combination of these are permis...',\n",
      "  'id': 'Copia di PROFIBUS_Design_Guideline_8012_V129_Sep20 (1)'},\n",
      " {'content': '## <span id=\"page-51-0\"></span>**5.2 Checking the Cabling '\n",
      "             'Infrastructure**  \\n'\n",
      "             'Checking the cabling infrastructure should be one of your first '\n",
      "             'troubleshooting steps. Errors can creep in here, for example, if '\n",
      "             'the routing of the PROFIBUS cable has been changed. The '\n",
      "             'potential for errors when extending or...',\n",
      "  'id': 'Copia di PROFIBUS_Commissioning_8032_V123_Sep22 (1)'},\n",
      " {'content': '- The maximum trunk cable length is 1 000 m.\\n'\n",
      "             '- A trunk with connected spurs must be used to realize the '\n",
      "             'topology.\\n'\n",
      "             \"- Line type 'A' must be used.  \\n\"\n",
      "             'With DART the main bus (trunk) is also intrinsically safe and '\n",
      "             'can be accessed during operation without the glow of a fire. '\n",
      "             'Sufficient power for realizing ...',\n",
      "  'id': 'Copia di PROFIBUS_Design_Guideline_8012_V129_Sep20 (1)'},\n",
      " {'content': 'However, we strongly recommend not using stubs for PROFIBUS DP '\n",
      "             'as stubs produce reflections and, therefore, must be considered '\n",
      "             'as a potential source of interference to the signal.  \\n'\n",
      "             'Depending on the data transmission rate, transmission paths of '\n",
      "             'up to 1 200 m per segment can be made using copper cabl...',\n",
      "  'id': 'Copia di PROFIBUS_Design_Guideline_8012_V129_Sep20 (1)'}]\n",
      "\n",
      "🧠 Generated Answer:\n",
      "\n",
      "A: Spur lines should not be used in PROFIBUS DP network topology because they can produce signal reflections, which may interfere with communication. Additionally, the use of stubs is discouraged, especially at high transmission speeds, as they can lead to network instability and performance issues.\n"
     ]
    }
   ],
   "source": [
    "question_3 = \"In which situations should spur lines not be used in Profibus DP network topology?\"\n",
    "process_question(question_3)"
   ]
  },
  {
   "cell_type": "markdown",
   "metadata": {},
   "source": [
    "### 4 - Determine the minimum separation distance between a Profibus cable and the following cables:\n",
    "a. AS-Interface type Profibus cable\n",
    "\n",
    "b. 24V power cable for a digital output module\n",
    "\n",
    "c. Single-phase 240V AC power cable for supplying a DC power supply\n",
    "\n",
    "d. Grounding equipotential bonding cable between cabinets\n",
    "\n",
    "e. Three-phase 380V power cable for a Profibus frequency inverter"
   ]
  },
  {
   "cell_type": "code",
   "execution_count": null,
   "metadata": {},
   "outputs": [
    {
     "name": "stdout",
     "output_type": "stream",
     "text": [
      "\n",
      "📚 Retrieved Context:\n",
      "\n",
      "[{'content': '![](_page_132_Picture_6.jpeg)  \\n'\n",
      "             'For more details about minimum separation distances please refer '\n",
      "             'to the IEC 61784-5-3 or EN 50174-2 standard, respectively.  \\n'\n",
      "             '![](_page_132_Picture_8.jpeg)  \\n'\n",
      "             'If possible, use only conducting cable ducts and plan for '\n",
      "             'regular connections to a functional equipotential bo...',\n",
      "  'id': 'Copia di PROFIBUS_Design_Guideline_8012_V129_Sep20 (1)'},\n",
      " {'content': '#### **General notes on cable routing inside buildings**  \\n'\n",
      "             'In general, power supply cables and communication cables shall '\n",
      "             'be laid separately.  \\n'\n",
      "             'You should first check where the power supply cables are laid or '\n",
      "             'planned to be laid in the plant. In practice, it may be '\n",
      "             'impossible to completely separate t...',\n",
      "  'id': 'Copia di PROFIBUS_Design_Guideline_8012_V129_Sep20 (1)'},\n",
      " {'content': '## **Use for potential separation**  \\n'\n",
      "             'If the individual plant parts are powered from different mains '\n",
      "             'supplies, differences may occur in the ground potential which '\n",
      "             'may corrupt the data transmission. In this case repeaters could '\n",
      "             'be used to provide a potential separation.\\n'\n",
      "             '## <span id=\"page-93-0\"></span...',\n",
      "  'id': 'Copia di PROFIBUS_Design_Guideline_8012_V129_Sep20 (1)'},\n",
      " {'content': '<sup>c</sup> Power cables for lower AC or DC power must be '\n",
      "             'treated based on their rating, i.e. H. a 100 A / 50 V-DC cable '\n",
      "             'is equivalent 5 of the 20-A-cables (P = 0,4).  \\n'\n",
      "             'As a next step we will look at a calculation example for the '\n",
      "             'recommend distances.  \\n'\n",
      "             'Assumptions:  \\n'\n",
      "             '- PROFIBUS cable used with shie...',\n",
      "  'id': 'Copia di PROFIBUS_Design_Guideline_8012_V129_Sep20 (1)'}]\n",
      "\n",
      "🧠 Generated Answer:\n",
      "\n",
      "A: The minimum separation distances for a Profibus cable from the specified cables are as follows:\n",
      "\n",
      "a. AS-Interface type Profibus cable: Refer to Table 3-11 for specific distance.\n",
      "\n",
      "b. 24V power cable for a digital output module: Refer to Table 3-11 for specific distance.\n",
      "\n",
      "c. Single-phase 240V AC power cable for supplying a DC power supply: Refer to Table 3-11 for specific distance.\n",
      "\n",
      "d. Grounding equipotential bonding cable between cabinets: Refer to Table 3-11 for specific distance.\n",
      "\n",
      "e. Three-phase 380V power cable for a Profibus frequency inverter: Refer to Table 3-11 for specific distance.\n",
      "\n",
      "For exact values, please consult Table 3-11 in the provided context.\n"
     ]
    }
   ],
   "source": [
    "question_4 = \"\"\"Determine the minimum separation distance between a Profibus cable and the following cables:\n",
    "\n",
    "a. AS-Interface type Profibus cable\n",
    "\n",
    "b. 24V power cable for a digital output module\n",
    "\n",
    "c. Single-phase 240V AC power cable for supplying a DC power supply\n",
    "\n",
    "d. Grounding equipotential bonding cable between cabinets\n",
    "\n",
    "e. Three-phase 380V power cable for a Profibus frequency inverter\"\"\"\n",
    "process_question(question_4)"
   ]
  },
  {
   "cell_type": "markdown",
   "metadata": {},
   "source": [
    "### 5 - Two control rooms located at opposite ends of an area must share the same Profibus network. Each room has its own grounding system, and there is a significant potential difference between them. List three methods to install the network in a way that avoids issues caused by separate ground potentials."
   ]
  },
  {
   "cell_type": "code",
   "execution_count": null,
   "metadata": {},
   "outputs": [
    {
     "name": "stdout",
     "output_type": "stream",
     "text": [
      "\n",
      "📚 Retrieved Context:\n",
      "\n",
      "[{'content': 'The hybrid plug systems also include a variant for transmitting '\n",
      "             'data over fiber-optic cable fibers and 24 V operating voltage '\n",
      "             'for the peripheral devices via copper cables in a single hybrid '\n",
      "             'cable.  \\n'\n",
      "             'Experience shows that difficulties with the transmission '\n",
      "             'technology in PROFIBUS networks can most oft...',\n",
      "  'id': 'Copia di PROFIBUS_Systembeschreibung_ENG_web'},\n",
      " {'content': 'The potential separation between the two input channels and '\n",
      "             'against the device ground is particularly important. Separation '\n",
      "             'of the two channels ensures that they do not affect each other. '\n",
      "             'It is just as important that both channels are also potential '\n",
      "             'separated from the device ground. If this is not t...',\n",
      "  'id': 'Copia di PROFIBUS_Commissioning_8032_V123_Sep22 (1)'},\n",
      " {'content': 'The following subsections provide general explanations and '\n",
      "             'problem descriptions for all seven topics on the basis of '\n",
      "             'standards and specialist literature. Additionally, a '\n",
      "             'recommendation for the functional bonding and shielding of '\n",
      "             'PROFIBUS/PROFINET networks is derived from the standards. This '\n",
      "             'chapter ...',\n",
      "  'id': 'Copia di Earthing-Shielding_8102_V31_Sep22'},\n",
      " {'content': 'A two-core shielded cable is used for the transmission medium. '\n",
      "             'The important thing here is that different cables are involved '\n",
      "             'for PROFIBUS DP (cable Type A according to IEC 61158 Part 2 '\n",
      "             'Interface RS485(-IS)) and PROFIBUS PA (cable Type A according to '\n",
      "             'IEC 61158 Part 2 Interface MBP(-IS)). (See Table ...',\n",
      "  'id': 'Copia di PROFIBUS_Systembeschreibung_ENG_web'}]\n",
      "\n",
      "🧠 Generated Answer:\n",
      "\n",
      "A: To avoid issues caused by separate ground potentials when installing a Profibus network between two control rooms, you can use the following methods:\n",
      "\n",
      "1. Fiber Optic Cables: Utilize fiber optic cables for data transmission, as they are immune to electrical interference and do not have grounding issues.\n",
      "\n",
      "2. Isolated Segment Couplers: Implement isolated segment couplers that provide electrical isolation between the two control rooms, preventing ground potential differences from affecting the network.\n",
      "\n",
      "3. Differential Signaling: Use differential signaling techniques to transmit data, which can help mitigate the effects of ground potential differences by allowing the system to interpret the signal based on the difference between two lines rather than a single reference ground.\n"
     ]
    }
   ],
   "source": [
    "question_5 = \"Two control rooms located at opposite ends of an area must share the same Profibus network. Each room has its own grounding system, and there is a significant potential difference between them. List three methods to install the network in a way that avoids issues caused by separate ground potentials.\"\n",
    "process_question(question_5)"
   ]
  },
  {
   "cell_type": "markdown",
   "metadata": {},
   "source": [
    "### 6 - Discuss the factors that have a significant effect on the overall cycle time of a DP network."
   ]
  },
  {
   "cell_type": "code",
   "execution_count": null,
   "metadata": {},
   "outputs": [
    {
     "name": "stdout",
     "output_type": "stream",
     "text": [
      "\n",
      "📚 Retrieved Context:\n",
      "\n",
      "[{'content': 'The communication between the master and a slave always includes '\n",
      "             'the transmission of two telegrams into which the process data '\n",
      "             '(input and output data) is packaged. The amount of process data '\n",
      "             'to be transmitted depends on the input and output data of the '\n",
      "             'slaves. Intelligent devices usually have betwee...',\n",
      "  'id': 'Copia di PROFIBUS_Design_Guideline_8012_V129_Sep20 (1)'},\n",
      " {'content': '#### <span id=\"page-56-0\"></span>**Figure 2-12: PROFIBUS bus '\n",
      "             'cycle times**  \\n'\n",
      "             '(PA)  \\n'\n",
      "             'Compared to the bus cycle time of PROFIBUS DP, the bus cycle '\n",
      "             'time of PROFIBUS-MBP (PA) is quite long. However, this does not '\n",
      "             'necessarily mean that the total cycle time of a line consisting '\n",
      "             'of both PROFIBUS DP and PRO...',\n",
      "  'id': 'Copia di PROFIBUS_Design_Guideline_8012_V129_Sep20 (1)'},\n",
      " {'content': '## **PROFIBUS DP**  \\n'\n",
      "             'An estimation of the bus cycle time for PROFIBUS DP can be made '\n",
      "             'using the formula provided in [Table 2-6.](#page-53-0)  \\n'\n",
      "             '<span id=\"page-53-0\"></span>![](_page_53_Figure_3.jpeg)  \\n'\n",
      "             '![](_page_53_Figure_4.jpeg)  \\n'\n",
      "             '[Figure 2-11](#page-54-0) provides a graphical overview of the '\n",
      "             'formula...',\n",
      "  'id': 'Copia di PROFIBUS_Design_Guideline_8012_V129_Sep20 (1)'},\n",
      " {'content': '#### **Bus cycle**  \\n'\n",
      "             'The following times are defined for calculating the bus cycle '\n",
      "             'and system reaction times:  \\n'\n",
      "             'Asynchronous communication  \\n'\n",
      "             '- Token Transfer Period (TTP)\\n'\n",
      "             '- Message Transfer Period (TMP)\\n'\n",
      "             '- System reaction time (TSR)\\n'\n",
      "             '- Isochronous cycle time (TCT)  \\n'\n",
      "             'See IEC 61158-4 for further details...',\n",
      "  'id': 'Copia di PROFIBUS_Commissioning_8032_V123_Sep22 (1)'}]\n",
      "\n",
      "🧠 Generated Answer:\n",
      "\n",
      "A: The overall cycle time of a DP network is significantly affected by the number of slaves, transmission rate, bus physics (such as PROFIBUS DP or PROFIBUS-MBP (PA)), and the data volume (input and output data). These factors determine the efficiency and speed of data transmission within the network.\n"
     ]
    }
   ],
   "source": [
    "question_6 = \"Discuss the factors that have a significant effect on the overall cycle time of a DP network.\"\n",
    "process_question(question_6)"
   ]
  },
  {
   "cell_type": "markdown",
   "metadata": {},
   "source": [
    "### 7 - A PA segment is used to wire 24 slave devices in a non-hazardous area. Determine the maximum spur length when:\n",
    "a. Each spur carries only one slave,\n",
    "\n",
    "b. Each spur carries four slaves.\n",
    "\n",
    "What is the maximum length of the main trunk cable in each case?"
   ]
  },
  {
   "cell_type": "code",
   "execution_count": null,
   "metadata": {},
   "outputs": [
    {
     "name": "stdout",
     "output_type": "stream",
     "text": [
      "\n",
      "📚 Retrieved Context:\n",
      "\n",
      "[{'content': '- The maximum trunk cable length is 1 000 m.\\n'\n",
      "             '- A trunk with connected spurs must be used to realize the '\n",
      "             'topology.\\n'\n",
      "             \"- Line type 'A' must be used.  \\n\"\n",
      "             'With DART the main bus (trunk) is also intrinsically safe and '\n",
      "             'can be accessed during operation without the glow of a fire. '\n",
      "             'Sufficient power for realizing ...',\n",
      "  'id': 'Copia di PROFIBUS_Design_Guideline_8012_V129_Sep20 (1)'},\n",
      " {'content': '## **2.1.3.3 Topologies of PROFIBUS-MBP (PA)**  \\n'\n",
      "             '<span id=\"page-42-1\"></span>With PROFIBUS-MBP (PA) the slaves '\n",
      "             'are powered via the bus. As a result, copper cables have to be '\n",
      "             'used as the transmission medium.  \\n'\n",
      "             'For PROFIBUS-MBP (PA) line and tree topologies as well as a '\n",
      "             'combination of these are permis...',\n",
      "  'id': 'Copia di PROFIBUS_Design_Guideline_8012_V129_Sep20 (1)'},\n",
      " {'content': '- Spurs (Ex i) electrically isolated from trunk (Ex e)\\n'\n",
      "             \"- Simplified provision of evidence of the spurs' intrinsic \"\n",
      "             'safety using the FISCO model\\n'\n",
      "             '- Increase of the maximum possible number of field devices and '\n",
      "             'cable lengths: bus extension 1 900 m instead of 1 000 m, spur '\n",
      "             'length up to 120 m instead of 60...',\n",
      "  'id': 'Copia di PROFIBUS_Design_Guideline_8012_V129_Sep20 (1)'},\n",
      " {'content': '![](_page_12_Figure_7.jpeg)  \\n'\n",
      "             '**Fig. 6: The connection of DP and PA segments**  \\n'\n",
      "             '**If MBP transmission technology is used** (in process '\n",
      "             'automation), basically any topology is permissible. Linear and '\n",
      "             'tree structures and combinations of both are thus possible. In '\n",
      "             'practice, the \"trunk & spur topology\" ...',\n",
      "  'id': 'Copia di PROFIBUS_Systembeschreibung_ENG_web'}]\n",
      "\n",
      "🧠 Generated Answer:\n",
      "\n",
      "A: The maximum spur length when each spur carries only one slave is 120 m, and when each spur carries four slaves, the maximum spur length is 60 m. The maximum length of the main trunk cable remains 1,000 m in both cases.\n"
     ]
    }
   ],
   "source": [
    "question_7 = \"\"\"A PA segment is used to wire 24 slave devices in a non-hazardous area. Determine the maximum spur length when:\n",
    "a. Each spur carries only one slave,\n",
    "\n",
    "b. Each spur carries four slaves.\n",
    "\n",
    "What is the maximum length of the main trunk cable in each case?\"\"\"\n",
    "process_question(question_7)"
   ]
  },
  {
   "cell_type": "markdown",
   "metadata": {},
   "source": [
    "### 8 - Does PA wiring have to use screened twisted pair cable?"
   ]
  },
  {
   "cell_type": "code",
   "execution_count": null,
   "metadata": {},
   "outputs": [
    {
     "name": "stdout",
     "output_type": "stream",
     "text": [
      "\n",
      "📚 Retrieved Context:\n",
      "\n",
      "[{'content': 'A two-core shielded cable is used for the transmission medium. '\n",
      "             'The important thing here is that different cables are involved '\n",
      "             'for PROFIBUS DP (cable Type A according to IEC 61158 Part 2 '\n",
      "             'Interface RS485(-IS)) and PROFIBUS PA (cable Type A according to '\n",
      "             'IEC 61158 Part 2 Interface MBP(-IS)). (See Table ...',\n",
      "  'id': 'Copia di PROFIBUS_Systembeschreibung_ENG_web'},\n",
      " {'content': 'When connecting the nodes, ensure that the data cables are not '\n",
      "             'mixed up. To achieve high interference resistance of the system '\n",
      "             'against electromagnetic radiation, a shielded data cable (type A '\n",
      "             'is shielded) should definitely be used. The shielding is to be '\n",
      "             'connected to the protective ground on both si...',\n",
      "  'id': 'Copia di PROFIBUS_Systembeschreibung_ENG_web'},\n",
      " {'content': '#### <span id=\"page-112-0\"></span>**Table 3-8: Parameters of '\n",
      "             'line type A (PROFIBUS-MBP (PA))**  \\n'\n",
      "             '| Parameter            | Specified limits             |\\n'\n",
      "             '|----------------------|------------------------------|\\n'\n",
      "             '| Impedance            | 100<br>Ω at f = 31.25<br>kHz |\\n'\n",
      "             '| Operational capacity | ≤ 2<br>nF/...',\n",
      "  'id': 'Copia di PROFIBUS_Design_Guideline_8012_V129_Sep20 (1)'},\n",
      " {'content': '|                                 |        | No short circuit '\n",
      "             'between data line PA + and shielding?                            '\n",
      "             '|                    |                                   |  |  '\n",
      "             '|  |\\n'\n",
      "             '|                                 |        | Data core PA+ '\n",
      "             'intact?                                       ...',\n",
      "  'id': 'Copia di PROFIBUS_Commissioning_8032_V123_Sep22 (1)'}]\n",
      "\n",
      "🧠 Generated Answer:\n",
      "\n",
      "A: Yes, PA wiring should use screened twisted pair cable to ensure high interference resistance and meet the shielding requirements for effective data transmission.\n"
     ]
    }
   ],
   "source": [
    "question_8 = \"Does PA wiring have to use screened twisted pair cable?\"\n",
    "process_question(question_8)"
   ]
  },
  {
   "cell_type": "markdown",
   "metadata": {},
   "source": [
    "### 9 - A non-hazardous plant is currently fitted with 4 to 20 mA instrumentation, wired using a mixture of single and multi-core cable. What are the main considerations when considering moving over to a PROFIBUS PA system?"
   ]
  },
  {
   "cell_type": "code",
   "execution_count": null,
   "metadata": {},
   "outputs": [
    {
     "name": "stdout",
     "output_type": "stream",
     "text": [
      "\n",
      "📚 Retrieved Context:\n",
      "\n",
      "[{'content': '#### **Fig. 24: Stepwise introduction of PROFINET in the '\n",
      "             'intrinsically safe field**\\n'\n",
      "             '#### **PROFIBUS PA remains a key technology**  \\n'\n",
      "             'PROFIBUS PA enables long cable distances and explosion '\n",
      "             'protection in process automation as well as the native, digital '\n",
      "             'integration of field instrumentation in control s...',\n",
      "  'id': 'Copia di PROFIBUS_Systembeschreibung_ENG_web'},\n",
      " {'content': '## <span id=\"page-35-0\"></span>**3.3 Acceptance Measurements - '\n",
      "             'PROFIBUS MBP (PA)**  \\n'\n",
      "             'The PROFIBUS MBP (PA) wiring can be checked with a multimeter or '\n",
      "             'installation tester. Chapter [6.2.3](#page-89-1) describes how '\n",
      "             'to do this. A checklist for the acceptance measurements for '\n",
      "             'PROFIBUS MBP (PA) can be fo...',\n",
      "  'id': 'Copia di PROFIBUS_Commissioning_8032_V123_Sep22 (1)'},\n",
      " {'content': 'A two-core shielded cable is used for the transmission medium. '\n",
      "             'The important thing here is that different cables are involved '\n",
      "             'for PROFIBUS DP (cable Type A according to IEC 61158 Part 2 '\n",
      "             'Interface RS485(-IS)) and PROFIBUS PA (cable Type A according to '\n",
      "             'IEC 61158 Part 2 Interface MBP(-IS)). (See Table ...',\n",
      "  'id': 'Copia di PROFIBUS_Systembeschreibung_ENG_web'},\n",
      " {'content': '## <span id=\"page-95-0\"></span>**General notes**  \\n'\n",
      "             'Thorough planning of the fieldbus segments ensures that they are '\n",
      "             'correctly dimensioned. This is an important step which provides '\n",
      "             'for accelerated commissioning as compared to the conventional '\n",
      "             'interface method.  \\n'\n",
      "             'Both PROFIBUS DP and PROFIBUS MBP (PA)...',\n",
      "  'id': 'Copia di PROFIBUS_Design_Guideline_8012_V129_Sep20 (1)'}]\n",
      "\n",
      "🧠 Generated Answer:\n",
      "\n",
      "A: The main considerations when moving to a PROFIBUS PA system include ensuring compatibility with existing devices, evaluating the required cable lengths and topology, verifying power supply needs, and confirming explosion protection measures. Additionally, planning should account for the transition from analog to digital communication, which enhances integration and safety in process automation.\n"
     ]
    }
   ],
   "source": [
    "question_9 = \"A non-hazardous plant is currently fitted with 4 to 20 mA instrumentation, wired using a mixture of single and multi-core cable. What are the main considerations when considering moving over to a PROFIBUS PA system?\"\n",
    "process_question(question_9)"
   ]
  },
  {
   "cell_type": "markdown",
   "metadata": {},
   "source": [
    "### 10 - Determine the maximum trunk and spur cable lengths for a non-intrinsically safe MBP segment with 20 slaves each connected via the maximum possible spur length. Estimate the required coupler current rating if each slave device takes a maximum of 14 mA."
   ]
  },
  {
   "cell_type": "code",
   "execution_count": null,
   "metadata": {},
   "outputs": [
    {
     "name": "stdout",
     "output_type": "stream",
     "text": [
      "\n",
      "📚 Retrieved Context:\n",
      "\n",
      "[{'content': '## **3.2.3.1 Instructions for PROFIBUS MBP (PA) planning**  \\n'\n",
      "             '- Check the spur lengths according to [Table 3-4](#page-97-1) '\n",
      "             'and observe the maximum permissible length.\\n'\n",
      "             '- The current consumption of the connected nodes and device '\n",
      "             'couplers must not exceed the maximum permissible supply current '\n",
      "             'of the bu...',\n",
      "  'id': 'Copia di PROFIBUS_Design_Guideline_8012_V129_Sep20 (1)'},\n",
      " {'content': '- The maximum trunk cable length is 1 000 m.\\n'\n",
      "             '- A trunk with connected spurs must be used to realize the '\n",
      "             'topology.\\n'\n",
      "             \"- Line type 'A' must be used.  \\n\"\n",
      "             'With DART the main bus (trunk) is also intrinsically safe and '\n",
      "             'can be accessed during operation without the glow of a fire. '\n",
      "             'Sufficient power for realizing ...',\n",
      "  'id': 'Copia di PROFIBUS_Design_Guideline_8012_V129_Sep20 (1)'},\n",
      " {'content': '![](_page_12_Figure_7.jpeg)  \\n'\n",
      "             '**Fig. 6: The connection of DP and PA segments**  \\n'\n",
      "             '**If MBP transmission technology is used** (in process '\n",
      "             'automation), basically any topology is permissible. Linear and '\n",
      "             'tree structures and combinations of both are thus possible. In '\n",
      "             'practice, the \"trunk & spur topology\" ...',\n",
      "  'id': 'Copia di PROFIBUS_Systembeschreibung_ENG_web'},\n",
      " {'content': '*Isegment* = 120 mA < *Isupply current* (240 mA)  \\n'\n",
      "             'Voltage on fieldbus coupler = voltage on source - voltage drop '\n",
      "             'along trunk  \\n'\n",
      "             '*Ufieldbus coupler* = 24 V – (120 mA 44 ohms / km 0.6 km)  \\n'\n",
      "             '*Ufieldbus coupler* = 20.83 V > 9 V ± 10 %  \\n'\n",
      "             'Voltage on field device = voltage on fieldbus coupler – voltage '\n",
      "             'dro...',\n",
      "  'id': 'Copia di PROFIBUS_Design_Guideline_8012_V129_Sep20 (1)'}]\n",
      "\n",
      "🧠 Generated Answer:\n",
      "\n",
      "A: The maximum trunk cable length is 1,000 meters, and the maximum spur length is 60 meters. For 20 slaves, each consuming 14 mA, the total current requirement is 280 mA. Considering a 20% reserve, the required coupler current rating should be at least 336 mA.\n"
     ]
    }
   ],
   "source": [
    "question_10 = \"Determine the maximum trunk and spur cable lengths for a non-intrinsically safe MBP segment with 20 slaves each connected via the maximum possible spur length. Estimate the required coupler current rating if each slave device takes a maximum of 14 mA.\"\n",
    "process_question(question_10)"
   ]
  }
 ],
 "metadata": {
  "kernelspec": {
   "display_name": "venv-industrial-llm",
   "language": "python",
   "name": "python3"
  },
  "language_info": {
   "codemirror_mode": {
    "name": "ipython",
    "version": 3
   },
   "file_extension": ".py",
   "mimetype": "text/x-python",
   "name": "python",
   "nbconvert_exporter": "python",
   "pygments_lexer": "ipython3",
   "version": "3.11.12"
  }
 },
 "nbformat": 4,
 "nbformat_minor": 2
}
