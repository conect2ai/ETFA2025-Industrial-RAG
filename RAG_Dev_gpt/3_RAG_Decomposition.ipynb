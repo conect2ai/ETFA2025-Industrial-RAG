{
 "cells": [
  {
   "cell_type": "code",
   "execution_count": 1,
   "metadata": {},
   "outputs": [
    {
     "data": {
      "text/plain": [
       "True"
      ]
     },
     "execution_count": 1,
     "metadata": {},
     "output_type": "execute_result"
    }
   ],
   "source": [
    "# %pip install \"unstructured[md]\" nltk langchain-text-splitters\n",
    "\n",
    "from dotenv import load_dotenv\n",
    "\n",
    "load_dotenv()"
   ]
  },
  {
   "cell_type": "markdown",
   "metadata": {},
   "source": [
    "## **Single Document**"
   ]
  },
  {
   "cell_type": "code",
   "execution_count": null,
   "metadata": {},
   "outputs": [],
   "source": [
    "from langchain_text_splitters import RecursiveCharacterTextSplitter\n",
    "from langchain_text_splitters import MarkdownHeaderTextSplitter\n",
    "from langchain.document_loaders import TextLoader\n",
    "\n",
    "# Load\n",
    "markdown_path = \"./Processed_Files_Introduction_to_End/CANopen_Integration_7012_V10_Mar11.md\"\n",
    "loader = TextLoader(markdown_path, autodetect_encoding=True)\n",
    "doc = loader.load()\n",
    "doc[0]"
   ]
  },
  {
   "cell_type": "code",
   "execution_count": null,
   "metadata": {},
   "outputs": [],
   "source": [
    "headers_to_split_on = [\n",
    "    (\"#\", \"Header 1\"),\n",
    "    (\"###\", \"Header 3\"),\n",
    "    (\"####\", \"Header 4\"),\n",
    "]\n",
    "\n",
    "# MD splits\n",
    "markdown_splitter = MarkdownHeaderTextSplitter(\n",
    "    headers_to_split_on=headers_to_split_on, strip_headers=False\n",
    ")\n",
    "md_header_splits = markdown_splitter.split_text(doc[0].page_content)\n",
    "md_header_splits"
   ]
  },
  {
   "cell_type": "code",
   "execution_count": null,
   "metadata": {},
   "outputs": [],
   "source": [
    "# Char-level splits\n",
    "chunk_size = 1000\n",
    "chunk_overlap = 200\n",
    "text_splitter = RecursiveCharacterTextSplitter(\n",
    "    chunk_size=chunk_size, chunk_overlap=chunk_overlap\n",
    ")\n",
    "\n",
    "# Split\n",
    "splits = text_splitter.split_documents(md_header_splits)\n",
    "splits"
   ]
  },
  {
   "cell_type": "markdown",
   "metadata": {},
   "source": [
    "## **All Documents**"
   ]
  },
  {
   "cell_type": "code",
   "execution_count": 77,
   "metadata": {},
   "outputs": [],
   "source": [
    "import glob\n",
    "import os\n",
    "from langchain_core.documents import Document"
   ]
  },
  {
   "cell_type": "code",
   "execution_count": 78,
   "metadata": {},
   "outputs": [],
   "source": [
    "# 1. Path/pattern for markdown files\n",
    "folder_path = \"./Processed_Files_Introduction_to_End/*.md\"\n",
    "\n",
    "# 2. Parameters for the Header Splitter\n",
    "headers_to_split_on = [\n",
    "    (\"#\", \"Header 1\"),\n",
    "    (\"##\", \"Header 2\"),\n",
    "    (\"###\", \"Header 3\"),\n",
    "    (\"####\", \"Header 4\"),\n",
    "]\n",
    "markdown_splitter = MarkdownHeaderTextSplitter(\n",
    "    headers_to_split_on=headers_to_split_on, \n",
    "    strip_headers=False\n",
    ")\n",
    "\n",
    "# 3. Parameters for the character-level splitter\n",
    "chunk_size = 1000\n",
    "chunk_overlap = 200\n",
    "text_splitter = RecursiveCharacterTextSplitter(\n",
    "    chunk_size=chunk_size, \n",
    "    chunk_overlap=chunk_overlap\n",
    ")\n",
    "\n",
    "# Final list for all splits from all files\n",
    "all_splits = []\n",
    "\n",
    "for file_path in glob.glob(folder_path):\n",
    "    # a) Load the file as raw text (preserving Markdown)\n",
    "    loader = TextLoader(file_path, autodetect_encoding=True)\n",
    "    docs = loader.load()  # usually returns a list [Document]\n",
    "    \n",
    "    # b) For each Document, perform two splits\n",
    "    for doc in docs:\n",
    "        md_header_splits = markdown_splitter.split_text(doc.page_content)\n",
    "        splits = text_splitter.split_documents(md_header_splits)\n",
    "        \n",
    "        # c) Use the base file name as \"name_file\" (without the path and without extension)\n",
    "        filename = os.path.splitext(os.path.basename(file_path))[0]\n",
    "\n",
    "        for splitted_doc in splits:\n",
    "            splitted_doc.metadata[\"name_file\"] = filename\n",
    "            # Optionally, remove the original \"source\" if not needed:\n",
    "            # splitted_doc.metadata.pop(\"source\", None)\n",
    "\n",
    "        all_splits.extend(splits)"
   ]
  },
  {
   "cell_type": "code",
   "execution_count": null,
   "metadata": {},
   "outputs": [],
   "source": [
    "min_size = 1000  # Minimum size for the merged chunks\n",
    "merged_documents = []  # List to store merged documents\n",
    "buffer_content = \"\"\n",
    "buffer_metadata = {}\n",
    "\n",
    "for doc in all_splits:\n",
    "    text = doc.page_content.strip()  # remove extra spaces if necessary\n",
    "    # If there is no content accumulated in the buffer and the chunk is small,\n",
    "    # initialize the buffer with this chunk.\n",
    "    if not buffer_content and len(text) < min_size:\n",
    "        buffer_content = text\n",
    "        buffer_metadata = doc.metadata\n",
    "    # If there is already content in the buffer, concatenate it with the current chunk.\n",
    "    elif buffer_content:\n",
    "        buffer_content += \"\\n\" + text  # add a line break to separate the texts\n",
    "        # When the buffer reaches or exceeds the minimum size, create a Document\n",
    "        if len(buffer_content) >= min_size:\n",
    "            merged_documents.append(\n",
    "                Document(page_content=buffer_content, metadata=buffer_metadata)\n",
    "            )\n",
    "            buffer_content = \"\"\n",
    "            buffer_metadata = {}\n",
    "    # If the current chunk is already large enough and there is nothing in the buffer, add it directly.\n",
    "    elif len(text) >= min_size:\n",
    "        merged_documents.append(Document(page_content=text, metadata=doc.metadata))\n",
    "\n",
    "# If there is remaining content in the buffer, add it as well.\n",
    "if buffer_content:\n",
    "    merged_documents.append(Document(page_content=buffer_content, metadata=buffer_metadata))\n",
    "\n",
    "# Example of printing the results:\n",
    "for i, document in enumerate(merged_documents):\n",
    "    print(f\"Document {i+1}:\")\n",
    "    print(\"Metadata:\", document.metadata)\n",
    "    print(\"Content (first 200 characters):\", document.page_content[:200])\n",
    "    print(\"-\" * 50)"
   ]
  },
  {
   "cell_type": "code",
   "execution_count": null,
   "metadata": {},
   "outputs": [],
   "source": [
    "print(f\"Generated {len(all_splits)} chunks in total.\")"
   ]
  },
  {
   "cell_type": "code",
   "execution_count": null,
   "metadata": {},
   "outputs": [],
   "source": [
    "print(f\"Generated {len(merged_documents)} chunks in total.\")"
   ]
  },
  {
   "cell_type": "code",
   "execution_count": null,
   "metadata": {},
   "outputs": [],
   "source": [
    "merged_documents"
   ]
  },
  {
   "cell_type": "markdown",
   "metadata": {},
   "source": [
    "## **RAG**"
   ]
  },
  {
   "cell_type": "code",
   "execution_count": 2,
   "metadata": {},
   "outputs": [],
   "source": [
    "from langchain_ollama import OllamaEmbeddings\n",
    "from langchain.vectorstores import FAISS\n",
    "from langchain_ollama import ChatOllama\n",
    "from typing_extensions import TypedDict\n",
    "from typing import List\n",
    "from langchain.schema import Document\n",
    "from langchain.retrievers.multi_query import MultiQueryRetriever\n",
    "from langchain_core.output_parsers import BaseOutputParser\n",
    "from langchain_core.prompts import PromptTemplate\n",
    "from pydantic import BaseModel, Field\n",
    "from langgraph.graph import START, StateGraph\n",
    "from IPython.display import Image, display\n",
    "from langchain_core.output_parsers import StrOutputParser\n",
    "from pprint import pprint\n",
    "from langchain_core.prompts import ChatPromptTemplate\n",
    "from operator import itemgetter\n",
    "from langchain_core.runnables import RunnablePassthrough, RunnableLambda\n",
    "import textwrap\n",
    "from langchain.chat_models import ChatOpenAI"
   ]
  },
  {
   "cell_type": "code",
   "execution_count": 3,
   "metadata": {},
   "outputs": [],
   "source": [
    "# Example embeddings (you can use OpenAIEmbeddings or another)\n",
    "embeddings = OllamaEmbeddings(model=\"nomic-embed-text:latest\")\n",
    "\n",
    "# # Create an in-memory local vector store (FAISS)\n",
    "# vector_store = FAISS.from_documents(splits, embedding=embeddings)"
   ]
  },
  {
   "cell_type": "code",
   "execution_count": 4,
   "metadata": {},
   "outputs": [],
   "source": [
    "vector_store = FAISS.load_local(\"faiss_index\", embeddings, allow_dangerous_deserialization=True)"
   ]
  },
  {
   "cell_type": "code",
   "execution_count": 5,
   "metadata": {},
   "outputs": [
    {
     "name": "stderr",
     "output_type": "stream",
     "text": [
      "/tmp/ipykernel_1071694/2879934330.py:4: LangChainDeprecationWarning: The class `ChatOpenAI` was deprecated in LangChain 0.0.10 and will be removed in 1.0. An updated version of the class exists in the :class:`~langchain-openai package and should be used instead. To use it run `pip install -U :class:`~langchain-openai` and import as `from :class:`~langchain_openai import ChatOpenAI``.\n",
      "  llm = ChatOpenAI(temperature=0, model=\"gpt-4o-mini\")\n"
     ]
    }
   ],
   "source": [
    "# Example of an LLM\n",
    "# llm = ChatOllama(temperature=0, model=\"gemma3:12b\")\n",
    "\n",
    "llm = ChatOpenAI(temperature=0, model=\"gpt-4o-mini\")"
   ]
  },
  {
   "cell_type": "code",
   "execution_count": 6,
   "metadata": {},
   "outputs": [],
   "source": [
    "template = \"\"\"You are a helpful assistant that generates multiple sub-questions related to an input question about PROFIBUS-related documents and specifications in the context of industrial automation. \\n\n",
    "\n",
    "IMPORTANT: FOCUS **ONLY ON PROFIBUS**.  \n",
    "DO NOT INCLUDE **ANYTHING** ABOUT PROFINET.  \n",
    "DO NOT INCLUDE **ANYTHING** ABOUT CANOPEN.  \n",
    "THIS IS **ONLY** ABOUT PROFIBUS.  \n",
    "REPEAT: **PROFIBUS ONLY**.  \n",
    "IGNORE ALL OTHER PROTOCOLS.\n",
    "\n",
    "The goal is to break down the input into a set of sub-problems / sub-questions that can be answered in isolation. \\n\n",
    "Generate multiple search queries related to: {question} \\n\n",
    "Output (5 queries):\n",
    "\"\"\"\n",
    "prompt_decomposition = ChatPromptTemplate.from_template(template)"
   ]
  },
  {
   "cell_type": "code",
   "execution_count": null,
   "metadata": {},
   "outputs": [],
   "source": [
    "# Chain\n",
    "generate_queries_decomposition = ( prompt_decomposition | llm | StrOutputParser() | (lambda x: x.split(\"\\n\")))\n",
    "\n",
    "# Run\n",
    "# 1. What is a GSD file, where can you get it, and what is its function?\n",
    "question = \"What is a GSD file, where can you get it, and what is its function?\"\n",
    "\n",
    "# # 2. What is a token message and how and which devices use it?\n",
    "# question = \"What is a token message and how and which devices use it?\"\n",
    "\n",
    "# 3. Which protocol parameter describes the slave's action time after receiving a message?\n",
    "# question = \"Which protocol parameter describes the slave's action time after receiving a message?\"\n",
    "\n",
    "# 4. How to calculate DP cycle time?\n",
    "# question = \"How to calculate DP cycle time?\"\n",
    "\n",
    "# 5. Briefly explain the function of a watchdog timer in a PROFIBUS DP slave.\n",
    "# question = \"Briefly explain the function of a watchdog timer in a PROFIBUS DP slave.\"\n",
    "\n",
    "# 6. Briefly explain the meaning of “sync” and “freeze” modes. Which device(s) must support these modes?\n",
    "# question = \"Briefly explain the meaning of “sync” and “freeze” modes. Which device(s) must support these modes?\"\n",
    "\n",
    "# 7. Discuss the factors that have a significant effect on the overall cycle time of a DP network.\n",
    "# question = \"Discuss the factors that have a significant effect on the overall cycle time of a DP network.\"\n",
    "\n",
    "# 8. What are the four operating modes of a DP class 1 master? Briefly explain the interaction between the master and its assigned slaves in each mode.\n",
    "# question = \"What are the four operating modes of a DP class 1 master? Briefly explain the interaction between the master and its assigned slaves in each mode.\"\n",
    "\n",
    "# 9. The data unit of a configuration telegram contains the following 3 bytes represented in hexadecimal notation. Decode the meaning of the bytes. \\n- Byte 0:  D1 \\n- Byte 1:  23 \\n- Byte 2:  70\n",
    "# question = \"The data unit of a configuration telegram contains the following 3 bytes represented in hexadecimal notation. Decode the meaning of the bytes. \\n- Byte 0:  D1 \\n- Byte 1:  23 \\n- Byte 2:  70\"\n",
    "\n",
    "# 10. Briefly explain how a slave device, which is in cyclic data exchange, communicates the presence of a diagnostic fault to its controlling master. What does the master do about this?\n",
    "# question = \"Briefly explain how a slave device, which is in cyclic data exchange, communicates the presence of a diagnostic fault to its controlling master. What does the master do about this?\"\n",
    "\n",
    "questions = generate_queries_decomposition.invoke({\"question\":question})"
   ]
  },
  {
   "cell_type": "code",
   "execution_count": null,
   "metadata": {},
   "outputs": [],
   "source": [
    "questions"
   ]
  },
  {
   "cell_type": "code",
   "execution_count": 153,
   "metadata": {},
   "outputs": [],
   "source": [
    "# Prompt\n",
    "template = \"\"\"Here is the question you need to answer in the context of industrial automation and PROFIBUS-related documents and specifications:\n",
    "\n",
    "\\n --- \\n {question} \\n --- \\n\n",
    "\n",
    "Here is any available background question + answer pairs:\n",
    "\n",
    "\\n --- \\n {q_a_pairs} \\n --- \\n\n",
    "\n",
    "Here is additional context relevant to the question: \n",
    "\n",
    "\\n --- \\n {context} \\n --- \\n\n",
    "\n",
    "IMPORTANT: FOCUS **ONLY ON PROFIBUS**.  \n",
    "DO NOT INCLUDE **ANYTHING** ABOUT PROFINET.  \n",
    "DO NOT INCLUDE **ANYTHING** ABOUT CANOPEN.  \n",
    "THIS IS **ONLY** ABOUT PROFIBUS.  \n",
    "REPEAT: **PROFIBUS ONLY**.  \n",
    "IGNORE ALL OTHER PROTOCOLS.\n",
    "\n",
    "Use the above context and any background question + answer pairs to answer the question: \\n {question}\n",
    "\"\"\"\n",
    "\n",
    "decomposition_prompt = ChatPromptTemplate.from_template(template)"
   ]
  },
  {
   "cell_type": "code",
   "execution_count": 154,
   "metadata": {},
   "outputs": [],
   "source": [
    "def format_qa_pair(question, answer):\n",
    "    \"\"\"Format Q and A pair\"\"\"\n",
    "    \n",
    "    formatted_string = \"\"\n",
    "    formatted_string += f\"Question: {question}\\nAnswer: {answer}\\n\\n\"\n",
    "    return formatted_string.strip()"
   ]
  },
  {
   "cell_type": "code",
   "execution_count": 155,
   "metadata": {},
   "outputs": [],
   "source": [
    "q_a_pairs = \"\"\n",
    "for q in questions:\n",
    "    \n",
    "    rag_chain = (\n",
    "    {\"context\": itemgetter(\"question\") | vector_store.as_retriever(), \n",
    "     \"question\": itemgetter(\"question\"),\n",
    "     \"q_a_pairs\": itemgetter(\"q_a_pairs\")} \n",
    "    | decomposition_prompt\n",
    "    | llm\n",
    "    | StrOutputParser())\n",
    "\n",
    "    answer = rag_chain.invoke({\"question\":q,\"q_a_pairs\":q_a_pairs})\n",
    "    q_a_pair = format_qa_pair(q,answer)\n",
    "    q_a_pairs = q_a_pairs + \"\\n---\\n\"+  q_a_pair"
   ]
  },
  {
   "cell_type": "code",
   "execution_count": 156,
   "metadata": {},
   "outputs": [],
   "source": [
    "def wrap_paragraphs(text, width=80) -> str:\n",
    "    \"\"\"\n",
    "    Wrap paragraphs of text to a given width.\n",
    "    \n",
    "    Args:\n",
    "        text: The text to wrap.\n",
    "        width: The width to wrap the text to.\n",
    "\n",
    "    Returns:    \n",
    "        The wrapped text.\n",
    "    \"\"\"\n",
    "    paragraphs = text.split('\\n\\n')  # split on double newlines\n",
    "    wrapped_paragraphs = []\n",
    "    for paragraph in paragraphs:\n",
    "        wrapped_paragraphs.append(textwrap.fill(paragraph, width=width))\n",
    "    return \"\\n\\n\".join(wrapped_paragraphs)"
   ]
  },
  {
   "cell_type": "code",
   "execution_count": null,
   "metadata": {},
   "outputs": [],
   "source": [
    "wrapped_answer = wrap_paragraphs(answer, width=80)\n",
    "print(wrapped_answer)"
   ]
  },
  {
   "cell_type": "code",
   "execution_count": 158,
   "metadata": {},
   "outputs": [],
   "source": [
    "prompt_rag  = \"\"\"\"You are an AI language model assistant that understands PROFIBUS-related documents and specifications in the context of industrial automation.\n",
    "\n",
    "IMPORTANT: FOCUS **ONLY ON PROFIBUS**.  \n",
    "DO NOT INCLUDE **ANYTHING** ABOUT PROFINET.  \n",
    "DO NOT INCLUDE **ANYTHING** ABOUT CANOPEN.  \n",
    "THIS IS **ONLY** ABOUT PROFIBUS.  \n",
    "REPEAT: **PROFIBUS ONLY**.  \n",
    "IGNORE ALL OTHER PROTOCOLS.\n",
    "\n",
    "### Instructions:\n",
    "- Answer in a clear, informative, and technically accurate manner.\n",
    "- Provide a **complete and relevant explanation**, but avoid excessive detail.\n",
    "- Start with a **direct answer**, then expand with useful clarification, examples, or context if appropriate.\n",
    "- Avoid unnecessary filler or repetition.\n",
    "- Answer **in the same language as the question**.\n",
    "- You can say \"I don't know\" if you don't know the answer.\n",
    "\n",
    "### Now answer the following:\n",
    "\n",
    "Question: {question}\n",
    "\n",
    "Context: {context}\n",
    "\n",
    "Answer (in the language of the question):  \n",
    "\"\"\"\n",
    "\n",
    "prompt_rag = ChatPromptTemplate.from_template(prompt_rag)"
   ]
  },
  {
   "cell_type": "code",
   "execution_count": 159,
   "metadata": {},
   "outputs": [],
   "source": [
    "def retrieve_and_rag(question,prompt_rag,sub_question_generator_chain):\n",
    "    \"\"\"RAG on each sub-question\"\"\"\n",
    "    \n",
    "    # Use our decomposition / \n",
    "    sub_questions = sub_question_generator_chain.invoke({\"question\":question})\n",
    "    \n",
    "    # Initialize a list to hold RAG chain results\n",
    "    rag_results = []\n",
    "    \n",
    "    for sub_question in sub_questions:\n",
    "        \n",
    "        # Retrieve documents for each sub-question\n",
    "        retrieved_docs = vector_store.as_retriever().invoke(sub_question)\n",
    "        \n",
    "        # Use retrieved documents and sub-question in RAG chain\n",
    "        answer = (prompt_rag | llm | StrOutputParser()).invoke({\"context\": retrieved_docs, \n",
    "                                                                \"question\": sub_question})\n",
    "        rag_results.append(answer)\n",
    "    \n",
    "    return rag_results,sub_questions\n",
    "\n",
    "# Wrap the retrieval and RAG process in a RunnableLambda for integration into a chain\n",
    "answers, questions = retrieve_and_rag(question, prompt_rag, generate_queries_decomposition)"
   ]
  },
  {
   "cell_type": "code",
   "execution_count": null,
   "metadata": {},
   "outputs": [],
   "source": [
    "answers, questions"
   ]
  },
  {
   "cell_type": "code",
   "execution_count": 161,
   "metadata": {},
   "outputs": [],
   "source": [
    "def format_qa_pairs(questions, answers):\n",
    "    \"\"\"Format Q and A pairs\"\"\"\n",
    "    \n",
    "    formatted_string = \"\"\n",
    "    for i, (question, answer) in enumerate(zip(questions, answers), start=1):\n",
    "        formatted_string += f\"Question {i}: {question}\\nAnswer {i}: {answer}\\n\\n\"\n",
    "    return formatted_string.strip()\n",
    "\n",
    "context = format_qa_pairs(questions, answers)\n",
    "\n",
    "# Prompt\n",
    "template = \"\"\"Here is a set of Q+A pairs:\n",
    "\n",
    "DO NOT — I REPEAT, DO NOT — START YOUR ANSWER WITH ANY OF THE FOLLOWING:\n",
    "- \"Here's a synthesized answer...\"\n",
    "- \"Based on the provided Q&A pairs...\"\n",
    "- \"Here's what I found...\"\n",
    "- \"According to the context...\"\n",
    "- \"Okay, here's a synthesized answer...\"\n",
    "OR ANY OTHER SIMILAR PHRASES. \n",
    "\n",
    "{context}\n",
    "\n",
    "Use these to synthesize an answer (IN THE SAME LANGUAGE AS THE QUESTION) to the question: {question}\n",
    "\n",
    "START THE ANSWER WITH A DIRECT RESPONSE TO THE QUESTION, THEN EXPAND WITH USEFUL CLARIFICATION, EXAMPLES, OR CONTEXT IF APPROPRIATE.\n",
    "\"\"\"\n",
    "\n",
    "prompt = ChatPromptTemplate.from_template(template)\n",
    "\n",
    "final_rag_chain = (\n",
    "    prompt\n",
    "    | llm\n",
    "    | StrOutputParser()\n",
    ")\n",
    "\n",
    "final_answer = final_rag_chain.invoke({\"context\":context,\"question\":question})"
   ]
  },
  {
   "cell_type": "markdown",
   "metadata": {},
   "source": [
    "## **Queries**"
   ]
  },
  {
   "cell_type": "markdown",
   "metadata": {},
   "source": [
    "### 1 - What is a GSD file, where can you get it, and what is its function?"
   ]
  },
  {
   "cell_type": "code",
   "execution_count": 18,
   "metadata": {},
   "outputs": [
    {
     "name": "stdout",
     "output_type": "stream",
     "text": [
      "A GSD (General Station Description) file is a standardized file format used in\n",
      "PROFIBUS networks to describe the capabilities and parameters of PROFIBUS\n",
      "devices. Its primary function is to provide essential configuration and\n",
      "communication information to engineering tools, enabling the integration and\n",
      "management of devices within the network.\n",
      "\n",
      "You can obtain a GSD file for a specific PROFIBUS device through several\n",
      "avenues:\n",
      "\n",
      "1. **Manufacturer's Website**: Most manufacturers offer GSD files in the support\n",
      "or downloads section of their official websites. 2. **PROFIBUS International**:\n",
      "This organization maintains a repository of GSD files for various devices, which\n",
      "can be accessed through their website. 3. **Technical Documentation**: The\n",
      "device's user manual or technical documentation often includes information on\n",
      "where to find the GSD file. 4. **Engineering Tools**: Some engineering software\n",
      "tools that support PROFIBUS configuration may come with a library of GSD files\n",
      "or the capability to download them directly. 5. **Technical Support**: If you\n",
      "cannot find the GSD file online, contacting the manufacturer's technical support\n",
      "can provide assistance.\n",
      "\n",
      "The GSD file contains critical information such as the device type, supported\n",
      "communication protocols, I/O data structures, and configuration parameters. This\n",
      "information allows automation systems to automatically recognize and configure\n",
      "devices, ensuring seamless communication and interoperability within the\n",
      "PROFIBUS network. For instance, when a new device is added, the engineering tool\n",
      "reads the GSD file to understand how to communicate with it and configure its\n",
      "settings, simplifying the integration process in industrial automation systems.\n"
     ]
    }
   ],
   "source": [
    "wrapped_answer = wrap_paragraphs(final_answer, width=80)\n",
    "print(wrapped_answer)"
   ]
  },
  {
   "cell_type": "markdown",
   "metadata": {},
   "source": [
    "### 2 - What is a token message and how and which devices use it?"
   ]
  },
  {
   "cell_type": "code",
   "execution_count": 30,
   "metadata": {},
   "outputs": [
    {
     "name": "stdout",
     "output_type": "stream",
     "text": [
      "A token message in the context of PROFIBUS communication protocols is a control\n",
      "message that facilitates access to the communication medium among master\n",
      "stations through a token-passing mechanism. This mechanism ensures that only the\n",
      "master station holding the token can transmit data, promoting fair access to the\n",
      "network.\n",
      "\n",
      "In a PROFIBUS network, the specific devices that utilize token messages are the\n",
      "master devices, particularly the DP-master (Class 1). These master devices are\n",
      "responsible for initiating communication and managing data flow to and from\n",
      "slave devices. When a DP-master holds the token, it can send messages to the\n",
      "connected DP-slaves without needing an external request.\n",
      "\n",
      "The token message serves several critical functions. It allows for organized\n",
      "communication by ensuring that all master stations have equal opportunities to\n",
      "transmit data, thus preventing any single station from monopolizing the bus.\n",
      "Additionally, the token-passing protocol guarantees short reaction times for\n",
      "urgent messages, as each token holder can send at least one urgent message\n",
      "during each token rotation. This is particularly important in industrial\n",
      "automation environments where timely communication is essential.\n",
      "\n",
      "Moreover, the token-passing system is adaptable; it can dynamically include or\n",
      "exclude devices from the logical ring when new master stations are added or\n",
      "existing ones are removed, allowing for seamless network reconfiguration without\n",
      "manual intervention. This flexibility, combined with the fairness and efficiency\n",
      "of the token message mechanism, makes it a vital component of PROFIBUS\n",
      "communication.\n"
     ]
    }
   ],
   "source": [
    "wrapped_answer = wrap_paragraphs(final_answer, width=80)\n",
    "print(wrapped_answer)"
   ]
  },
  {
   "cell_type": "markdown",
   "metadata": {},
   "source": [
    "### 3 - Which protocol parameter describes the slave's action time after receiving a message?"
   ]
  },
  {
   "cell_type": "code",
   "execution_count": 54,
   "metadata": {},
   "outputs": [
    {
     "name": "stdout",
     "output_type": "stream",
     "text": [
      "The protocol parameter that describes the slave's action time after receiving a\n",
      "message is the **Send Timeout**. This parameter defines the maximum time allowed\n",
      "for a slave device to respond to a request from the master after the message has\n",
      "been received.\n",
      "\n",
      "The Send Timeout is crucial for ensuring timely communication within the\n",
      "PROFIBUS network. It is negotiated between the DP-master and the DP-slave,\n",
      "allowing the slave to adjust its response time based on the master's\n",
      "requirements. For example, if a master device sends a request for data, the Send\n",
      "Timeout will dictate how quickly the slave must process that request and send\n",
      "back the appropriate response.\n",
      "\n",
      "In practical applications, if the Send Timeout is set too long, it can lead to\n",
      "delays in communication, potentially affecting the overall performance of the\n",
      "system. Conversely, if it is set too short, the slave may not have enough time\n",
      "to process the request, leading to communication errors. Therefore, configuring\n",
      "the Send Timeout appropriately is essential for maintaining efficient and\n",
      "reliable operation in industrial automation systems.\n"
     ]
    }
   ],
   "source": [
    "wrapped_answer = wrap_paragraphs(final_answer, width=80)\n",
    "print(wrapped_answer)"
   ]
  },
  {
   "cell_type": "markdown",
   "metadata": {},
   "source": [
    "### 4 - How to calculate DP cycle time?"
   ]
  },
  {
   "cell_type": "code",
   "execution_count": 66,
   "metadata": {},
   "outputs": [
    {
     "name": "stdout",
     "output_type": "stream",
     "text": [
      "To calculate the DP cycle time in a PROFIBUS network, you can use the formula:\n",
      "\n",
      "**DP Cycle Time (TDP) = TDX + TI + TO + TM**\n",
      "\n",
      "Where: - **TDX** is the duration of the cyclic part of the DP cycle. - **TI** is\n",
      "the Input Time, which is the time required to acquire and update the input data\n",
      "from the DP slaves. - **TO** is the Output Time, which is the time required to\n",
      "process and send the output data to the DP slaves. - **TM** is the Master Time,\n",
      "which is the time allocated for the DP master to process application tasks after\n",
      "the cyclic part of the cycle.\n",
      "\n",
      "For example, if you have a system where TDX is 200 µs, TI is 100 µs, TO is 150\n",
      "µs, and TM is 50 µs, the total DP cycle time would be:\n",
      "\n",
      "**TDP = 200 µs + 100 µs + 150 µs + 50 µs = 500 µs**\n",
      "\n",
      "This calculation is crucial for ensuring that the network operates efficiently\n",
      "and meets the timing requirements of the application. Additionally, factors such\n",
      "as the number of devices, data size, and network load can influence these time\n",
      "parameters, so it's important to consider them when performing your\n",
      "calculations.\n"
     ]
    }
   ],
   "source": [
    "wrapped_answer = wrap_paragraphs(final_answer, width=80)\n",
    "print(wrapped_answer)"
   ]
  },
  {
   "cell_type": "markdown",
   "metadata": {},
   "source": [
    "### 5 - Briefly explain the function of a watchdog timer in a PROFIBUS DP slave."
   ]
  },
  {
   "cell_type": "code",
   "execution_count": 102,
   "metadata": {},
   "outputs": [
    {
     "name": "stdout",
     "output_type": "stream",
     "text": [
      "The function of a watchdog timer in a PROFIBUS DP slave is to monitor\n",
      "communication between the DP master and the slave device, ensuring safe\n",
      "operation. If the DP master fails to send signals within a specified timeframe,\n",
      "the watchdog timer activates a safety mechanism that sets the slave's outputs to\n",
      "a safe state. This is crucial for preventing unintended operations that could\n",
      "lead to hazardous situations.\n",
      "\n",
      "For instance, if the DPV1 feature is not supported, the watchdog timer's base\n",
      "time is typically set to 10 ms. In cases where DPV1 is supported, the base time\n",
      "can vary based on additional settings. The timer's duration is calculated using\n",
      "a formula that incorporates the Watchdog Time Base and specific factors,\n",
      "allowing the slave device to respond appropriately to communication failures.\n",
      "This mechanism enhances the reliability and safety of industrial automation\n",
      "systems by ensuring that devices can react to potential issues effectively.\n"
     ]
    }
   ],
   "source": [
    "wrapped_answer = wrap_paragraphs(final_answer, width=80)\n",
    "print(wrapped_answer)"
   ]
  },
  {
   "cell_type": "markdown",
   "metadata": {},
   "source": [
    "### 6 - Briefly explain the meaning of “sync” and “freeze” modes. Which device(s) must support these modes?"
   ]
  },
  {
   "cell_type": "code",
   "execution_count": 114,
   "metadata": {},
   "outputs": [
    {
     "name": "stdout",
     "output_type": "stream",
     "text": [
      "Les modes \"sync\" et \"freeze\" dans le contexte de la communication PROFIBUS sont\n",
      "des mécanismes essentiels pour la synchronisation et la gestion des données\n",
      "entre les dispositifs maîtres et esclaves.\n",
      "\n",
      "Le mode \"sync\" permet de synchroniser les objets de données de sortie dans les\n",
      "esclaves DP. Lorsqu'une commande de synchronisation est envoyée par le maître,\n",
      "les valeurs des objets de données de sortie sont mises à jour et gelées,\n",
      "garantissant que tous les esclaves traitent les données de manière coordonnée.\n",
      "Ce mode est crucial pour des applications nécessitant une synchronisation\n",
      "précise, comme dans les systèmes de contrôle de mouvement.\n",
      "\n",
      "Le mode \"freeze\", quant à lui, concerne la gestion des données d'entrée.\n",
      "Lorsqu'il est activé, il permet de geler les valeurs des objets de données\n",
      "d'entrée dans les esclaves DP, empêchant toute mise à jour jusqu'à ce qu'une\n",
      "commande de dégel soit reçue. Cela assure que les données traitées restent\n",
      "constantes pendant des opérations critiques.\n",
      "\n",
      "Les dispositifs qui doivent supporter le mode \"sync\" incluent les maîtres et les\n",
      "esclaves DP impliqués dans la communication isochrone. Pour le mode \"freeze\", ce\n",
      "sont principalement les esclaves DP qui doivent être capables de gérer cette\n",
      "fonctionnalité. Si un esclave ne supporte pas l'une de ces fonctions, il doit\n",
      "indiquer son statut par un message d'erreur dans son diagnostic.\n"
     ]
    }
   ],
   "source": [
    "wrapped_answer = wrap_paragraphs(final_answer, width=80)\n",
    "print(wrapped_answer)"
   ]
  },
  {
   "cell_type": "markdown",
   "metadata": {},
   "source": [
    "### 7 - Discuss the factors that have a significant effect on the overall cycle time of a DP network."
   ]
  },
  {
   "cell_type": "code",
   "execution_count": 126,
   "metadata": {},
   "outputs": [
    {
     "name": "stdout",
     "output_type": "stream",
     "text": [
      "The overall cycle time of a DP network is significantly affected by several key\n",
      "factors, including input and output times, the number of connected devices, data\n",
      "transmission rates, network topology, and device configuration.\n",
      "\n",
      "Input Time (TI) and Output Time (TO) are critical components that determine how\n",
      "quickly data can be acquired from and sent to the DP-slaves. A longer TI means\n",
      "that the master takes more time to gather input data, while a longer TO delays\n",
      "the output of data to the slaves. Both of these times must be minimized for\n",
      "efficient operation.\n",
      "\n",
      "The number of devices connected to the network also plays a crucial role. As\n",
      "more DP-slaves are added, the master must spend additional time polling each\n",
      "device, which can lead to increased cycle times. For instance, if a master\n",
      "communicates with 10 slaves instead of 5, the cycle time will generally increase\n",
      "due to the additional polling required.\n",
      "\n",
      "Data transmission rates are another significant factor. Higher transmission\n",
      "rates allow for faster data exchange, reducing the time it takes to complete a\n",
      "cycle. For example, operating at 1.5 Mbit/s will typically yield shorter cycle\n",
      "times compared to 9.6 kbit/s, as the time taken to transmit data packets is\n",
      "less.\n",
      "\n",
      "Network topology and layout can also impact cycle time. Different\n",
      "configurations, such as line or star topologies, affect the distance between\n",
      "devices and the overall communication path. A longer path can introduce delays\n",
      "due to signal propagation and potential data collisions, thereby increasing\n",
      "cycle time.\n",
      "\n",
      "Finally, the configuration of the DP devices themselves is vital. Each device\n",
      "may have different processing times and time parameters that can affect the\n",
      "overall cycle time. For example, if a slave device is configured to handle a\n",
      "large amount of data or complex tasks, it may take longer to process its part of\n",
      "the cycle, contributing to an increase in the overall cycle time.\n",
      "\n",
      "In summary, optimizing these factors—input and output times, the number of\n",
      "devices, transmission rates, network topology, and device configuration—is\n",
      "essential for minimizing the overall cycle time in a DP network and ensuring\n",
      "efficient communication.\n"
     ]
    }
   ],
   "source": [
    "wrapped_answer = wrap_paragraphs(final_answer, width=80)\n",
    "print(wrapped_answer)"
   ]
  },
  {
   "cell_type": "markdown",
   "metadata": {},
   "source": [
    "### 8 - What are the four operating modes of a DP class 1 master? Briefly explain the interaction between the master and its assigned slaves in each mode."
   ]
  },
  {
   "cell_type": "code",
   "execution_count": 138,
   "metadata": {},
   "outputs": [
    {
     "name": "stdout",
     "output_type": "stream",
     "text": [
      "Les quatre modes de fonctionnement d'un maître PROFIBUS DP de classe 1 sont : le\n",
      "mode d'initialisation, le mode de paramétrage, le mode d'échange de données\n",
      "utilisateur et le mode de diagnostic.\n",
      "\n",
      "1. **Mode d'initialisation** : Dans ce mode, le maître DP vérifie la présence et\n",
      "l'état des esclaves connectés. Il lit les informations de diagnostic et\n",
      "configure les esclaves selon les paramètres définis. Par exemple, si un esclave\n",
      "est déconnecté, le maître doit le détecter et ajuster son fonctionnement en\n",
      "conséquence.\n",
      "\n",
      "2. **Mode de paramétrage** : Après l'initialisation, le maître envoie des\n",
      "requêtes de paramétrage aux esclaves pour les configurer correctement. Cela\n",
      "garantit que chaque esclave est prêt à communiquer. Si un esclave nécessite des\n",
      "paramètres spécifiques pour fonctionner, le maître s'assure de les appliquer à\n",
      "ce stade.\n",
      "\n",
      "3. **Mode d'échange de données utilisateur** : Une fois les esclaves configurés,\n",
      "le maître entre dans ce mode pour échanger de manière cyclique des données\n",
      "d'entrée et de sortie avec les esclaves. C'est ici que les données en temps réel\n",
      "sont transmises, permettant au système d'automatisation de fonctionner\n",
      "efficacement.\n",
      "\n",
      "4. **Mode de diagnostic** : Dans ce mode, le maître peut lire les informations\n",
      "de diagnostic des esclaves pour surveiller leur état et leur santé. Cela permet\n",
      "au maître de détecter et de répondre à tout problème ou alarme qui pourrait\n",
      "survenir pendant le fonctionnement.\n",
      "\n",
      "Ces modes assurent une gestion efficace de la communication entre le maître\n",
      "PROFIBUS DP de classe 1 et ses esclaves, facilitant à la fois la configuration\n",
      "et l'échange de données en temps réel.\n"
     ]
    }
   ],
   "source": [
    "wrapped_answer = wrap_paragraphs(final_answer, width=80)\n",
    "print(wrapped_answer)"
   ]
  },
  {
   "cell_type": "markdown",
   "metadata": {},
   "source": [
    "### 9 - The data unit of a configuration telegram contains the following 3 bytes represented in hexadecimal notation. Decode the meaning of the bytes. \\n- Byte 0:  D1 \\n- Byte 1:  23 \\n- Byte 2:  70"
   ]
  },
  {
   "cell_type": "code",
   "execution_count": 150,
   "metadata": {},
   "outputs": [
    {
     "name": "stdout",
     "output_type": "stream",
     "text": [
      "Les trois octets d'un telegramme de configuration, représentés en notation\n",
      "hexadécimale, peuvent être décodés comme suit :\n",
      "\n",
      "- **Octet 0 (D1)** : Cet octet représente généralement le code de commande ou la\n",
      "fonction du telegramme. Il indique l'action spécifique que le maître demande à\n",
      "l'esclave, comme une opération de lecture ou d'écriture.\n",
      "\n",
      "- **Octet 1 (23)** : Cet octet sert souvent d'identifiant ou d'adresse. Dans le\n",
      "contexte de PROFIBUS, il peut représenter l'adresse de l'esclave avec lequel le\n",
      "maître communique. Chaque appareil sur le réseau PROFIBUS a une adresse unique,\n",
      "et cet octet aide à diriger le telegramme vers le bon appareil.\n",
      "\n",
      "- **Octet 2 (70)** : Cet octet peut contenir des données supplémentaires ou des\n",
      "paramètres pertinents à la commande spécifiée dans l'octet D1. Par exemple, il\n",
      "pourrait indiquer le type de configuration demandée ou des paramètres\n",
      "spécifiques nécessaires pour l'opération en cours.\n",
      "\n",
      "En résumé, ces trois octets forment un telegramme structuré qui permet au maître\n",
      "de communiquer efficacement avec l'esclave, garantissant que la bonne commande\n",
      "est exécutée à l'adresse souhaitée avec les paramètres appropriés. Par exemple,\n",
      "si D1 indique une demande de configuration, l'esclave saura qu'il doit se\n",
      "préparer à un changement de ses paramètres.\n"
     ]
    }
   ],
   "source": [
    "wrapped_answer = wrap_paragraphs(final_answer, width=80)\n",
    "print(wrapped_answer)"
   ]
  },
  {
   "cell_type": "markdown",
   "metadata": {},
   "source": [
    "### 10 - Briefly explain how a slave device, which is in cyclic data exchange, communicates the presence of a diagnostic fault to its controlling master. What does the master do about this?\n"
   ]
  },
  {
   "cell_type": "code",
   "execution_count": 48,
   "metadata": {},
   "outputs": [
    {
     "name": "stdout",
     "output_type": "stream",
     "text": [
      "A slave device in cyclic data exchange communicates the presence of a diagnostic\n",
      "fault to its controlling master primarily through error frames and diagnostic\n",
      "data within the cyclic data transmission. When a fault occurs, the slave device\n",
      "can insert an error frame into the communication stream, interrupting the normal\n",
      "data flow and signaling the master to a problem. Alternatively, the fault\n",
      "information can be encoded within a specific byte or set of bytes within the\n",
      "slave’s cyclic data transmission – a designated area for diagnostic information.\n",
      "This allows the master to receive the fault indication alongside the regular\n",
      "data.\n",
      "\n",
      "The master's response to this diagnostic fault varies depending on the severity\n",
      "of the fault and the configured system behavior. Generally, the master will\n",
      "acknowledge the error, potentially logging it for later analysis. It might also\n",
      "attempt to recover from the fault by re-requesting data from the faulty slave,\n",
      "essentially trying a retry. More sophisticated systems might trigger a\n",
      "diagnostic routine, prompting the slave to provide more detailed information\n",
      "about the fault. In critical applications, the master might even initiate a\n",
      "shutdown or switch to a redundant system to ensure continued operation.\n",
      "\n",
      "The specific implementation details, such as the format of the error frames and\n",
      "the diagnostic data, are defined by the PROFIBUS standard and the device\n",
      "manufacturer's documentation. For example, the \"Installation Guide for PROFIBUS\n",
      "DP/FMS\" (PNO-Order No 2.112) outlines general procedures for handling errors,\n",
      "while device-specific manuals will detail the meaning of specific diagnostic\n",
      "codes. Furthermore, elements like B.3.1.84, referenced in the provided text,\n",
      "relate to specific configurations and functionalities within the PROFIBUS\n",
      "system, particularly concerning fault disconnection units and the FISCO model,\n",
      "highlighting the complexity and detail involved in diagnostic fault reporting.\n",
      "\n",
      "\n",
      "\n",
      "\n"
     ]
    }
   ],
   "source": [
    "wrapped_answer = wrap_paragraphs(final_answer, width=80)\n",
    "print(wrapped_answer)"
   ]
  }
 ],
 "metadata": {
  "kernelspec": {
   "display_name": "venv-industrial-llm",
   "language": "python",
   "name": "python3"
  },
  "language_info": {
   "codemirror_mode": {
    "name": "ipython",
    "version": 3
   },
   "file_extension": ".py",
   "mimetype": "text/x-python",
   "name": "python",
   "nbconvert_exporter": "python",
   "pygments_lexer": "ipython3",
   "version": "3.11.12"
  }
 },
 "nbformat": 4,
 "nbformat_minor": 2
}
